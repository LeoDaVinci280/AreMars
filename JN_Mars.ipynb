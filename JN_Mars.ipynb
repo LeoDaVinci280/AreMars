{
 "cells": [
  {
   "cell_type": "markdown",
   "metadata": {},
   "source": [
    "Début du projet : "
   ]
  },
  {
   "cell_type": "code",
   "execution_count": 933,
   "metadata": {},
   "outputs": [],
   "source": [
    "%matplotlib inline     \n",
    "# ^Sans animations\n",
    "# %matplotlib notebook \n",
    "# ^Avec animations\n",
    "import numpy as np\n",
    "import matplotlib.pyplot as plt\n",
    "from matplotlib import animation\n",
    "import random\n",
    "#from random import * "
   ]
  },
  {
   "cell_type": "markdown",
   "metadata": {},
   "source": [
    "On commence par faire des dictionnaires sur les probabilités de décès et de descendance en fonction de la décennie."
   ]
  },
  {
   "cell_type": "code",
   "execution_count": 934,
   "metadata": {},
   "outputs": [],
   "source": [
    "# Dictionnaire représentant la distribution de probabilité des descendants.\n",
    "# clef = nombre de descendants et valeur = probabilité\n",
    "\n",
    "p0 = {0 : 1.0}\n",
    "\n",
    "p10 = {0 : 1.0}\n",
    "\n",
    "p20 = {0 : 0.7,\n",
    "     1 : 0.2,\n",
    "     2 : 0.1}\n",
    "\n",
    "p30 = {0 : 0.5,\n",
    "     1 : 0.35,\n",
    "     2 : 0.15}\n",
    "\n",
    "p40 = {0 : 0.75,\n",
    "     1 : 0.15,\n",
    "     2 : 0.1}\n",
    "\n",
    "p50 = {0 : 0.9,\n",
    "     1 : 0.1}\n",
    "\n",
    "p60 = {0 : 1.0}\n",
    " \n",
    "p70 = {0 : 1.0}\n",
    "\n",
    "p80 = {0 : 1.0}\n",
    "\n",
    "p90 = {0 : 1.0}\n",
    "\n",
    "p = {0 : p0,\n",
    "    10 : p10,\n",
    "    20 : p20,\n",
    "    30 : p30,\n",
    "    40 : p40,\n",
    "    50 : p50,\n",
    "    60 : p60,\n",
    "    70 : p70,\n",
    "    80 : p80,\n",
    "    90 : p90}"
   ]
  },
  {
   "cell_type": "code",
   "execution_count": 935,
   "metadata": {},
   "outputs": [
    {
     "data": {
      "text/plain": [
       "1"
      ]
     },
     "execution_count": 935,
     "metadata": {},
     "output_type": "execute_result"
    }
   ],
   "source": [
    "def number_of_descendants(p, a):\n",
    "    '''\n",
    "    dict[int:dict[int:float]]*int->int\n",
    "    Étant donnée une distibution de probabilité 'p', et un age, la fonction retourne le nombre de descendants d'un individu.\n",
    "    '''\n",
    "    u = np.random.random()\n",
    "    s = 0\n",
    "    pb = p[a]\n",
    "    for k in pb.keys():\n",
    "        s += pb[k]\n",
    "        if u < s:\n",
    "            return k\n",
    "        \n",
    "number_of_descendants(p, 30)"
   ]
  },
  {
   "cell_type": "markdown",
   "metadata": {},
   "source": [
    " On teste cette fonction pour verifier la cohérence des dictionnaires de proba."
   ]
  },
  {
   "cell_type": "code",
   "execution_count": 936,
   "metadata": {},
   "outputs": [
    {
     "data": {
      "text/plain": [
       "2"
      ]
     },
     "execution_count": 936,
     "metadata": {},
     "output_type": "execute_result"
    }
   ],
   "source": [
    "def number_of_descendants_in_a_life_time(p):\n",
    "    '''\n",
    "    dict[int:dict[int:float]]->int\n",
    "    nombre de minots sur une vie\n",
    "    '''\n",
    "    a = 0\n",
    "    nb_de_m = 0\n",
    "    while a <= 90:\n",
    "        nb_de_m += number_of_descendants(p, a)\n",
    "        a += 10\n",
    "    return nb_de_m\n",
    "\n",
    "\n",
    "number_of_descendants_in_a_life_time(p)"
   ]
  },
  {
   "cell_type": "markdown",
   "metadata": {},
   "source": [
    "On créé le dictionnaire initial de la population"
   ]
  },
  {
   "cell_type": "code",
   "execution_count": 937,
   "metadata": {},
   "outputs": [],
   "source": [
    "pop_init = {0 : 0,\n",
    "    10 : 0,\n",
    "    20 : 50,\n",
    "    30 : 50,\n",
    "    40 : 10,\n",
    "    50 : 5,\n",
    "    60 : 0,\n",
    "    70 : 0,\n",
    "    80 : 0,\n",
    "    90 : 0}"
   ]
  },
  {
   "cell_type": "markdown",
   "metadata": {},
   "source": [
    "Fonction qui donne le nombre total de naissances en fonction du dictionnaire de population"
   ]
  },
  {
   "cell_type": "code",
   "execution_count": 938,
   "metadata": {},
   "outputs": [
    {
     "data": {
      "text/plain": [
       "59"
      ]
     },
     "execution_count": 938,
     "metadata": {},
     "output_type": "execute_result"
    }
   ],
   "source": [
    "def nb_naissances(p1, p2):\n",
    "    '''\n",
    "    dict[int:int] * dict[int:dict[int:float]] -> int\n",
    "    renvoie le nombre de naissances pendant 10 ans\n",
    "    '''\n",
    "    a = 0\n",
    "    nv_enfant = 0\n",
    "    for a in p1:\n",
    "        b = p1[a]\n",
    "        i = 0\n",
    "        while i < b:\n",
    "            nv_enfant += number_of_descendants(p2, a)\n",
    "            i += 1\n",
    "    return nv_enfant \n",
    "\n",
    "nb_naissances(pop_init,p)     "
   ]
  },
  {
   "cell_type": "markdown",
   "metadata": {},
   "source": [
    "On met ensuite à jours le dictionnaire de population\n",
    "\n",
    "on fait l'hypothèse qu'au dessus de 99 ans, on meurt"
   ]
  },
  {
   "cell_type": "code",
   "execution_count": 939,
   "metadata": {},
   "outputs": [
    {
     "data": {
      "text/plain": [
       "{0: 46, 10: 0, 20: 0, 30: 50, 40: 50, 50: 10, 60: 5, 70: 0, 80: 0, 90: 0}"
      ]
     },
     "execution_count": 939,
     "metadata": {},
     "output_type": "execute_result"
    }
   ],
   "source": [
    "def pop_decade(pop,p):\n",
    "    '''\n",
    "    dict[int:int] * dict[int:dict[int:float]] -> dict[int:int]\n",
    "    renvoie le dict de population apres une decade (lire avec l'accent svp)\n",
    "    '''\n",
    "    nv_enfant = nb_naissances(pop, p)\n",
    "    pop_ev = {}\n",
    "    i = 0\n",
    "    while i < 90:\n",
    "        pop_ev[(i + 10)] = pop[i]\n",
    "        i += 10\n",
    "        \n",
    "    pop_ev[0] = nv_enfant\n",
    "    \n",
    "    return pop_ev\n",
    "    \n",
    "\n",
    "pop_decade(pop_init,p)\n",
    "    "
   ]
  },
  {
   "cell_type": "markdown",
   "metadata": {},
   "source": [
    "On introduit ensuite à l'aide d'un dictionnaire les probabilités de mortalités."
   ]
  },
  {
   "cell_type": "code",
   "execution_count": 940,
   "metadata": {},
   "outputs": [],
   "source": [
    "# Dictionnaire représentant la distribution de probabilité de mourir.\n",
    "# clef = age et valeur = probabilité\n",
    "\n",
    "pmort = {0 : 0.1,\n",
    "    10 : 0.02,\n",
    "    20 : 0.02,\n",
    "    30 : 0.05,\n",
    "    40 : 0.08,\n",
    "    50 : 0.09,\n",
    "    60 : 0.12,\n",
    "    70 : 0.15,\n",
    "    80 : 0.30,\n",
    "    90 : 1.0}"
   ]
  },
  {
   "cell_type": "markdown",
   "metadata": {},
   "source": [
    "Puis on fait une fonction plata_o_plomo qui donne avec le dictionnaire précédent si un indivudu est mort ou pas. "
   ]
  },
  {
   "cell_type": "code",
   "execution_count": 941,
   "metadata": {},
   "outputs": [
    {
     "data": {
      "text/plain": [
       "0"
      ]
     },
     "execution_count": 941,
     "metadata": {},
     "output_type": "execute_result"
    }
   ],
   "source": [
    "def plata_o_plomo(pmort, age):\n",
    "    '''\n",
    "    dict[int:float]*int->int\n",
    "    renvoie 0 si vivant et 1 si mort\n",
    "    '''\n",
    "    u = np.random.random()\n",
    "    if u < pmort[age]:\n",
    "        return 1\n",
    "    else :\n",
    "        return 0\n",
    "plata_o_plomo(pmort,30)"
   ]
  },
  {
   "cell_type": "markdown",
   "metadata": {},
   "source": [
    "Puis on créé une fonction qui va nous donner le nombre de mort pour une generation (decade)"
   ]
  },
  {
   "cell_type": "code",
   "execution_count": 942,
   "metadata": {},
   "outputs": [
    {
     "data": {
      "text/plain": [
       "1"
      ]
     },
     "execution_count": 942,
     "metadata": {},
     "output_type": "execute_result"
    }
   ],
   "source": [
    "def mort_gen(pmort, nb_gen, age):\n",
    "    '''\n",
    "    dict[int:float]*int*int->int\n",
    "    Renvoie le nombre de mort d'une generation \n",
    "    '''\n",
    "    i = 0\n",
    "    morts = 0\n",
    "    while i < nb_gen:\n",
    "        morts += plata_o_plomo(pmort, age)\n",
    "        i += 1\n",
    "    return morts\n",
    "\n",
    "mort_gen(pmort, 50, 30)    "
   ]
  },
  {
   "cell_type": "markdown",
   "metadata": {},
   "source": [
    "On fait ensuite passer l'ensemble des générations de la population dans la fonction pour avoir le nombre de gens en vie à la decade suivante (toujours avec l'accent svp)"
   ]
  },
  {
   "cell_type": "code",
   "execution_count": 943,
   "metadata": {},
   "outputs": [
    {
     "data": {
      "text/plain": [
       "{0: 0, 10: 0, 20: 48, 30: 46, 40: 9, 50: 5, 60: 0, 70: 0, 80: 0, 90: 0}"
      ]
     },
     "execution_count": 943,
     "metadata": {},
     "output_type": "execute_result"
    }
   ],
   "source": [
    "def pop_vivante(pmort, pop):\n",
    "    '''\n",
    "    dict[int:float]*dict[int:int]->dict[int:int]\n",
    "    Renvoie la population moins les morts\n",
    "    '''\n",
    "    \n",
    "    pop_ev_ok = {}\n",
    "    i = 0\n",
    "    for i in pop :\n",
    "        pop_ev_ok[i] = pop[i] - mort_gen(pmort, pop[i], i)\n",
    "    return pop_ev_ok\n",
    "\n",
    "pop_vivante(pmort, pop_init)"
   ]
  },
  {
   "cell_type": "markdown",
   "metadata": {},
   "source": [
    "On écrit ensuite la fonction finale qui nous donne après 10 ans la population (naissance puis mort)."
   ]
  },
  {
   "cell_type": "code",
   "execution_count": 944,
   "metadata": {},
   "outputs": [
    {
     "name": "stdout",
     "output_type": "stream",
     "text": [
      "Population à la génération suivante\n"
     ]
    },
    {
     "data": {
      "text/plain": [
       "{0: 59, 10: 0, 20: 0, 30: 47, 40: 48, 50: 10, 60: 5, 70: 0, 80: 0, 90: 0}"
      ]
     },
     "execution_count": 944,
     "metadata": {},
     "output_type": "execute_result"
    }
   ],
   "source": [
    "def pop_next(pop, p, pmort):\n",
    "    \"\"\"\n",
    "    dict[int:int] * dict[int:dict[int:float]] * dict[int:float] -> dict[int:int]\n",
    "    renvoie la population a la génération suivante\n",
    "    \"\"\"\n",
    "    popnext = pop_decade(pop, p)\n",
    "    popnext = pop_vivante(pmort, popnext)\n",
    "    \n",
    "    return popnext\n",
    "\n",
    "print(\"Population à la génération suivante\")\n",
    "pop_next(pop_init, p, pmort)"
   ]
  },
  {
   "cell_type": "markdown",
   "metadata": {},
   "source": [
    "On introduit ensuite une fonction pour avoir la population Pop après une nombre de decade d."
   ]
  },
  {
   "cell_type": "code",
   "execution_count": 945,
   "metadata": {},
   "outputs": [
    {
     "name": "stdout",
     "output_type": "stream",
     "text": [
      "Population à la decade d\n",
      "Année =  10\n",
      "age = 0 , Population =  36\n",
      "age = 10 , Population =  0\n",
      "age = 20 , Population =  0\n",
      "age = 30 , Population =  44\n",
      "age = 40 , Population =  46\n",
      "age = 50 , Population =  9\n",
      "age = 60 , Population =  4\n",
      "age = 70 , Population =  0\n",
      "age = 80 , Population =  0\n",
      "age = 90 , Population =  0\n",
      "Population totale =  139\n",
      " \n",
      "Année =  20\n",
      "age = 0 , Population =  39\n",
      "age = 10 , Population =  35\n",
      "age = 20 , Population =  0\n",
      "age = 30 , Population =  0\n",
      "age = 40 , Population =  42\n",
      "age = 50 , Population =  44\n",
      "age = 60 , Population =  9\n",
      "age = 70 , Population =  3\n",
      "age = 80 , Population =  0\n",
      "age = 90 , Population =  0\n",
      "Population totale =  172\n",
      " \n",
      "Année =  30\n",
      "age = 0 , Population =  18\n",
      "age = 10 , Population =  39\n",
      "age = 20 , Population =  35\n",
      "age = 30 , Population =  0\n",
      "age = 40 , Population =  0\n",
      "age = 50 , Population =  40\n",
      "age = 60 , Population =  38\n",
      "age = 70 , Population =  7\n",
      "age = 80 , Population =  3\n",
      "age = 90 , Population =  0\n",
      "Population totale =  180\n",
      " \n",
      "Année =  40\n",
      "age = 0 , Population =  7\n",
      "age = 10 , Population =  18\n",
      "age = 20 , Population =  39\n",
      "age = 30 , Population =  35\n",
      "age = 40 , Population =  0\n",
      "age = 50 , Population =  0\n",
      "age = 60 , Population =  34\n",
      "age = 70 , Population =  32\n",
      "age = 80 , Population =  5\n",
      "age = 90 , Population =  0\n",
      "Population totale =  170\n",
      " \n",
      "Année =  50\n",
      "age = 0 , Population =  37\n",
      "age = 10 , Population =  7\n",
      "age = 20 , Population =  18\n",
      "age = 30 , Population =  37\n",
      "age = 40 , Population =  33\n",
      "age = 50 , Population =  0\n",
      "age = 60 , Population =  0\n",
      "age = 70 , Population =  30\n",
      "age = 80 , Population =  24\n",
      "age = 90 , Population =  0\n",
      "Population totale =  186\n",
      " \n",
      "Année =  60\n",
      "age = 0 , Population =  32\n",
      "age = 10 , Population =  36\n",
      "age = 20 , Population =  6\n",
      "age = 30 , Population =  18\n",
      "age = 40 , Population =  34\n",
      "age = 50 , Population =  29\n",
      "age = 60 , Population =  0\n",
      "age = 70 , Population =  0\n",
      "age = 80 , Population =  17\n",
      "age = 90 , Population =  0\n",
      "Population totale =  172\n",
      " \n",
      "Année =  70\n",
      "age = 0 , Population =  15\n",
      "age = 10 , Population =  32\n",
      "age = 20 , Population =  36\n",
      "age = 30 , Population =  6\n",
      "age = 40 , Population =  16\n",
      "age = 50 , Population =  30\n",
      "age = 60 , Population =  27\n",
      "age = 70 , Population =  0\n",
      "age = 80 , Population =  0\n",
      "age = 90 , Population =  0\n",
      "Population totale =  162\n",
      " \n",
      "Année =  80\n",
      "age = 0 , Population =  16\n",
      "age = 10 , Population =  15\n",
      "age = 20 , Population =  31\n",
      "age = 30 , Population =  35\n",
      "age = 40 , Population =  5\n",
      "age = 50 , Population =  16\n",
      "age = 60 , Population =  26\n",
      "age = 70 , Population =  25\n",
      "age = 80 , Population =  0\n",
      "age = 90 , Population =  0\n",
      "Population totale =  169\n",
      " \n",
      "Année =  90\n",
      "age = 0 , Population =  33\n",
      "age = 10 , Population =  16\n",
      "age = 20 , Population =  15\n",
      "age = 30 , Population =  31\n",
      "age = 40 , Population =  31\n",
      "age = 50 , Population =  4\n",
      "age = 60 , Population =  14\n",
      "age = 70 , Population =  24\n",
      "age = 80 , Population =  19\n",
      "age = 90 , Population =  0\n",
      "Population totale =  187\n",
      " \n",
      "Année =  100\n",
      "age = 0 , Population =  48\n",
      "age = 10 , Population =  33\n",
      "age = 20 , Population =  16\n",
      "age = 30 , Population =  15\n",
      "age = 40 , Population =  29\n",
      "age = 50 , Population =  30\n",
      "age = 60 , Population =  3\n",
      "age = 70 , Population =  13\n",
      "age = 80 , Population =  17\n",
      "age = 90 , Population =  0\n",
      "Population totale =  204\n",
      " \n",
      "Année =  110\n",
      "age = 0 , Population =  35\n",
      "age = 10 , Population =  46\n",
      "age = 20 , Population =  32\n",
      "age = 30 , Population =  16\n",
      "age = 40 , Population =  14\n",
      "age = 50 , Population =  28\n",
      "age = 60 , Population =  24\n",
      "age = 70 , Population =  3\n",
      "age = 80 , Population =  8\n",
      "age = 90 , Population =  0\n",
      "Population totale =  206\n",
      " \n",
      "Année =  120\n",
      "age = 0 , Population =  31\n",
      "age = 10 , Population =  34\n",
      "age = 20 , Population =  46\n",
      "age = 30 , Population =  32\n",
      "age = 40 , Population =  13\n",
      "age = 50 , Population =  12\n",
      "age = 60 , Population =  23\n",
      "age = 70 , Population =  18\n",
      "age = 80 , Population =  1\n",
      "age = 90 , Population =  0\n",
      "Population totale =  210\n",
      " \n",
      "Année =  130\n",
      "age = 0 , Population =  42\n",
      "age = 10 , Population =  31\n",
      "age = 20 , Population =  33\n",
      "age = 30 , Population =  43\n",
      "age = 40 , Population =  26\n",
      "age = 50 , Population =  13\n",
      "age = 60 , Population =  12\n",
      "age = 70 , Population =  20\n",
      "age = 80 , Population =  14\n",
      "age = 90 , Population =  0\n",
      "Population totale =  234\n",
      " \n",
      "Année =  140\n",
      "age = 0 , Population =  58\n",
      "age = 10 , Population =  41\n",
      "age = 20 , Population =  30\n",
      "age = 30 , Population =  31\n",
      "age = 40 , Population =  41\n",
      "age = 50 , Population =  24\n",
      "age = 60 , Population =  11\n",
      "age = 70 , Population =  9\n",
      "age = 80 , Population =  11\n",
      "age = 90 , Population =  0\n",
      "Population totale =  256\n",
      " \n",
      "Année =  150\n",
      "age = 0 , Population =  38\n",
      "age = 10 , Population =  57\n",
      "age = 20 , Population =  41\n",
      "age = 30 , Population =  26\n",
      "age = 40 , Population =  31\n",
      "age = 50 , Population =  36\n",
      "age = 60 , Population =  22\n",
      "age = 70 , Population =  9\n",
      "age = 80 , Population =  7\n",
      "age = 90 , Population =  0\n",
      "Population totale =  267\n",
      " \n",
      "Année =  160\n",
      "age = 0 , Population =  39\n",
      "age = 10 , Population =  36\n",
      "age = 20 , Population =  57\n",
      "age = 30 , Population =  41\n",
      "age = 40 , Population =  25\n",
      "age = 50 , Population =  31\n",
      "age = 60 , Population =  30\n",
      "age = 70 , Population =  19\n",
      "age = 80 , Population =  6\n",
      "age = 90 , Population =  0\n",
      "Population totale =  284\n",
      " \n",
      "Année =  170\n",
      "age = 0 , Population =  50\n",
      "age = 10 , Population =  38\n",
      "age = 20 , Population =  36\n",
      "age = 30 , Population =  53\n",
      "age = 40 , Population =  40\n",
      "age = 50 , Population =  25\n",
      "age = 60 , Population =  23\n",
      "age = 70 , Population =  26\n",
      "age = 80 , Population =  13\n",
      "age = 90 , Population =  0\n",
      "Population totale =  304\n",
      " \n",
      "Année =  180\n",
      "age = 0 , Population =  48\n",
      "age = 10 , Population =  49\n",
      "age = 20 , Population =  38\n",
      "age = 30 , Population =  32\n",
      "age = 40 , Population =  47\n",
      "age = 50 , Population =  37\n",
      "age = 60 , Population =  21\n",
      "age = 70 , Population =  19\n",
      "age = 80 , Population =  19\n",
      "age = 90 , Population =  0\n",
      "Population totale =  310\n",
      " \n",
      "Année =  190\n",
      "age = 0 , Population =  50\n",
      "age = 10 , Population =  46\n",
      "age = 20 , Population =  47\n",
      "age = 30 , Population =  36\n",
      "age = 40 , Population =  32\n",
      "age = 50 , Population =  43\n",
      "age = 60 , Population =  34\n",
      "age = 70 , Population =  20\n",
      "age = 80 , Population =  13\n",
      "age = 90 , Population =  0\n",
      "Population totale =  321\n",
      " \n",
      "Année =  200\n",
      "age = 0 , Population =  44\n",
      "age = 10 , Population =  50\n",
      "age = 20 , Population =  45\n",
      "age = 30 , Population =  44\n",
      "age = 40 , Population =  35\n",
      "age = 50 , Population =  27\n",
      "age = 60 , Population =  38\n",
      "age = 70 , Population =  30\n",
      "age = 80 , Population =  16\n",
      "age = 90 , Population =  0\n",
      "Population totale =  329\n",
      " \n"
     ]
    },
    {
     "data": {
      "text/plain": [
       "{0: 44, 10: 50, 20: 45, 30: 44, 40: 35, 50: 27, 60: 38, 70: 30, 80: 16, 90: 0}"
      ]
     },
     "execution_count": 945,
     "metadata": {},
     "output_type": "execute_result"
    }
   ],
   "source": [
    "def pop_after_d(pop, p , pmort, d):\n",
    "    \"\"\"\n",
    "    dict[int:int]*dict[int:dict[int:float]]*dict[int:float]*int->dict[int:int]\n",
    "    Renvoie la population à la decade d\n",
    "    \"\"\"\n",
    "    for i in range(d):\n",
    "        print(\"Année = \", ((i + 1)*10))\n",
    "        pop = pop_next(pop, p, pmort)\n",
    "        pop_totale = 0\n",
    "        j = 0\n",
    "        while j <= 90 : \n",
    "            print(\"age =\", j,\", Population = \",pop[j])\n",
    "            pop_totale = pop_totale + pop[j]\n",
    "            j = j + 10\n",
    "        print(\"Population totale = \", pop_totale)\n",
    "        print(\" \")\n",
    "    return pop\n",
    "\n",
    "print(\"Population à la decade d\")\n",
    "pop_after_d(pop_init, p, pmort, 20)"
   ]
  },
  {
   "cell_type": "markdown",
   "metadata": {},
   "source": [
    "Fonction pour savoir ou bout de combien de decade on arrive à une pop totale n"
   ]
  },
  {
   "cell_type": "code",
   "execution_count": 946,
   "metadata": {},
   "outputs": [
    {
     "data": {
      "text/plain": [
       "('Année = ', 870, 'Population = ', 10327)"
      ]
     },
     "execution_count": 946,
     "metadata": {},
     "output_type": "execute_result"
    }
   ],
   "source": [
    "def nb_of_decade(pop, p , pmort, n):\n",
    "    \"\"\"\n",
    "    dict[int:int] * dict[int:dict[int:float]] * dict[int:float] * int -> tuple[str, int,  str, int]\n",
    "    Renvoie decade ou pop > n\n",
    "    \"\"\"\n",
    "    d = 0\n",
    "    pop_totale = 0\n",
    "    while pop_totale < n :\n",
    "        d = d + 1\n",
    "        pop = pop_next(pop, p, pmort)\n",
    "        j = 0\n",
    "        pop_totale = 0\n",
    "        while j <= 90 :\n",
    "            pop_totale = pop_totale + pop[j]\n",
    "            j = j + 10\n",
    "    return (\"Année = \", (d*10), \"Population = \", pop_totale)\n",
    "nb_of_decade(pop_init, p, pmort, 10000)"
   ]
  },
  {
   "cell_type": "markdown",
   "metadata": {},
   "source": [
    "On va ensuite essayer de complexifier un peu notre modèle en prenant en compte le sexe des colons."
   ]
  },
  {
   "cell_type": "code",
   "execution_count": 947,
   "metadata": {},
   "outputs": [],
   "source": [
    "#On va donc créer des dictionnaires en bal\n",
    "pop_h = {0 : 0,\n",
    "    10 : 0,\n",
    "    20 : 250,\n",
    "    30 : 250,\n",
    "    40 : 50,\n",
    "    50 : 20,\n",
    "    60 : 0,\n",
    "    70 : 0,\n",
    "    80 : 0,\n",
    "    90 : 0}\n",
    "\n",
    "\n",
    "pop_f = {0 : 0,\n",
    "    10 : 0,\n",
    "    20 : 250,\n",
    "    30 : 250,\n",
    "    40 : 50,\n",
    "    50 : 30,\n",
    "    60 : 0,\n",
    "    70 : 0,\n",
    "    80 : 0,\n",
    "    90 : 0}\n",
    "\n",
    "Pop_totale = {1 : pop_h,\n",
    "              2 : pop_f}\n"
   ]
  },
  {
   "cell_type": "markdown",
   "metadata": {},
   "source": [
    "On part du principe qu'il faut un homme et une femme pour faire des enfants."
   ]
  },
  {
   "cell_type": "code",
   "execution_count": 948,
   "metadata": {},
   "outputs": [
    {
     "data": {
      "text/plain": [
       "250"
      ]
     },
     "execution_count": 948,
     "metadata": {},
     "output_type": "execute_result"
    }
   ],
   "source": [
    "pop_h.get(20)"
   ]
  },
  {
   "cell_type": "code",
   "execution_count": 949,
   "metadata": {},
   "outputs": [
    {
     "data": {
      "text/plain": [
       "{0: 0, 10: 0, 20: 250, 30: 250, 40: 50, 50: 20, 60: 0, 70: 0, 80: 0, 90: 0}"
      ]
     },
     "execution_count": 949,
     "metadata": {},
     "output_type": "execute_result"
    }
   ],
   "source": [
    "def compte_couple(Pop_totale):\n",
    "    \n",
    "    age_couple = dict()\n",
    "    \n",
    "    poph = Pop_totale[1]\n",
    "    popf = Pop_totale[2]\n",
    "    i = 0\n",
    "    while i <= 90 :\n",
    "        age_couple[i] = min(poph[i], popf[i])\n",
    "        i = i + 10\n",
    "    return age_couple\n",
    "compte_couple(Pop_totale)\n",
    "    "
   ]
  },
  {
   "cell_type": "code",
   "execution_count": 950,
   "metadata": {},
   "outputs": [],
   "source": [
    "age_couple = {0: 0, 10: 0, 20: 25, 30: 25, 40: 5, 50: 2, 60: 0, 70: 0, 80: 0, 90: 0}"
   ]
  },
  {
   "cell_type": "markdown",
   "metadata": {},
   "source": [
    "On fait maintenant la fonction qui nous donne la descendance d'un couple sur une decade."
   ]
  },
  {
   "cell_type": "code",
   "execution_count": 951,
   "metadata": {},
   "outputs": [],
   "source": [
    "def nb_enfant_couple_decade(ageh, agef, p):\n",
    "\n",
    "    u = np.random.random()\n",
    "    s = 0\n",
    "    pb = p[a]\n",
    "    for k in pb.keys():\n",
    "        s += pb[k]\n",
    "        if u < s:\n",
    "            return k"
   ]
  },
  {
   "cell_type": "markdown",
   "metadata": {},
   "source": [
    "Nombre de naissance en fonction du nombre de couple."
   ]
  },
  {
   "cell_type": "code",
   "execution_count": 952,
   "metadata": {},
   "outputs": [
    {
     "data": {
      "text/plain": [
       "26"
      ]
     },
     "execution_count": 952,
     "metadata": {},
     "output_type": "execute_result"
    }
   ],
   "source": [
    "def nb_naissances_couples(p1, p2):\n",
    "    '''\n",
    "    dict[int:int] * dict[int:dict[int:float]] -> int\n",
    "    renvoie le nombre de naissances pendant 10 ans\n",
    "    '''\n",
    "    a = 0\n",
    "    nv_enfant = 0\n",
    "    for a in p1:\n",
    "        b = p1[a]\n",
    "        i = 0\n",
    "        while i < b:\n",
    "            nv_enfant += number_of_descendants(p2, a)\n",
    "            i += 1\n",
    "    return nv_enfant \n",
    "\n",
    "nb_naissances_couples(age_couple,p)"
   ]
  },
  {
   "cell_type": "markdown",
   "metadata": {},
   "source": [
    "on \"tri\" pour savoir combien de garçons et de filles sont nés"
   ]
  },
  {
   "cell_type": "code",
   "execution_count": 953,
   "metadata": {},
   "outputs": [
    {
     "data": {
      "text/plain": [
       "{1: 24, 2: 26}"
      ]
     },
     "execution_count": 953,
     "metadata": {},
     "output_type": "execute_result"
    }
   ],
   "source": [
    "def tri_naissance(nb_enfant):\n",
    "    \n",
    "    nb_enfant_h = 0\n",
    "    nb_enfant_f = 0\n",
    "    for i in range(0, nb_enfant):\n",
    "        a = random.randint(1, 2)\n",
    "        if a == 1:\n",
    "            nb_enfant_h = nb_enfant_h + 1\n",
    "        else :\n",
    "            nb_enfant_f = nb_enfant_f + 1\n",
    "    return {1 : nb_enfant_h, 2 : nb_enfant_f}\n",
    "    \n",
    "    \n",
    "tri_naissance(50)"
   ]
  },
  {
   "cell_type": "markdown",
   "metadata": {},
   "source": [
    "On améliorer les anciennes fcts."
   ]
  },
  {
   "cell_type": "code",
   "execution_count": 954,
   "metadata": {},
   "outputs": [
    {
     "data": {
      "text/plain": [
       "{1: {0: 161,\n",
       "  10: 0,\n",
       "  20: 0,\n",
       "  30: 250,\n",
       "  40: 250,\n",
       "  50: 50,\n",
       "  60: 20,\n",
       "  70: 0,\n",
       "  80: 0,\n",
       "  90: 0},\n",
       " 2: {0: 133,\n",
       "  10: 0,\n",
       "  20: 0,\n",
       "  30: 250,\n",
       "  40: 250,\n",
       "  50: 50,\n",
       "  60: 30,\n",
       "  70: 0,\n",
       "  80: 0,\n",
       "  90: 0}}"
      ]
     },
     "execution_count": 954,
     "metadata": {},
     "output_type": "execute_result"
    }
   ],
   "source": [
    "def pop_decade_couple(Pop_totale,p):\n",
    "    '''\n",
    "    dict[int:int] * dict[int:dict[int:float]] -> dict[int:dict[int:int]]\n",
    "    renvoie le dict de population apres une decade (lire avec l'accent svp)\n",
    "    '''\n",
    "    nb_couple = compte_couple(Pop_totale)\n",
    "    nv_enfant = nb_naissances_couples(nb_couple, p)\n",
    "    tri = tri_naissance(nv_enfant)\n",
    "    popho = Pop_totale[1]\n",
    "    popfe = Pop_totale[2]\n",
    "    poph_ev = dict()\n",
    "    popf_ev = dict()\n",
    "    i = 0\n",
    "    while i < 90:\n",
    "        \n",
    "        poph_ev[(i + 10)] = popho[i]\n",
    "        popf_ev[(i + 10)] = popfe[i]\n",
    "        i += 10\n",
    "        \n",
    "    poph_ev[0] = tri[1]\n",
    "    popf_ev[0] = tri[2]\n",
    "    \n",
    "    pop_ev = {1 : poph_ev, 2 : popf_ev}\n",
    "    \n",
    "    return pop_ev\n",
    "    \n",
    "\n",
    "pop_decade_couple(Pop_totale,p)"
   ]
  },
  {
   "cell_type": "markdown",
   "metadata": {},
   "source": [
    "Graphique :"
   ]
  },
  {
   "cell_type": "code",
   "execution_count": 955,
   "metadata": {},
   "outputs": [],
   "source": [
    "def extract(pop_dic, key=1):\n",
    "    age = []\n",
    "    qte = []\n",
    "    \n",
    "    for k, v in pop_dic[key].items():\n",
    "        age.append(k)\n",
    "        qte.append(v)\n",
    "    \n",
    "    return age, qte\n",
    "\n",
    "l, v = extract(Pop_totale)\n"
   ]
  },
  {
   "cell_type": "code",
   "execution_count": 956,
   "metadata": {},
   "outputs": [
    {
     "data": {
      "text/plain": [
       "[<matplotlib.lines.Line2D at 0x7f3553dd58d0>]"
      ]
     },
     "execution_count": 956,
     "metadata": {},
     "output_type": "execute_result"
    },
    {
     "data": {
      "image/png": "[encoded data removed]",
      "text/plain": [
       "<Figure size 432x288 with 1 Axes>"
      ]
     },
     "metadata": {},
     "output_type": "display_data"
    }
   ],
   "source": [
    "plt.plot(l, v, \"--\")"
   ]
  },
  {
   "cell_type": "code",
   "execution_count": 957,
   "metadata": {},
   "outputs": [
    {
     "name": "stdout",
     "output_type": "stream",
     "text": [
      "[[149, 0, 0, 250, 250, 50, 20, 0, 0, 0], [130, 149, 0, 0, 250, 250, 50, 20, 0, 0], [52, 130, 149, 0, 0, 250, 250, 50, 20, 0], [32, 52, 130, 149, 0, 0, 250, 250, 50, 20], [67, 32, 52, 130, 149, 0, 0, 250, 250, 50], [68, 67, 32, 52, 130, 149, 0, 0, 250, 250], [53, 68, 67, 32, 52, 130, 149, 0, 0, 250], [35, 53, 68, 67, 32, 52, 130, 149, 0, 0], [34, 35, 53, 68, 67, 32, 52, 130, 149, 0], [53, 34, 35, 53, 68, 67, 32, 52, 130, 149], [43, 53, 34, 35, 53, 68, 67, 32, 52, 130], [33, 43, 53, 34, 35, 53, 68, 67, 32, 52], [25, 33, 43, 53, 34, 35, 53, 68, 67, 32], [31, 25, 33, 43, 53, 34, 35, 53, 68, 67], [22, 31, 25, 33, 43, 53, 34, 35, 53, 68]]\n"
     ]
    },
    {
     "data": {
      "image/png": "[encoded data removed]",
      "text/plain": [
       "<Figure size 432x288 with 1 Axes>"
      ]
     },
     "metadata": {},
     "output_type": "display_data"
    }
   ],
   "source": [
    "def liste_pop_decade_couple(Pop_totale,p, n):\n",
    "    \n",
    "    L2 = []\n",
    "    pop_ev = Pop_totale\n",
    "    for i in range (0, n):\n",
    "        l2 = []\n",
    "        pop_ev = pop_decade_couple(pop_ev,p)\n",
    "        o = pop_ev[1]\n",
    "        for u in range (0, 100, 10):\n",
    "            l2.append(o[u])\n",
    "            \n",
    "        \n",
    "        \n",
    "        L2.append(l2)\n",
    "        l2 = []\n",
    "    print(L2)\n",
    "    return L2\n",
    "\n",
    "L2 = liste_pop_decade_couple(Pop_totale,p, 15)\n",
    "\n",
    "def plot_2(L2):\n",
    "    plt.figure()\n",
    "    plt.plot(L2)\n",
    "    plt.legend([\"Age \" + str(i) for i in p])\n",
    "    plt.xlabel(\"Décennie\")\n",
    "    plt.ylabel(\"Population Homme\")\n",
    "    plt.show()\n",
    "    return\n",
    "plot_2(L2)\n",
    "\n"
   ]
  },
  {
   "cell_type": "markdown",
   "metadata": {},
   "source": [
    "Fonction suivante :"
   ]
  },
  {
   "cell_type": "code",
   "execution_count": 958,
   "metadata": {},
   "outputs": [
    {
     "data": {
      "text/plain": [
       "{1: {0: 0,\n",
       "  10: 0,\n",
       "  20: 249,\n",
       "  30: 239,\n",
       "  40: 50,\n",
       "  50: 18,\n",
       "  60: 0,\n",
       "  70: 0,\n",
       "  80: 0,\n",
       "  90: 0},\n",
       " 2: {0: 0,\n",
       "  10: 0,\n",
       "  20: 246,\n",
       "  30: 241,\n",
       "  40: 44,\n",
       "  50: 29,\n",
       "  60: 0,\n",
       "  70: 0,\n",
       "  80: 0,\n",
       "  90: 0}}"
      ]
     },
     "execution_count": 958,
     "metadata": {},
     "output_type": "execute_result"
    }
   ],
   "source": [
    "#On va donc créer des dictionnaires en bal\n",
    "pop_h = {0 : 0,\n",
    "    10 : 0,\n",
    "    20 : 250,\n",
    "    30 : 250,\n",
    "    40 : 50,\n",
    "    50 : 20,\n",
    "    60 : 0,\n",
    "    70 : 0,\n",
    "    80 : 0,\n",
    "    90 : 0}\n",
    "\n",
    "\n",
    "pop_f = {0 : 0,\n",
    "    10 : 0,\n",
    "    20 : 250,\n",
    "    30 : 250,\n",
    "    40 : 50,\n",
    "    50 : 30,\n",
    "    60 : 0,\n",
    "    70 : 0,\n",
    "    80 : 0,\n",
    "    90 : 0}\n",
    "\n",
    "Pop_totale = {1 : pop_h,\n",
    "              2 : pop_f}\n",
    "\n",
    "\n",
    "def pop_vivante_couple(pmort, pop1):\n",
    "    '''\n",
    "    dict[int:float] * dict[int:dict[int:int] -> dict[int:int]\n",
    "    Renvoie la population moins les morts\n",
    "    '''\n",
    "    poph_n = pop1[1]\n",
    "    popf_n = pop1[2]\n",
    "    pop = dict()\n",
    "    i = 0\n",
    "    while i < 100 :\n",
    "        poph_n[i] = poph_n[i] - mort_gen(pmort, poph_n[i], i)\n",
    "        popf_n[i] = popf_n[i] - mort_gen(pmort, popf_n[i], i)\n",
    "        i = i + 10\n",
    "    \n",
    "    pop = {1 : poph_n, 2 : popf_n}\n",
    "    return pop\n",
    "\n",
    "pop_vivante_couple(pmort, Pop_totale)"
   ]
  },
  {
   "cell_type": "code",
   "execution_count": 959,
   "metadata": {},
   "outputs": [],
   "source": [
    "\"\"\"\n",
    "from tkinter import *\n",
    "\n",
    "fene = Tk()\n",
    "fene.title(\"Simulation Mars\")\n",
    "fond = Canvas(fene, width='400', height='400', bg=\"black\")\n",
    "fond.pack()\n",
    "\n",
    "\n",
    "def vie():\n",
    "\n",
    "    fond1 = Canvas(fond, width='400', height='400', bg=\"black\")\n",
    "    fond1.pack()\n",
    "\n",
    "    colors = [\"blue\",\"purple\"]\n",
    "    #color = [\"blue\",\"black\"]\n",
    "\n",
    "    \n",
    "    \n",
    "    D = []\n",
    "    for i in range(20):\n",
    "        for j in range(20):\n",
    "            fond.create_rectangle(i*20,j*20, 20+i*20, 20+j*20, fill = colors[random.randint(0,1)])\n",
    "            D.append(random.randint(0,1))\n",
    "\n",
    "    fond1.destroy()        \n",
    "    fene.after(50,vie)\n",
    "            \n",
    "vie()\n",
    "fene.mainloop()\n",
    "\"\"\""
   ]
  },
  {
   "cell_type": "code",
   "execution_count": null,
   "metadata": {},
   "outputs": [],
   "source": []
  },
  {
   "cell_type": "markdown",
   "metadata": {},
   "source": [
    "/*--------------------------------------------------------------------------------------------------------------------------------------------------------------------------------------------------*/"
   ]
  },
  {
   "cell_type": "code",
   "execution_count": 960,
   "metadata": {},
   "outputs": [],
   "source": [
    "#fonction ressources"
   ]
  },
  {
   "cell_type": "code",
   "execution_count": 961,
   "metadata": {},
   "outputs": [],
   "source": [
    "def ressource_terre(ini,x,n):\n",
    "    \"\"\"int**3->int\n",
    "    retourne le taux de ressource envoyé de la terre en fonction de decade n en fonction de ini et x\"\"\"\n",
    "    t=0\n",
    "    while t<=n+1:    \n",
    "        ini=ini+x*t\n",
    "        t=t+10\n",
    "    return ini"
   ]
  },
  {
   "cell_type": "code",
   "execution_count": 962,
   "metadata": {},
   "outputs": [],
   "source": [
    "#taux de ressources necessaire\n",
    "coefress=0.002   #coef de la fonction affine\n",
    "resini=0.9#taux de ressource initial envoyé de la terre\n",
    "d=5  #decade\n",
    "dmax=20\n",
    "rTerre=ressource_terre(resini,coefress,d)     #ressources provenant de la terre \n",
    "rPlanet=0   #ressources récolté sur place\n",
    "\n",
    "coef=1          #coefficient"
   ]
  },
  {
   "cell_type": "code",
   "execution_count": 963,
   "metadata": {},
   "outputs": [
    {
     "data": {
      "text/plain": [
       "{0: 0.1,\n",
       " 10: 0.018,\n",
       " 20: 0.018,\n",
       " 30: 0.046,\n",
       " 40: 0.074,\n",
       " 50: 0.083,\n",
       " 60: 0.11,\n",
       " 70: 0.138,\n",
       " 80: 0.276,\n",
       " 90: 0.92}"
      ]
     },
     "execution_count": 963,
     "metadata": {},
     "output_type": "execute_result"
    }
   ],
   "source": [
    "def impact_ressources(t,dpm):\n",
    "        \"\"\"float**2*dict[int:float]->dict[int:float]\n",
    "        retourne le dictionnaire pmort avec l'impact des ressources\"\"\"\n",
    "        j=10\n",
    "        while j <= 90 : \n",
    "            dpm[j]= round(dpm[j]*t,3)\n",
    "            j=j+10\n",
    "        return dpm\n",
    "\n",
    "impact_ressources(ressource_terre(resini,coefress,10),pmort)\n",
    "        \n",
    "        "
   ]
  },
  {
   "cell_type": "code",
   "execution_count": 964,
   "metadata": {
    "scrolled": true
   },
   "outputs": [
    {
     "name": "stdout",
     "output_type": "stream",
     "text": [
      "decade = 0\n",
      "{0: 0.1, 80: 0.248, 50: 0.075, 20: 0.016, 70: 0.124, 40: 0.067, 10: 0.016, 60: 0.099, 90: 0.828, 30: 0.041}\n",
      "decade = 1\n",
      "{0: 0.1, 80: 0.223, 50: 0.068, 20: 0.014, 70: 0.112, 40: 0.06, 10: 0.014, 60: 0.089, 90: 0.745, 30: 0.037}\n",
      "decade = 2\n",
      "{0: 0.1, 80: 0.201, 50: 0.061, 20: 0.013, 70: 0.101, 40: 0.054, 10: 0.013, 60: 0.08, 90: 0.67, 30: 0.033}\n",
      "decade = 3\n",
      "{0: 0.1, 80: 0.181, 50: 0.055, 20: 0.012, 70: 0.091, 40: 0.049, 10: 0.012, 60: 0.072, 90: 0.603, 30: 0.03}\n",
      "decade = 4\n",
      "{0: 0.1, 80: 0.163, 50: 0.05, 20: 0.011, 70: 0.082, 40: 0.044, 10: 0.011, 60: 0.065, 90: 0.543, 30: 0.027}\n",
      "decade = 5\n",
      "{0: 0.1, 80: 0.147, 50: 0.045, 20: 0.01, 70: 0.074, 40: 0.04, 10: 0.01, 60: 0.059, 90: 0.489, 30: 0.024}\n",
      "decade = 6\n",
      "{0: 0.1, 80: 0.132, 50: 0.041, 20: 0.009, 70: 0.067, 40: 0.036, 10: 0.009, 60: 0.053, 90: 0.44, 30: 0.022}\n",
      "decade = 7\n",
      "{0: 0.1, 80: 0.119, 50: 0.037, 20: 0.008, 70: 0.06, 40: 0.032, 10: 0.008, 60: 0.048, 90: 0.396, 30: 0.02}\n",
      "decade = 8\n",
      "{0: 0.1, 80: 0.107, 50: 0.033, 20: 0.007, 70: 0.054, 40: 0.029, 10: 0.007, 60: 0.043, 90: 0.356, 30: 0.018}\n",
      "decade = 9\n",
      "{0: 0.1, 80: 0.098, 50: 0.03, 20: 0.006, 70: 0.05, 40: 0.027, 10: 0.006, 60: 0.04, 90: 0.328, 30: 0.017}\n",
      "decade = 10\n",
      "{0: 0.1, 80: 0.09, 50: 0.028, 20: 0.006, 70: 0.046, 40: 0.025, 10: 0.006, 60: 0.037, 90: 0.302, 30: 0.016}\n",
      "decade = 11\n",
      "{0: 0.1, 80: 0.083, 50: 0.026, 20: 0.006, 70: 0.042, 40: 0.023, 10: 0.006, 60: 0.034, 90: 0.278, 30: 0.015}\n",
      "decade = 12\n",
      "{0: 0.1, 80: 0.076, 50: 0.024, 20: 0.006, 70: 0.039, 40: 0.021, 10: 0.006, 60: 0.031, 90: 0.256, 30: 0.014}\n",
      "decade = 13\n",
      "{0: 0.1, 80: 0.07, 50: 0.022, 20: 0.006, 70: 0.036, 40: 0.019, 10: 0.006, 60: 0.029, 90: 0.236, 30: 0.013}\n",
      "decade = 14\n",
      "{0: 0.1, 80: 0.064, 50: 0.02, 20: 0.006, 70: 0.033, 40: 0.017, 10: 0.006, 60: 0.027, 90: 0.217, 30: 0.012}\n",
      "decade = 15\n",
      "{0: 0.1, 80: 0.059, 50: 0.018, 20: 0.006, 70: 0.03, 40: 0.016, 10: 0.006, 60: 0.025, 90: 0.2, 30: 0.011}\n",
      "decade = 16\n",
      "{0: 0.1, 80: 0.054, 50: 0.017, 20: 0.006, 70: 0.028, 40: 0.015, 10: 0.006, 60: 0.023, 90: 0.184, 30: 0.01}\n",
      "decade = 17\n",
      "{0: 0.1, 80: 0.05, 50: 0.016, 20: 0.006, 70: 0.026, 40: 0.014, 10: 0.006, 60: 0.021, 90: 0.169, 30: 0.009}\n",
      "decade = 18\n",
      "{0: 0.1, 80: 0.046, 50: 0.015, 20: 0.006, 70: 0.024, 40: 0.013, 10: 0.006, 60: 0.019, 90: 0.155, 30: 0.008}\n",
      "decade = 19\n",
      "{0: 0.1, 80: 0.044, 50: 0.014, 20: 0.006, 70: 0.023, 40: 0.012, 10: 0.006, 60: 0.018, 90: 0.149, 30: 0.008}\n",
      "decade = 20\n",
      "{0: 0.1, 80: 0.042, 50: 0.013, 20: 0.006, 70: 0.022, 40: 0.012, 10: 0.006, 60: 0.017, 90: 0.143, 30: 0.008}\n"
     ]
    },
    {
     "data": {
      "text/plain": [
       "{0: 0.1,\n",
       " 10: 0.005,\n",
       " 20: 0.005,\n",
       " 30: 0.007,\n",
       " 40: 0.011,\n",
       " 50: 0.012,\n",
       " 60: 0.015,\n",
       " 70: 0.02,\n",
       " 80: 0.038,\n",
       " 90: 0.129}"
      ]
     },
     "execution_count": 964,
     "metadata": {},
     "output_type": "execute_result"
    }
   ],
   "source": [
    "def impact_ressources_decade(t,nmax,dpm):\n",
    "    \"\"\"int**3*dict[int:float]\n",
    "    retourne le dictionnaire pmort avec l'impact des ressources en fonction des decades\n",
    "    avec n la decade max\"\"\"\n",
    "    i=0\n",
    "    while i<=nmax:\n",
    "        print(\"decade =\",i)\n",
    "        a = impact_ressources(ressource_terre(resini,coefress,i),pmort)\n",
    "        print(a)\n",
    "        i=i+1\n",
    "    return\n",
    "impact_ressources_decade(ressource_terre(resini,coefress,1),dmax,pmort)\n",
    "impact_ressources(ressource_terre(resini,coefress,1),pmort)"
   ]
  },
  {
   "cell_type": "markdown",
   "metadata": {},
   "source": [
    "Fonction finale :"
   ]
  },
  {
   "cell_type": "code",
   "execution_count": 966,
   "metadata": {},
   "outputs": [
    {
     "data": {
      "text/plain": [
       "{1: {0: 24,\n",
       "  10: 32,\n",
       "  20: 34,\n",
       "  30: 45,\n",
       "  40: 58,\n",
       "  50: 45,\n",
       "  60: 37,\n",
       "  70: 51,\n",
       "  80: 92,\n",
       "  90: 105},\n",
       " 2: {0: 35,\n",
       "  10: 33,\n",
       "  20: 26,\n",
       "  30: 36,\n",
       "  40: 41,\n",
       "  50: 49,\n",
       "  60: 41,\n",
       "  70: 45,\n",
       "  80: 115,\n",
       "  90: 102}}"
      ]
     },
     "execution_count": 966,
     "metadata": {},
     "output_type": "execute_result"
    }
   ],
   "source": [
    "def pop_totale_couple_fin(Pop_totale, p, pmort):\n",
    "    \n",
    "    Pop_totale = pop_decade_couple(Pop_totale, p)\n",
    "    Pop_totale = pop_vivante_couple(pmort, Pop_totale)\n",
    "    return Pop_totale\n",
    "\n",
    "\n",
    "def pop_apres_n_decade(Pop_tot, p, pmort, n, ini, x):\n",
    "    i = 0\n",
    "    while i < n :\n",
    "        Pop_tot = pop_totale_couple_fin(Pop_tot, p, pmort)\n",
    "        pmort = impact_ressources(ressource_terre(ini, x, i), pmort)\n",
    "        i = i+1\n",
    "    \n",
    "    return Pop_tot\n",
    "\n",
    "pop_apres_n_decade(Pop_totale, p, pmort, 10, resini, coefress)"
   ]
  },
  {
   "cell_type": "code",
   "execution_count": null,
   "metadata": {},
   "outputs": [],
   "source": []
  }
 ],
 "metadata": {
  "kernelspec": {
   "display_name": "Python 3",
   "language": "python",
   "name": "python3"
  },
  "language_info": {
   "codemirror_mode": {
    "name": "ipython",
    "version": 3
   },
   "file_extension": ".py",
   "mimetype": "text/x-python",
   "name": "python",
   "nbconvert_exporter": "python",
   "pygments_lexer": "ipython3",
   "version": "3.5.3"
  }
 },
 "nbformat": 4,
 "nbformat_minor": 2
}
