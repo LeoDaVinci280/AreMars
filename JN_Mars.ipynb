{
 "cells": [
  {
   "cell_type": "markdown",
   "metadata": {},
   "source": [
    "Début du projet : "
   ]
  },
  {
   "cell_type": "code",
   "execution_count": 257,
   "metadata": {},
   "outputs": [],
   "source": [
    "%matplotlib inline     \n",
    "# ^Sans animations\n",
    "# %matplotlib notebook \n",
    "# ^Avec animations\n",
    "import numpy as np\n",
    "import matplotlib.pyplot as plt\n",
    "from matplotlib import animation\n",
    "import random\n",
    "#from random import * "
   ]
  },
  {
   "cell_type": "markdown",
   "metadata": {},
   "source": [
    "On commence par faire des dictionnaires sur les probabilités de décès et de descendance en fonction de la décennie."
   ]
  },
  {
   "cell_type": "code",
   "execution_count": 258,
   "metadata": {},
   "outputs": [],
   "source": [
    "# Dictionnaire représentant la distribution de probabilité des descendants.\n",
    "# clef = nombre de descendants et valeur = probabilité\n",
    "\n",
    "p0 = {0 : 1.0}\n",
    "\n",
    "p10 = {0 : 1.0}\n",
    "\n",
    "p20 = {0 : 0.7,\n",
    "     1 : 0.2,\n",
    "     2 : 0.1}\n",
    "\n",
    "p30 = {0 : 0.5,\n",
    "     1 : 0.35,\n",
    "     2 : 0.15}\n",
    "\n",
    "p40 = {0 : 0.75,\n",
    "     1 : 0.15,\n",
    "     2 : 0.1}\n",
    "\n",
    "p50 = {0 : 0.9,\n",
    "     1 : 0.1}\n",
    "\n",
    "p60 = {0 : 1.0}\n",
    "\n",
    "p70 = {0 : 1.0}\n",
    "\n",
    "p80 = {0 : 1.0}\n",
    "\n",
    "p90 = {0 : 1.0}\n",
    "\n",
    "p = {0 : p0,\n",
    "    10 : p10,\n",
    "    20 : p20,\n",
    "    30 : p30,\n",
    "    40 : p40,\n",
    "    50 : p50,\n",
    "    60 : p60,\n",
    "    70 : p70,\n",
    "    80 : p80,\n",
    "    90 : p90}"
   ]
  },
  {
   "cell_type": "code",
   "execution_count": 259,
   "metadata": {},
   "outputs": [
    {
     "data": {
      "text/plain": [
       "0"
      ]
     },
     "execution_count": 259,
     "metadata": {},
     "output_type": "execute_result"
    }
   ],
   "source": [
    "def number_of_descendants(p, a):\n",
    "    '''\n",
    "    dict[int:dict[int:float]]*int->int\n",
    "    Étant donnée une distibution de probabilité 'p', et un age, la fonction retourne le nombre de descendants d'un individu.\n",
    "    '''\n",
    "    u = np.random.random()\n",
    "    s = 0\n",
    "    pb = p[a]\n",
    "    for k in pb.keys():\n",
    "        s += pb[k]\n",
    "        if u < s:\n",
    "            return k\n",
    "        \n",
    "number_of_descendants(p, 30)"
   ]
  },
  {
   "cell_type": "markdown",
   "metadata": {},
   "source": [
    " On teste cette fonction pour verifier la cohérence des dictionnaires de proba."
   ]
  },
  {
   "cell_type": "code",
   "execution_count": 292,
   "metadata": {},
   "outputs": [
    {
     "data": {
      "text/plain": [
       "1"
      ]
     },
     "execution_count": 292,
     "metadata": {},
     "output_type": "execute_result"
    }
   ],
   "source": [
    "def number_of_descendants_in_a_life_time(p):\n",
    "    '''\n",
    "    dict[int:dict[int:float]]->int\n",
    "    nombre de minots sur une vie\n",
    "    '''\n",
    "    a = 0\n",
    "    nb_de_m = 0\n",
    "    while a <= 90:\n",
    "        nb_de_m += number_of_descendants(p, a)\n",
    "        a += 10\n",
    "    return nb_de_m\n",
    "\n",
    "\n",
    "number_of_descendants_in_a_life_time(p)"
   ]
  },
  {
   "cell_type": "markdown",
   "metadata": {},
   "source": [
    "On créé le dictionnaire initial de la population"
   ]
  },
  {
   "cell_type": "code",
   "execution_count": 261,
   "metadata": {},
   "outputs": [],
   "source": [
    "pop_init = {0 : 0,\n",
    "    10 : 0,\n",
    "    20 : 50,\n",
    "    30 : 50,\n",
    "    40 : 10,\n",
    "    50 : 5,\n",
    "    60 : 0,\n",
    "    70 : 0,\n",
    "    80 : 0,\n",
    "    90 : 0}"
   ]
  },
  {
   "cell_type": "markdown",
   "metadata": {},
   "source": [
    "Fonction qui donne le nombre total de naissances en fonction du dictionnaire de population"
   ]
  },
  {
   "cell_type": "code",
   "execution_count": 262,
   "metadata": {},
   "outputs": [
    {
     "data": {
      "text/plain": [
       "47"
      ]
     },
     "execution_count": 262,
     "metadata": {},
     "output_type": "execute_result"
    }
   ],
   "source": [
    "def nb_naissances(p1, p2):\n",
    "    '''\n",
    "    dict[int:int] * dict[int:dict[int:float]] -> int\n",
    "    renvoie le nombre de naissances pendant 10 ans\n",
    "    '''\n",
    "    a = 0\n",
    "    nv_enfant = 0\n",
    "    for a in p1:\n",
    "        b = p1[a]\n",
    "        i = 0\n",
    "        while i < b:\n",
    "            nv_enfant += number_of_descendants(p2, a)\n",
    "            i += 1\n",
    "    return nv_enfant \n",
    "\n",
    "nb_naissances(pop_init,p)     "
   ]
  },
  {
   "cell_type": "markdown",
   "metadata": {},
   "source": [
    "On met ensuite à jours le dictionnaire de population\n",
    "\n",
    "on fait l'hypothèse qu'au dessus de 99 ans, on meurt"
   ]
  },
  {
   "cell_type": "code",
   "execution_count": 263,
   "metadata": {},
   "outputs": [
    {
     "data": {
      "text/plain": [
       "{0: 49, 10: 0, 20: 0, 30: 50, 40: 50, 50: 10, 60: 5, 70: 0, 80: 0, 90: 0}"
      ]
     },
     "execution_count": 263,
     "metadata": {},
     "output_type": "execute_result"
    }
   ],
   "source": [
    "def pop_decade(pop,p):\n",
    "    '''\n",
    "    dict[int:int] * dict[int:dict[int:float]] -> dict[int:int]\n",
    "    renvoie le dict de population apres une decade (lire avec l'accent svp)\n",
    "    '''\n",
    "    nv_enfant = nb_naissances(pop, p)\n",
    "    pop_ev = {}\n",
    "    i = 0\n",
    "    while i < 90:\n",
    "        pop_ev[(i + 10)] = pop[i]\n",
    "        i += 10\n",
    "        \n",
    "    pop_ev[0] = nv_enfant\n",
    "    \n",
    "    return pop_ev\n",
    "    \n",
    "\n",
    "pop_decade(pop_init,p)\n",
    "    "
   ]
  },
  {
   "cell_type": "markdown",
   "metadata": {},
   "source": [
    "On introduit ensuite à l'aide d'un dictionnaire les probabilités de mortalités."
   ]
  },
  {
   "cell_type": "code",
   "execution_count": 264,
   "metadata": {},
   "outputs": [],
   "source": [
    "# Dictionnaire représentant la distribution de probabilité de mourir.\n",
    "# clef = age et valeur = probabilité\n",
    "\n",
    "pmort = {0 : 0.1,\n",
    "    10 : 0.02,\n",
    "    20 : 0.02,\n",
    "    30 : 0.05,\n",
    "    40 : 0.08,\n",
    "    50 : 0.09,\n",
    "    60 : 0.12,\n",
    "    70 : 0.15,\n",
    "    80 : 0.30,\n",
    "    90 : 1.0}"
   ]
  },
  {
   "cell_type": "markdown",
   "metadata": {},
   "source": [
    "Puis on fait une fonction plata_o_plomo qui donne avec le dictionnaire précédent si un indivudu est mort ou pas. "
   ]
  },
  {
   "cell_type": "code",
   "execution_count": 265,
   "metadata": {},
   "outputs": [
    {
     "data": {
      "text/plain": [
       "0"
      ]
     },
     "execution_count": 265,
     "metadata": {},
     "output_type": "execute_result"
    }
   ],
   "source": [
    "def plata_o_plomo(pmort, age):\n",
    "    '''\n",
    "    dict[int:float]*int->int\n",
    "    renvoie 0 si vivant et 1 si mort\n",
    "    '''\n",
    "    u = np.random.random()\n",
    "    if u < pmort[age]:\n",
    "            return 1\n",
    "    else :\n",
    "        return 0\n",
    "plata_o_plomo(pmort,30)"
   ]
  },
  {
   "cell_type": "markdown",
   "metadata": {},
   "source": [
    "Puis on créé une fonction qui va nous donner le nombre de mort pour une generation (decade)"
   ]
  },
  {
   "cell_type": "code",
   "execution_count": 266,
   "metadata": {},
   "outputs": [
    {
     "data": {
      "text/plain": [
       "4"
      ]
     },
     "execution_count": 266,
     "metadata": {},
     "output_type": "execute_result"
    }
   ],
   "source": [
    "def mort_gen(pmort, nb_gen, age):\n",
    "    '''\n",
    "    dict[int:float]*int*int->int\n",
    "    Renvoie le nombre de mort d'une generation \n",
    "    '''\n",
    "    i = 0\n",
    "    morts = 0\n",
    "    while i < nb_gen:\n",
    "        morts += plata_o_plomo(pmort, age)\n",
    "        i += 1\n",
    "    return morts\n",
    "\n",
    "mort_gen(pmort, 50, 30)    "
   ]
  },
  {
   "cell_type": "markdown",
   "metadata": {},
   "source": [
    "On fait ensuite passer l'ensemble des générations de la population dans la fonction pour avoir le nombre de gens en vie à la decade suivante (toujours avec l'accent svp)"
   ]
  },
  {
   "cell_type": "code",
   "execution_count": 267,
   "metadata": {},
   "outputs": [
    {
     "data": {
      "text/plain": [
       "{0: 0, 10: 0, 20: 50, 30: 48, 40: 8, 50: 5, 60: 0, 70: 0, 80: 0, 90: 0}"
      ]
     },
     "execution_count": 267,
     "metadata": {},
     "output_type": "execute_result"
    }
   ],
   "source": [
    "def pop_vivante(pmort, pop):\n",
    "    '''\n",
    "    dict[int:float]*dict[int:int]->dict[int:int]\n",
    "    Renvoie la population moins les morts\n",
    "    '''\n",
    "    \n",
    "    pop_ev_ok = {}\n",
    "    i = 0\n",
    "    for i in pop :\n",
    "        pop_ev_ok[i] = pop[i] - mort_gen(pmort, pop[i], i)\n",
    "    return pop_ev_ok\n",
    "\n",
    "pop_vivante(pmort, pop_init)"
   ]
  },
  {
   "cell_type": "markdown",
   "metadata": {},
   "source": [
    "On écrit ensuite la fonction finale qui nous donne après 10 ans la population (naissance puis mort)."
   ]
  },
  {
   "cell_type": "code",
   "execution_count": 268,
   "metadata": {},
   "outputs": [
    {
     "name": "stdout",
     "output_type": "stream",
     "text": [
      "Population à la génération suivante\n"
     ]
    },
    {
     "data": {
      "text/plain": [
       "{0: 54, 10: 0, 20: 0, 30: 44, 40: 46, 50: 9, 60: 4, 70: 0, 80: 0, 90: 0}"
      ]
     },
     "execution_count": 268,
     "metadata": {},
     "output_type": "execute_result"
    }
   ],
   "source": [
    "def pop_next(pop, p, pmort):\n",
    "    \"\"\"\n",
    "    dict[int:int] * dict[int:dict[int:float]] * dict[int:float] -> dict[int:int]\n",
    "    renvoie la population a la génération suivante\n",
    "    \"\"\"\n",
    "    popnext = pop_decade(pop, p)\n",
    "    popnext = pop_vivante(pmort, popnext)\n",
    "    \n",
    "    return popnext\n",
    "\n",
    "print(\"Population à la génération suivante\")\n",
    "pop_next(pop_init, p, pmort)"
   ]
  },
  {
   "cell_type": "markdown",
   "metadata": {},
   "source": [
    "On introduit ensuite une fonction pour avoir la population Pop après une nombre de decade d."
   ]
  },
  {
   "cell_type": "code",
   "execution_count": 269,
   "metadata": {},
   "outputs": [
    {
     "name": "stdout",
     "output_type": "stream",
     "text": [
      "Population à la decade d\n",
      "Année =  10\n",
      "age = 0 , Population =  53\n",
      "age = 10 , Population =  0\n",
      "age = 20 , Population =  0\n",
      "age = 30 , Population =  47\n",
      "age = 40 , Population =  45\n",
      "age = 50 , Population =  8\n",
      "age = 60 , Population =  5\n",
      "age = 70 , Population =  0\n",
      "age = 80 , Population =  0\n",
      "age = 90 , Population =  0\n",
      "Population totale =  158\n",
      " \n",
      "Année =  20\n",
      "age = 0 , Population =  38\n",
      "age = 10 , Population =  52\n",
      "age = 20 , Population =  0\n",
      "age = 30 , Population =  0\n",
      "age = 40 , Population =  43\n",
      "age = 50 , Population =  38\n",
      "age = 60 , Population =  8\n",
      "age = 70 , Population =  5\n",
      "age = 80 , Population =  0\n",
      "age = 90 , Population =  0\n",
      "Population totale =  184\n",
      " \n",
      "Année =  30\n",
      "age = 0 , Population =  12\n",
      "age = 10 , Population =  36\n",
      "age = 20 , Population =  52\n",
      "age = 30 , Population =  0\n",
      "age = 40 , Population =  0\n",
      "age = 50 , Population =  41\n",
      "age = 60 , Population =  34\n",
      "age = 70 , Population =  8\n",
      "age = 80 , Population =  3\n",
      "age = 90 , Population =  0\n",
      "Population totale =  186\n",
      " \n",
      "Année =  40\n",
      "age = 0 , Population =  16\n",
      "age = 10 , Population =  11\n",
      "age = 20 , Population =  36\n",
      "age = 30 , Population =  50\n",
      "age = 40 , Population =  0\n",
      "age = 50 , Population =  0\n",
      "age = 60 , Population =  35\n",
      "age = 70 , Population =  31\n",
      "age = 80 , Population =  7\n",
      "age = 90 , Population =  0\n",
      "Population totale =  186\n",
      " \n",
      "Année =  50\n",
      "age = 0 , Population =  39\n",
      "age = 10 , Population =  16\n",
      "age = 20 , Population =  11\n",
      "age = 30 , Population =  35\n",
      "age = 40 , Population =  48\n",
      "age = 50 , Population =  0\n",
      "age = 60 , Population =  0\n",
      "age = 70 , Population =  29\n",
      "age = 80 , Population =  23\n",
      "age = 90 , Population =  0\n",
      "Population totale =  201\n",
      " \n",
      "Année =  60\n",
      "age = 0 , Population =  39\n",
      "age = 10 , Population =  37\n",
      "age = 20 , Population =  16\n",
      "age = 30 , Population =  10\n",
      "age = 40 , Population =  28\n",
      "age = 50 , Population =  42\n",
      "age = 60 , Population =  0\n",
      "age = 70 , Population =  0\n",
      "age = 80 , Population =  21\n",
      "age = 90 , Population =  0\n",
      "Population totale =  193\n",
      " \n",
      "Année =  70\n",
      "age = 0 , Population =  25\n",
      "age = 10 , Population =  38\n",
      "age = 20 , Population =  36\n",
      "age = 30 , Population =  15\n",
      "age = 40 , Population =  10\n",
      "age = 50 , Population =  25\n",
      "age = 60 , Population =  38\n",
      "age = 70 , Population =  0\n",
      "age = 80 , Population =  0\n",
      "age = 90 , Population =  0\n",
      "Population totale =  187\n",
      " \n",
      "Année =  80\n",
      "age = 0 , Population =  23\n",
      "age = 10 , Population =  25\n",
      "age = 20 , Population =  36\n",
      "age = 30 , Population =  36\n",
      "age = 40 , Population =  15\n",
      "age = 50 , Population =  9\n",
      "age = 60 , Population =  23\n",
      "age = 70 , Population =  31\n",
      "age = 80 , Population =  0\n",
      "age = 90 , Population =  0\n",
      "Population totale =  198\n",
      " \n",
      "Année =  90\n",
      "age = 0 , Population =  32\n",
      "age = 10 , Population =  23\n",
      "age = 20 , Population =  24\n",
      "age = 30 , Population =  32\n",
      "age = 40 , Population =  31\n",
      "age = 50 , Population =  14\n",
      "age = 60 , Population =  7\n",
      "age = 70 , Population =  21\n",
      "age = 80 , Population =  21\n",
      "age = 90 , Population =  0\n",
      "Population totale =  205\n",
      " \n",
      "Année =  100\n",
      "age = 0 , Population =  31\n",
      "age = 10 , Population =  32\n",
      "age = 20 , Population =  22\n",
      "age = 30 , Population =  24\n",
      "age = 40 , Population =  31\n",
      "age = 50 , Population =  28\n",
      "age = 60 , Population =  14\n",
      "age = 70 , Population =  6\n",
      "age = 80 , Population =  11\n",
      "age = 90 , Population =  0\n",
      "Population totale =  199\n",
      " \n",
      "Année =  110\n",
      "age = 0 , Population =  38\n",
      "age = 10 , Population =  31\n",
      "age = 20 , Population =  32\n",
      "age = 30 , Population =  21\n",
      "age = 40 , Population =  23\n",
      "age = 50 , Population =  29\n",
      "age = 60 , Population =  27\n",
      "age = 70 , Population =  9\n",
      "age = 80 , Population =  4\n",
      "age = 90 , Population =  0\n",
      "Population totale =  214\n",
      " \n",
      "Année =  120\n",
      "age = 0 , Population =  30\n",
      "age = 10 , Population =  37\n",
      "age = 20 , Population =  29\n",
      "age = 30 , Population =  31\n",
      "age = 40 , Population =  20\n",
      "age = 50 , Population =  19\n",
      "age = 60 , Population =  25\n",
      "age = 70 , Population =  21\n",
      "age = 80 , Population =  8\n",
      "age = 90 , Population =  0\n",
      "Population totale =  220\n",
      " \n",
      "Année =  130\n",
      "age = 0 , Population =  35\n",
      "age = 10 , Population =  29\n",
      "age = 20 , Population =  36\n",
      "age = 30 , Population =  28\n",
      "age = 40 , Population =  27\n",
      "age = 50 , Population =  17\n",
      "age = 60 , Population =  18\n",
      "age = 70 , Population =  19\n",
      "age = 80 , Population =  10\n",
      "age = 90 , Population =  0\n",
      "Population totale =  219\n",
      " \n",
      "Année =  140\n",
      "age = 0 , Population =  56\n",
      "age = 10 , Population =  34\n",
      "age = 20 , Population =  29\n",
      "age = 30 , Population =  36\n",
      "age = 40 , Population =  26\n",
      "age = 50 , Population =  25\n",
      "age = 60 , Population =  13\n",
      "age = 70 , Population =  14\n",
      "age = 80 , Population =  14\n",
      "age = 90 , Population =  0\n",
      "Population totale =  247\n",
      " \n",
      "Année =  150\n",
      "age = 0 , Population =  37\n",
      "age = 10 , Population =  56\n",
      "age = 20 , Population =  34\n",
      "age = 30 , Population =  27\n",
      "age = 40 , Population =  34\n",
      "age = 50 , Population =  23\n",
      "age = 60 , Population =  22\n",
      "age = 70 , Population =  12\n",
      "age = 80 , Population =  10\n",
      "age = 90 , Population =  0\n",
      "Population totale =  255\n",
      " \n",
      "Année =  160\n",
      "age = 0 , Population =  34\n",
      "age = 10 , Population =  37\n",
      "age = 20 , Population =  55\n",
      "age = 30 , Population =  31\n",
      "age = 40 , Population =  22\n",
      "age = 50 , Population =  33\n",
      "age = 60 , Population =  19\n",
      "age = 70 , Population =  20\n",
      "age = 80 , Population =  7\n",
      "age = 90 , Population =  0\n",
      "Population totale =  258\n",
      " \n",
      "Année =  170\n",
      "age = 0 , Population =  38\n",
      "age = 10 , Population =  34\n",
      "age = 20 , Population =  37\n",
      "age = 30 , Population =  52\n",
      "age = 40 , Population =  28\n",
      "age = 50 , Population =  22\n",
      "age = 60 , Population =  31\n",
      "age = 70 , Population =  17\n",
      "age = 80 , Population =  15\n",
      "age = 90 , Population =  0\n",
      "Population totale =  274\n",
      " \n",
      "Année =  180\n",
      "age = 0 , Population =  54\n",
      "age = 10 , Population =  37\n",
      "age = 20 , Population =  34\n",
      "age = 30 , Population =  36\n",
      "age = 40 , Population =  45\n",
      "age = 50 , Population =  27\n",
      "age = 60 , Population =  18\n",
      "age = 70 , Population =  28\n",
      "age = 80 , Population =  9\n",
      "age = 90 , Population =  0\n",
      "Population totale =  288\n",
      " \n",
      "Année =  190\n",
      "age = 0 , Population =  38\n",
      "age = 10 , Population =  51\n",
      "age = 20 , Population =  36\n",
      "age = 30 , Population =  33\n",
      "age = 40 , Population =  32\n",
      "age = 50 , Population =  38\n",
      "age = 60 , Population =  25\n",
      "age = 70 , Population =  15\n",
      "age = 80 , Population =  20\n",
      "age = 90 , Population =  0\n",
      "Population totale =  288\n",
      " \n",
      "Année =  200\n",
      "age = 0 , Population =  43\n",
      "age = 10 , Population =  36\n",
      "age = 20 , Population =  49\n",
      "age = 30 , Population =  35\n",
      "age = 40 , Population =  28\n",
      "age = 50 , Population =  30\n",
      "age = 60 , Population =  29\n",
      "age = 70 , Population =  23\n",
      "age = 80 , Population =  11\n",
      "age = 90 , Population =  0\n",
      "Population totale =  284\n",
      " \n"
     ]
    },
    {
     "data": {
      "text/plain": [
       "{0: 43, 10: 36, 20: 49, 30: 35, 40: 28, 50: 30, 60: 29, 70: 23, 80: 11, 90: 0}"
      ]
     },
     "execution_count": 269,
     "metadata": {},
     "output_type": "execute_result"
    }
   ],
   "source": [
    "def pop_after_d(pop, p , pmort, d):\n",
    "    \"\"\"\n",
    "    dict[int:int]*dict[int:dict[int:float]]*dict[int:float]*int->dict[int:int]\n",
    "    Renvoie la population à la decade d\n",
    "    \"\"\"\n",
    "    for i in range(d):\n",
    "        print(\"Année = \", ((i + 1)*10))\n",
    "        pop = pop_next(pop, p, pmort)\n",
    "        pop_totale = 0\n",
    "        j = 0\n",
    "        while j <= 90 : \n",
    "            print(\"age =\", j,\", Population = \",pop[j])\n",
    "            pop_totale = pop_totale + pop[j]\n",
    "            j = j + 10\n",
    "        print(\"Population totale = \", pop_totale)\n",
    "        print(\" \")\n",
    "    return pop\n",
    "\n",
    "print(\"Population à la decade d\")\n",
    "pop_after_d(pop_init, p, pmort, 20)"
   ]
  },
  {
   "cell_type": "markdown",
   "metadata": {},
   "source": [
    "Fonction pour savoir ou bout de combien de decade on arrive à une pop totale n"
   ]
  },
  {
   "cell_type": "code",
   "execution_count": 270,
   "metadata": {},
   "outputs": [
    {
     "data": {
      "text/plain": [
       "('Année = ', 910, 'Population = ', 10053)"
      ]
     },
     "execution_count": 270,
     "metadata": {},
     "output_type": "execute_result"
    }
   ],
   "source": [
    "def nb_of_decade(pop, p , pmort, n):\n",
    "    \"\"\"\n",
    "    dict[int:int] * dict[int:dict[int:float]] * dict[int:float] * int -> tuple[str, int,  str, int]\n",
    "    Renvoie decade ou pop > n\n",
    "    \"\"\"\n",
    "    d = 0\n",
    "    pop_totale = 0\n",
    "    while pop_totale < n :\n",
    "        d = d + 1\n",
    "        pop = pop_next(pop, p, pmort)\n",
    "        j = 0\n",
    "        pop_totale = 0\n",
    "        while j <= 90 :\n",
    "            pop_totale = pop_totale + pop[j]\n",
    "            j = j + 10\n",
    "    return (\"Année = \", (d*10), \"Population = \", pop_totale)\n",
    "nb_of_decade(pop_init, p, pmort, 10000)"
   ]
  },
  {
   "cell_type": "markdown",
   "metadata": {},
   "source": [
    "On va ensuite essayer de complexifier un peu notre modèle en prenant en compte le sexe des colons."
   ]
  },
  {
   "cell_type": "code",
   "execution_count": 271,
   "metadata": {},
   "outputs": [],
   "source": [
    "#On va donc créer des dictionnaires en bal\n",
    "pop_h = {0 : 0,\n",
    "    10 : 0,\n",
    "    20 : 25,\n",
    "    30 : 25,\n",
    "    40 : 5,\n",
    "    50 : 2,\n",
    "    60 : 0,\n",
    "    70 : 0,\n",
    "    80 : 0,\n",
    "    90 : 0}\n",
    "\n",
    "\n",
    "pop_f = {0 : 0,\n",
    "    10 : 0,\n",
    "    20 : 25,\n",
    "    30 : 25,\n",
    "    40 : 5,\n",
    "    50 : 3,\n",
    "    60 : 0,\n",
    "    70 : 0,\n",
    "    80 : 0,\n",
    "    90 : 0}\n",
    "\n",
    "Pop_totale = {1 : pop_h,\n",
    "              2 : pop_f}\n"
   ]
  },
  {
   "cell_type": "markdown",
   "metadata": {},
   "source": [
    "On part du principe qu'il faut un homme et une femme pour faire des enfants."
   ]
  },
  {
   "cell_type": "code",
   "execution_count": 272,
   "metadata": {},
   "outputs": [
    {
     "data": {
      "text/plain": [
       "25"
      ]
     },
     "execution_count": 272,
     "metadata": {},
     "output_type": "execute_result"
    }
   ],
   "source": [
    "pop_h.get(20)"
   ]
  },
  {
   "cell_type": "code",
   "execution_count": 273,
   "metadata": {},
   "outputs": [
    {
     "data": {
      "text/plain": [
       "{0: 0, 10: 0, 20: 25, 30: 25, 40: 5, 50: 2, 60: 0, 70: 0, 80: 0, 90: 0}"
      ]
     },
     "execution_count": 273,
     "metadata": {},
     "output_type": "execute_result"
    }
   ],
   "source": [
    "def compte_couple(Pop_totale):\n",
    "    \n",
    "    age_couple = dict()\n",
    "    \n",
    "    poph = Pop_totale[1]\n",
    "    popf = Pop_totale[2]\n",
    "    i = 0\n",
    "    while i <= 90 :\n",
    "        age_couple[i] = min(poph[i], popf[i])\n",
    "        i = i + 10\n",
    "    return age_couple\n",
    "compte_couple(Pop_totale)\n",
    "    "
   ]
  },
  {
   "cell_type": "code",
   "execution_count": 274,
   "metadata": {},
   "outputs": [],
   "source": [
    "age_couple = {0: 0, 10: 0, 20: 25, 30: 25, 40: 5, 50: 2, 60: 0, 70: 0, 80: 0, 90: 0}"
   ]
  },
  {
   "cell_type": "markdown",
   "metadata": {},
   "source": [
    "On fait maintenant la fonction qui nous donne la descendance d'un couple sur une decade."
   ]
  },
  {
   "cell_type": "code",
   "execution_count": 275,
   "metadata": {},
   "outputs": [],
   "source": [
    "def nb_enfant_couple_decade(ageh, agef, p):\n",
    "\n",
    "    u = np.random.random()\n",
    "    s = 0\n",
    "    pb = p[a]\n",
    "    for k in pb.keys():\n",
    "        s += pb[k]\n",
    "        if u < s:\n",
    "            return k"
   ]
  },
  {
   "cell_type": "markdown",
   "metadata": {},
   "source": [
    "Nombre de naissance en fonction du nombre de couple."
   ]
  },
  {
   "cell_type": "code",
   "execution_count": 276,
   "metadata": {},
   "outputs": [
    {
     "data": {
      "text/plain": [
       "37"
      ]
     },
     "execution_count": 276,
     "metadata": {},
     "output_type": "execute_result"
    }
   ],
   "source": [
    "def nb_naissances_couples(p1, p2):\n",
    "    '''\n",
    "    dict[int:int] * dict[int:dict[int:float]] -> int\n",
    "    renvoie le nombre de naissances pendant 10 ans\n",
    "    '''\n",
    "    a = 0\n",
    "    nv_enfant = 0\n",
    "    for a in p1:\n",
    "        b = p1[a]\n",
    "        i = 0\n",
    "        while i < b:\n",
    "            nv_enfant += number_of_descendants(p2, a)\n",
    "            i += 1\n",
    "    return nv_enfant \n",
    "\n",
    "nb_naissances_couples(age_couple,p)"
   ]
  },
  {
   "cell_type": "markdown",
   "metadata": {},
   "source": [
    "on \"tri\" pour savoir combien de garçons et de filles sont nés"
   ]
  },
  {
   "cell_type": "code",
   "execution_count": 277,
   "metadata": {},
   "outputs": [
    {
     "data": {
      "text/plain": [
       "{1: 24, 2: 26}"
      ]
     },
     "execution_count": 277,
     "metadata": {},
     "output_type": "execute_result"
    }
   ],
   "source": [
    "def tri_naissance(nb_enfant):\n",
    "    \n",
    "    nb_enfant_h = 0\n",
    "    nb_enfant_f = 0\n",
    "    for i in range(0, nb_enfant):\n",
    "        a = random.randint(1, 2)\n",
    "        if a == 1:\n",
    "            nb_enfant_h = nb_enfant_h + 1\n",
    "        else :\n",
    "            nb_enfant_f = nb_enfant_f + 1\n",
    "    return {1 : nb_enfant_h, 2 : nb_enfant_f}\n",
    "    \n",
    "    \n",
    "tri_naissance(50)"
   ]
  },
  {
   "cell_type": "markdown",
   "metadata": {},
   "source": [
    "On améliorer les anciennes fcts."
   ]
  },
  {
   "cell_type": "code",
   "execution_count": 278,
   "metadata": {},
   "outputs": [
    {
     "data": {
      "text/plain": [
       "{1: {0: 6, 10: 0, 20: 0, 30: 25, 40: 25, 50: 5, 60: 2, 70: 0, 80: 0, 90: 0},\n",
       " 2: {0: 12, 10: 0, 20: 0, 30: 25, 40: 25, 50: 5, 60: 3, 70: 0, 80: 0, 90: 0}}"
      ]
     },
     "execution_count": 278,
     "metadata": {},
     "output_type": "execute_result"
    }
   ],
   "source": [
    "def pop_decade_couple(Pop_totale,p):\n",
    "    '''\n",
    "    dict[int:int] * dict[int:dict[int:float]] -> dict[int:dict[int:int]]\n",
    "    renvoie le dict de population apres une decade (lire avec l'accent svp)\n",
    "    '''\n",
    "    nb_couple = compte_couple(Pop_totale)\n",
    "    nv_enfant = nb_naissances_couples(nb_couple, p)\n",
    "    tri = tri_naissance(nv_enfant)\n",
    "    popho = Pop_totale[1]\n",
    "    popfe = Pop_totale[2]\n",
    "    poph_ev = dict()\n",
    "    popf_ev = dict()\n",
    "    i = 0\n",
    "    while i < 90:\n",
    "        \n",
    "        poph_ev[(i + 10)] = popho[i]\n",
    "        popf_ev[(i + 10)] = popfe[i]\n",
    "        i += 10\n",
    "        \n",
    "    poph_ev[0] = tri[1]\n",
    "    popf_ev[0] = tri[2]\n",
    "    \n",
    "    pop_ev = {1 : poph_ev, 2 : popf_ev}\n",
    "    \n",
    "    return pop_ev\n",
    "    \n",
    "\n",
    "pop_decade_couple(Pop_totale,p)"
   ]
  },
  {
   "cell_type": "markdown",
   "metadata": {},
   "source": [
    "Graphique :"
   ]
  },
  {
   "cell_type": "code",
   "execution_count": 279,
   "metadata": {},
   "outputs": [],
   "source": [
    "def extract(pop_dic, key=1):\n",
    "    age = []\n",
    "    qte = []\n",
    "    \n",
    "    for k, v in pop_dic[key].items():\n",
    "        age.append(k)\n",
    "        qte.append(v)\n",
    "    \n",
    "    return age, qte\n",
    "\n",
    "l, v = extract(Pop_totale)\n"
   ]
  },
  {
   "cell_type": "code",
   "execution_count": 280,
   "metadata": {},
   "outputs": [
    {
     "data": {
      "text/plain": [
       "[<matplotlib.lines.Line2D at 0x7fedee053f98>]"
      ]
     },
     "execution_count": 280,
     "metadata": {},
     "output_type": "execute_result"
    },
    {
     "data": {
      "image/png": "[encoded data removed]",
      "text/plain": [
       "<Figure size 432x288 with 1 Axes>"
      ]
     },
     "metadata": {},
     "output_type": "display_data"
    }
   ],
   "source": [
    "plt.plot(l, v, \"--\")"
   ]
  },
  {
   "cell_type": "code",
   "execution_count": 295,
   "metadata": {},
   "outputs": [
    {
     "name": "stdout",
     "output_type": "stream",
     "text": [
      "[[10, 0, 0, 25, 25, 5, 2, 0, 0, 0], [12, 10, 0, 0, 25, 25, 5, 2, 0, 0], [4, 12, 10, 0, 0, 25, 25, 5, 2, 0], [1, 4, 12, 10, 0, 0, 25, 25, 5, 2], [6, 1, 4, 12, 10, 0, 0, 25, 25, 5], [4, 6, 1, 4, 12, 10, 0, 0, 25, 25], [7, 4, 6, 1, 4, 12, 10, 0, 0, 25], [2, 7, 4, 6, 1, 4, 12, 10, 0, 0], [1, 2, 7, 4, 6, 1, 4, 12, 10, 0], [2, 1, 2, 7, 4, 6, 1, 4, 12, 10], [2, 2, 1, 2, 7, 4, 6, 1, 4, 12], [1, 2, 2, 1, 2, 7, 4, 6, 1, 4], [0, 1, 2, 2, 1, 2, 7, 4, 6, 1], [0, 0, 1, 2, 2, 1, 2, 7, 4, 6], [0, 0, 0, 1, 2, 2, 1, 2, 7, 4]]\n"
     ]
    },
    {
     "data": {
      "image/png": "[encoded data removed]",
      "text/plain": [
       "<Figure size 432x288 with 1 Axes>"
      ]
     },
     "metadata": {},
     "output_type": "display_data"
    }
   ],
   "source": [
    "def liste_pop_decade_couple(Pop_totale,p, n):\n",
    "    \n",
    "    L2 = []\n",
    "    pop_ev = Pop_totale\n",
    "    for i in range (0, n):\n",
    "        l2 = []\n",
    "        pop_ev = pop_decade_couple(pop_ev,p)\n",
    "        o = pop_ev[1]\n",
    "        for u in range (0, 100, 10):\n",
    "            l2.append(o[u])\n",
    "            \n",
    "        \n",
    "        \n",
    "        L2.append(l2)\n",
    "        l2 = []\n",
    "    print(L2)\n",
    "    return L2\n",
    "\n",
    "L2 = liste_pop_decade_couple(Pop_totale,p, 15)\n",
    "\n",
    "def plot_2(L2):\n",
    "    plt.figure()\n",
    "    plt.plot(L2)\n",
    "    plt.legend([\"Age \" + str(i) for i in p])\n",
    "    plt.xlabel(\"Décennie\")\n",
    "    plt.ylabel(\"Population Homme\")\n",
    "    plt.show()\n",
    "    return\n",
    "plot_2(L2)\n",
    "\n"
   ]
  },
  {
   "cell_type": "markdown",
   "metadata": {},
   "source": [
    "Fonction suivante :"
   ]
  },
  {
   "cell_type": "code",
   "execution_count": 282,
   "metadata": {},
   "outputs": [
    {
     "data": {
      "text/plain": [
       "{0: 0, 10: 0, 20: 50, 30: 48, 40: 10, 50: 4, 60: 0, 70: 0, 80: 0, 90: 0}"
      ]
     },
     "execution_count": 282,
     "metadata": {},
     "output_type": "execute_result"
    }
   ],
   "source": [
    "def pop_vivante_couple(pmort, pop1):\n",
    "    '''\n",
    "    dict[int:float] * dict[int:dict[int:int] -> dict[int:int]\n",
    "    Renvoie la population moins les morts\n",
    "    '''\n",
    "    poph_n = []\n",
    "    poph_n = pop1[1]\n",
    "    popf_n = pop1[2]\n",
    "    pop = dict()\n",
    "    pop_ev_ok = {}\n",
    "    u = 0\n",
    "    while u < 100:\n",
    "        pop[u] = (poph_n[u] + popf_n[u])\n",
    "        u = u + 10\n",
    "    i = 0\n",
    "    for i in pop :\n",
    "        pop_ev_ok[i] = pop[i] - mort_gen(pmort, pop[i], i)\n",
    "    return pop_ev_ok\n",
    "\n",
    "pop_vivante_couple(pmort, Pop_totale)"
   ]
  },
  {
   "cell_type": "code",
   "execution_count": 283,
   "metadata": {},
   "outputs": [],
   "source": [
    "from tkinter import *\n",
    "\n",
    "fene = Tk()\n",
    "fene.title(\"Simulation Mars\")\n",
    "fond = Canvas(fene, width='400', height='400', bg=\"black\")\n",
    "fond.pack()\n",
    "\n",
    "\n",
    "def vie():\n",
    "\n",
    "    fond1 = Canvas(fond, width='400', height='400', bg=\"black\")\n",
    "    fond1.pack()\n",
    "\n",
    "    colors = [\"blue\",\"green\",\"purple\",\"white\",\"yellow\",\"grey\",\"orange\",\"pink\",\"black\"]\n",
    "    #color = [\"blue\",\"black\"]\n",
    "\n",
    "    \n",
    "    \n",
    "    D = []\n",
    "    for i in range(20):\n",
    "        for j in range(20):\n",
    "            fond.create_rectangle(i*20,j*20, 20+i*20, 20+j*20, fill = colors[random.randint(0,8)])\n",
    "            D.append(random.randint(0,1))\n",
    "\n",
    "    fond1.destroy()        \n",
    "    fene.after(50,vie)\n",
    "            \n",
    "vie()\n",
    "fene.mainloop()"
   ]
  },
  {
   "cell_type": "code",
   "execution_count": null,
   "metadata": {},
   "outputs": [],
   "source": []
  },
  {
   "cell_type": "markdown",
   "metadata": {},
   "source": [
    "/*--------------------------------------------------------------------------------------------------------------------------------------------------------------------------------------------------*/"
   ]
  },
  {
   "cell_type": "code",
   "execution_count": 284,
   "metadata": {},
   "outputs": [],
   "source": [
    "#fonction ressources"
   ]
  },
  {
   "cell_type": "code",
   "execution_count": 285,
   "metadata": {},
   "outputs": [],
   "source": [
    "def ressource_terre(ini,x,n):\n",
    "    \"\"\"int**3->int\n",
    "    retourne le taux de ressource envoyé de la terre en fonction de decade n en fonction de ini et x\"\"\"\n",
    "    t=0\n",
    "    while t<=n+1:    \n",
    "        ini=ini+x*t\n",
    "        t=t+10\n",
    "    return ini"
   ]
  },
  {
   "cell_type": "code",
   "execution_count": 286,
   "metadata": {},
   "outputs": [],
   "source": [
    "#taux de ressources necessaire\n",
    "coefress=0.002   #coef de la fonction affine\n",
    "resini=0.9#taux de ressource initial envoyé de la terre\n",
    "d=5  #decade\n",
    "dmax=20\n",
    "rTerre=ressource_terre(resini,coefress,d)     #ressources provenant de la terre \n",
    "rPlanet=0   #ressources récolté sur place\n",
    "\n",
    "coef=1          #coefficient"
   ]
  },
  {
   "cell_type": "code",
   "execution_count": 287,
   "metadata": {},
   "outputs": [
    {
     "data": {
      "text/plain": [
       "{0: 0.1,\n",
       " 10: 0.018,\n",
       " 20: 0.018,\n",
       " 30: 0.046,\n",
       " 40: 0.074,\n",
       " 50: 0.083,\n",
       " 60: 0.11,\n",
       " 70: 0.138,\n",
       " 80: 0.276,\n",
       " 90: 0.92}"
      ]
     },
     "execution_count": 287,
     "metadata": {},
     "output_type": "execute_result"
    }
   ],
   "source": [
    "def impact_ressources(t,dpm):\n",
    "        \"\"\"float**2*dict[int:float]->dict[int:float]\n",
    "        retourne le dictionnaire pmort avec l'impact des ressources\"\"\"\n",
    "        j=10\n",
    "        while j <= 90 : \n",
    "            dpm[j]= round(dpm[j]*t,3)\n",
    "            j=j+10\n",
    "        return dpm\n",
    "\n",
    "impact_ressources(ressource_terre(resini,coefress,10),pmort)\n",
    "        \n",
    "        "
   ]
  },
  {
   "cell_type": "code",
   "execution_count": 290,
   "metadata": {
    "scrolled": true
   },
   "outputs": [
    {
     "name": "stdout",
     "output_type": "stream",
     "text": [
      "decade = 0\n",
      "{0: 0.1, 80: 0.034, 50: 0.011, 20: 0.005, 70: 0.018, 40: 0.01, 10: 0.005, 60: 0.013, 90: 0.116, 30: 0.006}\n",
      "decade = 1\n",
      "{0: 0.1, 80: 0.031, 50: 0.01, 20: 0.005, 70: 0.016, 40: 0.009, 10: 0.005, 60: 0.012, 90: 0.104, 30: 0.005}\n",
      "decade = 2\n",
      "{0: 0.1, 80: 0.028, 50: 0.009, 20: 0.005, 70: 0.014, 40: 0.008, 10: 0.005, 60: 0.011, 90: 0.094, 30: 0.005}\n",
      "decade = 3\n",
      "{0: 0.1, 80: 0.025, 50: 0.008, 20: 0.005, 70: 0.013, 40: 0.007, 10: 0.005, 60: 0.01, 90: 0.085, 30: 0.005}\n",
      "decade = 4\n",
      "{0: 0.1, 80: 0.023, 50: 0.007, 20: 0.005, 70: 0.012, 40: 0.006, 10: 0.005, 60: 0.009, 90: 0.077, 30: 0.005}\n",
      "decade = 5\n",
      "{0: 0.1, 80: 0.021, 50: 0.006, 20: 0.005, 70: 0.011, 40: 0.005, 10: 0.005, 60: 0.008, 90: 0.069, 30: 0.005}\n",
      "decade = 6\n",
      "{0: 0.1, 80: 0.019, 50: 0.005, 20: 0.005, 70: 0.01, 40: 0.005, 10: 0.005, 60: 0.007, 90: 0.062, 30: 0.005}\n",
      "decade = 7\n",
      "{0: 0.1, 80: 0.017, 50: 0.005, 20: 0.005, 70: 0.009, 40: 0.005, 10: 0.005, 60: 0.006, 90: 0.056, 30: 0.005}\n",
      "decade = 8\n",
      "{0: 0.1, 80: 0.015, 50: 0.005, 20: 0.005, 70: 0.008, 40: 0.005, 10: 0.005, 60: 0.005, 90: 0.05, 30: 0.005}\n",
      "decade = 9\n",
      "{0: 0.1, 80: 0.014, 50: 0.005, 20: 0.005, 70: 0.007, 40: 0.005, 10: 0.005, 60: 0.005, 90: 0.046, 30: 0.005}\n",
      "decade = 10\n",
      "{0: 0.1, 80: 0.013, 50: 0.005, 20: 0.005, 70: 0.006, 40: 0.005, 10: 0.005, 60: 0.005, 90: 0.042, 30: 0.005}\n",
      "decade = 11\n",
      "{0: 0.1, 80: 0.012, 50: 0.005, 20: 0.005, 70: 0.006, 40: 0.005, 10: 0.005, 60: 0.005, 90: 0.039, 30: 0.005}\n",
      "decade = 12\n",
      "{0: 0.1, 80: 0.011, 50: 0.005, 20: 0.005, 70: 0.006, 40: 0.005, 10: 0.005, 60: 0.005, 90: 0.036, 30: 0.005}\n",
      "decade = 13\n",
      "{0: 0.1, 80: 0.01, 50: 0.005, 20: 0.005, 70: 0.006, 40: 0.005, 10: 0.005, 60: 0.005, 90: 0.033, 30: 0.005}\n",
      "decade = 14\n",
      "{0: 0.1, 80: 0.009, 50: 0.005, 20: 0.005, 70: 0.006, 40: 0.005, 10: 0.005, 60: 0.005, 90: 0.03, 30: 0.005}\n",
      "decade = 15\n",
      "{0: 0.1, 80: 0.008, 50: 0.005, 20: 0.005, 70: 0.006, 40: 0.005, 10: 0.005, 60: 0.005, 90: 0.028, 30: 0.005}\n",
      "decade = 16\n",
      "{0: 0.1, 80: 0.007, 50: 0.005, 20: 0.005, 70: 0.006, 40: 0.005, 10: 0.005, 60: 0.005, 90: 0.026, 30: 0.005}\n",
      "decade = 17\n",
      "{0: 0.1, 80: 0.006, 50: 0.005, 20: 0.005, 70: 0.006, 40: 0.005, 10: 0.005, 60: 0.005, 90: 0.024, 30: 0.005}\n",
      "decade = 18\n",
      "{0: 0.1, 80: 0.006, 50: 0.005, 20: 0.005, 70: 0.006, 40: 0.005, 10: 0.005, 60: 0.005, 90: 0.022, 30: 0.005}\n",
      "decade = 19\n",
      "{0: 0.1, 80: 0.006, 50: 0.005, 20: 0.005, 70: 0.006, 40: 0.005, 10: 0.005, 60: 0.005, 90: 0.021, 30: 0.005}\n",
      "decade = 20\n",
      "{0: 0.1, 80: 0.006, 50: 0.005, 20: 0.005, 70: 0.006, 40: 0.005, 10: 0.005, 60: 0.005, 90: 0.02, 30: 0.005}\n"
     ]
    },
    {
     "data": {
      "text/plain": [
       "{0: 0.1,\n",
       " 10: 0.005,\n",
       " 20: 0.005,\n",
       " 30: 0.005,\n",
       " 40: 0.005,\n",
       " 50: 0.005,\n",
       " 60: 0.005,\n",
       " 70: 0.006,\n",
       " 80: 0.006,\n",
       " 90: 0.019}"
      ]
     },
     "execution_count": 290,
     "metadata": {},
     "output_type": "execute_result"
    }
   ],
   "source": [
    "def impact_ressources_decade(t,nmax,dpm):\n",
    "    \"\"\"int**3*dict[int:float]\n",
    "    retourne le dictionnaire pmort avec l'impact des ressources en fonction des decades\n",
    "    avec n la decade max\"\"\"\n",
    "    i=0\n",
    "    while i<=nmax:\n",
    "        print(\"decade =\",i)\n",
    "        a = impact_ressources(ressource_terre(resini,coefress,i),pmort)\n",
    "        print(a)\n",
    "        i=i+1\n",
    "    return\n",
    "impact_ressources_decade(ressource_terre(resini,coefress,1),dmax,pmort)\n",
    "impact_ressources(ressource_terre(resini,coefress,1),pmort)"
   ]
  },
  {
   "cell_type": "code",
   "execution_count": null,
   "metadata": {},
   "outputs": [],
   "source": []
  }
 ],
 "metadata": {
  "kernelspec": {
   "display_name": "Python 3",
   "language": "python",
   "name": "python3"
  },
  "language_info": {
   "codemirror_mode": {
    "name": "ipython",
    "version": 3
   },
   "file_extension": ".py",
   "mimetype": "text/x-python",
   "name": "python",
   "nbconvert_exporter": "python",
   "pygments_lexer": "ipython3",
   "version": "3.5.3"
  }
 },
 "nbformat": 4,
 "nbformat_minor": 2
}
