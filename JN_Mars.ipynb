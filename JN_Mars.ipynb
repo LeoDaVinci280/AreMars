{
 "cells": [
  {
   "cell_type": "markdown",
   "metadata": {},
   "source": [
    "Début du projet : "
   ]
  },
  {
   "cell_type": "markdown",
   "metadata": {},
   "source": [
    "Problématique : Comment assurer la survie d'une population sur Mars ?"
   ]
  },
  {
   "cell_type": "markdown",
   "metadata": {},
   "source": [
    "Français\n",
    "\n",
    "On souhaite étudier le phénomène de survie d’une population humaine coloniale sur Mars, plus particulièrement, les conditions permettant la prospérité de cette dernière. On organise le problème comme suit : une population, distribuée en hommes et femmes, répartis selon des tranches d’âges variant de 0 à 90 ans. Leur survie est surveillée toutes les décennies. Ils grandissent et peuvent faire des enfants, qui grandiront et survivront de la même manière. Ils reçoivent également une certaine quantité de ressources.\n",
    "On observe qu’à travers le temps, la survie est assurée pour une population dont les proportions initiales d’hommes et de femmes sont les mêmes (pour assurer une postérité, elle-même prospère) ainsi que jouissant de quantités de ressources suffisantes.\n",
    "\n",
    "\n",
    "\n",
    "\n",
    "\n",
    "Anglais\n",
    "\n",
    "This a survival simulation that follows the behavior of a population on Mars over time.\n",
    "Our program consists in generating a set of people, of which gender and age are initially chosen. Their behavior is checked every decade, which makes them grow older. Through a probability dictionnary, they can, when coupled, give oftspring, that will behave the same way. They are provided with a ressource system that decreases death likelyhood.\n",
    "Their survival is guarenteed only under specific circumstances : male and female proportions must be (at least) approximately the same (so they can make kids), and there must be the right amount of ressources.  "
   ]
  },
  {
   "cell_type": "code",
   "execution_count": 176,
   "metadata": {},
   "outputs": [],
   "source": [
    "%matplotlib inline     \n",
    "# ^Sans animations\n",
    "# %matplotlib notebook \n",
    "# ^Avec animations\n",
    "import numpy as np\n",
    "import matplotlib.pyplot as plt\n",
    "from matplotlib import animation\n",
    "import random "
   ]
  },
  {
   "cell_type": "markdown",
   "metadata": {},
   "source": [
    "On commence par faire des dictionnaires sur les probabilités de décès et de descendance en fonction de la décennie."
   ]
  },
  {
   "cell_type": "code",
   "execution_count": 177,
   "metadata": {},
   "outputs": [],
   "source": [
    "# Dictionnaire représentant la distribution de probabilité des descendants.\n",
    "# clef = nombre de descendants et valeur = probabilité\n",
    "\n",
    "p0 = {0 : 1.0}\n",
    "\n",
    "p10 = {0 : 1.0}\n",
    "\n",
    "p20 = {0 : 0.7,\n",
    "     1 : 0.2,\n",
    "     2 : 0.1}\n",
    "\n",
    "p30 = {0 : 0.5,\n",
    "     1 : 0.35,\n",
    "     2 : 0.15}\n",
    "\n",
    "p40 = {0 : 0.75,\n",
    "     1 : 0.15,\n",
    "     2 : 0.1}\n",
    "\n",
    "p50 = {0 : 0.9,\n",
    "     1 : 0.1}\n",
    "\n",
    "p60 = {0 : 1.0}\n",
    " \n",
    "p70 = {0 : 1.0}\n",
    "\n",
    "p80 = {0 : 1.0}\n",
    "\n",
    "p90 = {0 : 1.0}\n",
    "\n",
    "p = {0 : p0,\n",
    "    10 : p10,\n",
    "    20 : p20,\n",
    "    30 : p30,\n",
    "    40 : p40,\n",
    "    50 : p50,\n",
    "    60 : p60,\n",
    "    70 : p70,\n",
    "    80 : p80,\n",
    "    90 : p90}"
   ]
  },
  {
   "cell_type": "code",
   "execution_count": 180,
   "metadata": {},
   "outputs": [
    {
     "data": {
      "text/plain": [
       "0"
      ]
     },
     "execution_count": 180,
     "metadata": {},
     "output_type": "execute_result"
    }
   ],
   "source": [
    "def number_of_descendants(p, a):\n",
    "    '''\n",
    "    dict[int:dict[int:float]]*int->int\n",
    "    Étant donnée une distibution de probabilité 'p', et un age, la fonction retourne le nombre de descendants d'un individu.\n",
    "    '''\n",
    "    u = np.random.random()\n",
    "    s = 0\n",
    "    pb = p[a]\n",
    "    for k in pb.keys():\n",
    "        s += pb[k]\n",
    "        if u < s:\n",
    "            return k\n",
    "        \n",
    "number_of_descendants(p, 30)"
   ]
  },
  {
   "cell_type": "markdown",
   "metadata": {},
   "source": [
    " On teste cette fonction pour verifier la cohérence des dictionnaires de proba."
   ]
  },
  {
   "cell_type": "code",
   "execution_count": 181,
   "metadata": {},
   "outputs": [
    {
     "data": {
      "text/plain": [
       "1"
      ]
     },
     "execution_count": 181,
     "metadata": {},
     "output_type": "execute_result"
    }
   ],
   "source": [
    "def number_of_descendants_in_a_life_time(p):\n",
    "    '''\n",
    "    dict[int:dict[int:float]]->int\n",
    "    nombre de minots sur une vie\n",
    "    '''\n",
    "    a = 0\n",
    "    nb_de_m = 0\n",
    "    while a <= 90:\n",
    "        nb_de_m += number_of_descendants(p, a)\n",
    "        a += 10\n",
    "    return nb_de_m\n",
    "\n",
    "\n",
    "number_of_descendants_in_a_life_time(p)"
   ]
  },
  {
   "cell_type": "markdown",
   "metadata": {},
   "source": [
    "On créé le dictionnaire initial de la population"
   ]
  },
  {
   "cell_type": "code",
   "execution_count": 182,
   "metadata": {},
   "outputs": [],
   "source": [
    "pop_init = {0 : 0,\n",
    "    10 : 0,\n",
    "    20 : 50,\n",
    "    30 : 50,\n",
    "    40 : 10,\n",
    "    50 : 5,\n",
    "    60 : 0,\n",
    "    70 : 0,\n",
    "    80 : 0,\n",
    "    90 : 0}"
   ]
  },
  {
   "cell_type": "markdown",
   "metadata": {},
   "source": [
    "Fonction qui donne le nombre total de naissances en fonction du dictionnaire de population"
   ]
  },
  {
   "cell_type": "code",
   "execution_count": 183,
   "metadata": {},
   "outputs": [
    {
     "data": {
      "text/plain": [
       "73"
      ]
     },
     "execution_count": 183,
     "metadata": {},
     "output_type": "execute_result"
    }
   ],
   "source": [
    "def nb_naissances(p1, p2):\n",
    "    '''\n",
    "    dict[int:int] * dict[int:dict[int:float]] -> int\n",
    "    renvoie le nombre de naissances pendant 10 ans\n",
    "    '''\n",
    "    a = 0\n",
    "    nv_enfant = 0\n",
    "    for a in p1:\n",
    "        b = p1[a]\n",
    "        i = 0\n",
    "        while i < b:\n",
    "            nv_enfant += number_of_descendants(p2, a)\n",
    "            i += 1\n",
    "    return nv_enfant \n",
    "\n",
    "nb_naissances(pop_init,p)     "
   ]
  },
  {
   "cell_type": "markdown",
   "metadata": {},
   "source": [
    "On met ensuite à jours le dictionnaire de population\n",
    "\n",
    "on fait l'hypothèse qu'au dessus de 99 ans, on meurt"
   ]
  },
  {
   "cell_type": "code",
   "execution_count": 184,
   "metadata": {},
   "outputs": [
    {
     "data": {
      "text/plain": [
       "{0: 55, 10: 0, 20: 0, 30: 50, 40: 50, 50: 10, 60: 5, 70: 0, 80: 0, 90: 0}"
      ]
     },
     "execution_count": 184,
     "metadata": {},
     "output_type": "execute_result"
    }
   ],
   "source": [
    "def pop_decade(pop,p):\n",
    "    '''\n",
    "    dict[int:int] * dict[int:dict[int:float]] -> dict[int:int]\n",
    "    renvoie le dict de population apres une decade (lire avec l'accent svp)\n",
    "    '''\n",
    "    nv_enfant = nb_naissances(pop, p)\n",
    "    pop_ev = {}\n",
    "    i = 0\n",
    "    while i < 90:\n",
    "        pop_ev[(i + 10)] = pop[i]\n",
    "        i += 10\n",
    "        \n",
    "    pop_ev[0] = nv_enfant\n",
    "    \n",
    "    return pop_ev\n",
    "    \n",
    "\n",
    "pop_decade(pop_init,p)\n",
    "    "
   ]
  },
  {
   "cell_type": "markdown",
   "metadata": {},
   "source": [
    "On introduit ensuite à l'aide d'un dictionnaire les probabilités de mortalités."
   ]
  },
  {
   "cell_type": "code",
   "execution_count": 185,
   "metadata": {},
   "outputs": [],
   "source": [
    "# Dictionnaire représentant la distribution de probabilité de mourir.\n",
    "# clef = age et valeur = probabilité\n",
    "\n",
    "pmort = {0 : 0.1,\n",
    "    10 : 0.02,\n",
    "    20 : 0.02,\n",
    "    30 : 0.05,\n",
    "    40 : 0.08,\n",
    "    50 : 0.09,\n",
    "    60 : 0.12,\n",
    "    70 : 0.15,\n",
    "    80 : 0.30,\n",
    "    90 : 1.0}"
   ]
  },
  {
   "cell_type": "markdown",
   "metadata": {},
   "source": [
    "Puis on fait une fonction plata_o_plomo qui donne avec le dictionnaire précédent si un indivudu est mort ou pas. "
   ]
  },
  {
   "cell_type": "code",
   "execution_count": 186,
   "metadata": {},
   "outputs": [
    {
     "data": {
      "text/plain": [
       "0"
      ]
     },
     "execution_count": 186,
     "metadata": {},
     "output_type": "execute_result"
    }
   ],
   "source": [
    "def plata_o_plomo(pmort, age):\n",
    "    '''\n",
    "    dict[int:float]*int->int\n",
    "    renvoie 0 si vivant et 1 si mort\n",
    "    '''\n",
    "    u = np.random.random()\n",
    "    if u < pmort[age]:\n",
    "        return 1\n",
    "    else :\n",
    "        return 0\n",
    "plata_o_plomo(pmort,30)"
   ]
  },
  {
   "cell_type": "markdown",
   "metadata": {},
   "source": [
    "Puis on créé une fonction qui va nous donner le nombre de mort pour une generation (decade)"
   ]
  },
  {
   "cell_type": "code",
   "execution_count": 187,
   "metadata": {},
   "outputs": [
    {
     "data": {
      "text/plain": [
       "2"
      ]
     },
     "execution_count": 187,
     "metadata": {},
     "output_type": "execute_result"
    }
   ],
   "source": [
    "def mort_gen(pmort, nb_gen, age):\n",
    "    '''\n",
    "    dict[int:float]*int*int->int\n",
    "    Renvoie le nombre de mort d'une generation \n",
    "    '''\n",
    "    i = 0\n",
    "    morts = 0\n",
    "    while i < nb_gen:\n",
    "        morts += plata_o_plomo(pmort, age)\n",
    "        i += 1\n",
    "    return morts\n",
    "\n",
    "mort_gen(pmort, 50, 30)    "
   ]
  },
  {
   "cell_type": "markdown",
   "metadata": {},
   "source": [
    "On fait ensuite passer l'ensemble des générations de la population dans la fonction pour avoir le nombre de gens en vie à la decade suivante (toujours avec l'accent svp)"
   ]
  },
  {
   "cell_type": "code",
   "execution_count": 188,
   "metadata": {},
   "outputs": [
    {
     "data": {
      "text/plain": [
       "{0: 0, 10: 0, 20: 50, 30: 49, 40: 9, 50: 4, 60: 0, 70: 0, 80: 0, 90: 0}"
      ]
     },
     "execution_count": 188,
     "metadata": {},
     "output_type": "execute_result"
    }
   ],
   "source": [
    "def pop_vivante(pmort, pop):\n",
    "    '''\n",
    "    dict[int:float]*dict[int:int]->dict[int:int]\n",
    "    Renvoie la population moins les morts\n",
    "    '''\n",
    "    \n",
    "    pop_ev_ok = {}\n",
    "    i = 0\n",
    "    for i in pop :\n",
    "        pop_ev_ok[i] = pop[i] - mort_gen(pmort, pop[i], i)\n",
    "    return pop_ev_ok\n",
    "\n",
    "pop_vivante(pmort, pop_init)"
   ]
  },
  {
   "cell_type": "markdown",
   "metadata": {},
   "source": [
    "On écrit ensuite la fonction finale qui nous donne après 10 ans la population (naissance puis mort)."
   ]
  },
  {
   "cell_type": "code",
   "execution_count": 189,
   "metadata": {},
   "outputs": [
    {
     "name": "stdout",
     "output_type": "stream",
     "text": [
      "Population à la génération suivante\n"
     ]
    },
    {
     "data": {
      "text/plain": [
       "{0: 42, 10: 0, 20: 0, 30: 48, 40: 45, 50: 9, 60: 5, 70: 0, 80: 0, 90: 0}"
      ]
     },
     "execution_count": 189,
     "metadata": {},
     "output_type": "execute_result"
    }
   ],
   "source": [
    "def pop_next(pop, p, pmort):\n",
    "    \"\"\"\n",
    "    dict[int:int] * dict[int:dict[int:float]] * dict[int:float] -> dict[int:int]\n",
    "    renvoie la population a la génération suivante\n",
    "    \"\"\"\n",
    "    popnext = pop_decade(pop, p)\n",
    "    popnext = pop_vivante(pmort, popnext)\n",
    "    \n",
    "    return popnext\n",
    "\n",
    "print(\"Population à la génération suivante\")\n",
    "pop_next(pop_init, p, pmort)"
   ]
  },
  {
   "cell_type": "markdown",
   "metadata": {},
   "source": [
    "On introduit ensuite une fonction pour avoir la population Pop après une nombre de decade d."
   ]
  },
  {
   "cell_type": "code",
   "execution_count": 190,
   "metadata": {},
   "outputs": [
    {
     "name": "stdout",
     "output_type": "stream",
     "text": [
      "Population à la decade d\n",
      "Année =  10\n",
      "age = 0 , Population =  52\n",
      "age = 10 , Population =  0\n",
      "age = 20 , Population =  0\n",
      "age = 30 , Population =  50\n",
      "age = 40 , Population =  47\n",
      "age = 50 , Population =  9\n",
      "age = 60 , Population =  5\n",
      "age = 70 , Population =  0\n",
      "age = 80 , Population =  0\n",
      "age = 90 , Population =  0\n",
      "Population totale =  163\n",
      " \n",
      "Année =  20\n",
      "age = 0 , Population =  49\n",
      "age = 10 , Population =  50\n",
      "age = 20 , Population =  0\n",
      "age = 30 , Population =  0\n",
      "age = 40 , Population =  46\n",
      "age = 50 , Population =  41\n",
      "age = 60 , Population =  8\n",
      "age = 70 , Population =  5\n",
      "age = 80 , Population =  0\n",
      "age = 90 , Population =  0\n",
      "Population totale =  199\n",
      " \n",
      "Année =  30\n",
      "age = 0 , Population =  21\n",
      "age = 10 , Population =  48\n",
      "age = 20 , Population =  48\n",
      "age = 30 , Population =  0\n",
      "age = 40 , Population =  0\n",
      "age = 50 , Population =  41\n",
      "age = 60 , Population =  38\n",
      "age = 70 , Population =  7\n",
      "age = 80 , Population =  3\n",
      "age = 90 , Population =  0\n",
      "Population totale =  206\n",
      " \n",
      "Année =  40\n",
      "age = 0 , Population =  22\n",
      "age = 10 , Population =  20\n",
      "age = 20 , Population =  48\n",
      "age = 30 , Population =  46\n",
      "age = 40 , Population =  0\n",
      "age = 50 , Population =  0\n",
      "age = 60 , Population =  36\n",
      "age = 70 , Population =  32\n",
      "age = 80 , Population =  7\n",
      "age = 90 , Population =  0\n",
      "Population totale =  211\n",
      " \n",
      "Année =  50\n",
      "age = 0 , Population =  41\n",
      "age = 10 , Population =  21\n",
      "age = 20 , Population =  19\n",
      "age = 30 , Population =  45\n",
      "age = 40 , Population =  40\n",
      "age = 50 , Population =  0\n",
      "age = 60 , Population =  0\n",
      "age = 70 , Population =  32\n",
      "age = 80 , Population =  23\n",
      "age = 90 , Population =  0\n",
      "Population totale =  221\n",
      " \n",
      "Année =  60\n",
      "age = 0 , Population =  56\n",
      "age = 10 , Population =  39\n",
      "age = 20 , Population =  21\n",
      "age = 30 , Population =  19\n",
      "age = 40 , Population =  43\n",
      "age = 50 , Population =  37\n",
      "age = 60 , Population =  0\n",
      "age = 70 , Population =  0\n",
      "age = 80 , Population =  21\n",
      "age = 90 , Population =  0\n",
      "Population totale =  236\n",
      " \n",
      "Année =  70\n",
      "age = 0 , Population =  29\n",
      "age = 10 , Population =  53\n",
      "age = 20 , Population =  38\n",
      "age = 30 , Population =  20\n",
      "age = 40 , Population =  16\n",
      "age = 50 , Population =  42\n",
      "age = 60 , Population =  34\n",
      "age = 70 , Population =  0\n",
      "age = 80 , Population =  0\n",
      "age = 90 , Population =  0\n",
      "Population totale =  232\n",
      " \n",
      "Année =  80\n",
      "age = 0 , Population =  28\n",
      "age = 10 , Population =  27\n",
      "age = 20 , Population =  52\n",
      "age = 30 , Population =  34\n",
      "age = 40 , Population =  17\n",
      "age = 50 , Population =  15\n",
      "age = 60 , Population =  38\n",
      "age = 70 , Population =  29\n",
      "age = 80 , Population =  0\n",
      "age = 90 , Population =  0\n",
      "Population totale =  240\n",
      " \n",
      "Année =  90\n",
      "age = 0 , Population =  41\n",
      "age = 10 , Population =  28\n",
      "age = 20 , Population =  26\n",
      "age = 30 , Population =  47\n",
      "age = 40 , Population =  32\n",
      "age = 50 , Population =  13\n",
      "age = 60 , Population =  14\n",
      "age = 70 , Population =  27\n",
      "age = 80 , Population =  19\n",
      "age = 90 , Population =  0\n",
      "Population totale =  247\n",
      " \n",
      "Année =  100\n",
      "age = 0 , Population =  46\n",
      "age = 10 , Population =  41\n",
      "age = 20 , Population =  28\n",
      "age = 30 , Population =  23\n",
      "age = 40 , Population =  45\n",
      "age = 50 , Population =  27\n",
      "age = 60 , Population =  9\n",
      "age = 70 , Population =  13\n",
      "age = 80 , Population =  25\n",
      "age = 90 , Population =  0\n",
      "Population totale =  257\n",
      " \n",
      "Année =  110\n",
      "age = 0 , Population =  44\n",
      "age = 10 , Population =  45\n",
      "age = 20 , Population =  40\n",
      "age = 30 , Population =  27\n",
      "age = 40 , Population =  22\n",
      "age = 50 , Population =  41\n",
      "age = 60 , Population =  22\n",
      "age = 70 , Population =  8\n",
      "age = 80 , Population =  11\n",
      "age = 90 , Population =  0\n",
      "Population totale =  260\n",
      " \n",
      "Année =  120\n",
      "age = 0 , Population =  50\n",
      "age = 10 , Population =  44\n",
      "age = 20 , Population =  43\n",
      "age = 30 , Population =  39\n",
      "age = 40 , Population =  24\n",
      "age = 50 , Population =  18\n",
      "age = 60 , Population =  40\n",
      "age = 70 , Population =  18\n",
      "age = 80 , Population =  5\n",
      "age = 90 , Population =  0\n",
      "Population totale =  281\n",
      " \n",
      "Année =  130\n",
      "age = 0 , Population =  50\n",
      "age = 10 , Population =  49\n",
      "age = 20 , Population =  43\n",
      "age = 30 , Population =  43\n",
      "age = 40 , Population =  35\n",
      "age = 50 , Population =  22\n",
      "age = 60 , Population =  17\n",
      "age = 70 , Population =  37\n",
      "age = 80 , Population =  15\n",
      "age = 90 , Population =  0\n",
      "Population totale =  311\n",
      " \n",
      "Année =  140\n",
      "age = 0 , Population =  54\n",
      "age = 10 , Population =  50\n",
      "age = 20 , Population =  48\n",
      "age = 30 , Population =  42\n",
      "age = 40 , Population =  42\n",
      "age = 50 , Population =  30\n",
      "age = 60 , Population =  18\n",
      "age = 70 , Population =  13\n",
      "age = 80 , Population =  29\n",
      "age = 90 , Population =  0\n",
      "Population totale =  326\n",
      " \n",
      "Année =  150\n",
      "age = 0 , Population =  57\n",
      "age = 10 , Population =  54\n",
      "age = 20 , Population =  48\n",
      "age = 30 , Population =  45\n",
      "age = 40 , Population =  39\n",
      "age = 50 , Population =  39\n",
      "age = 60 , Population =  28\n",
      "age = 70 , Population =  16\n",
      "age = 80 , Population =  9\n",
      "age = 90 , Population =  0\n",
      "Population totale =  335\n",
      " \n",
      "Année =  160\n",
      "age = 0 , Population =  56\n",
      "age = 10 , Population =  56\n",
      "age = 20 , Population =  54\n",
      "age = 30 , Population =  44\n",
      "age = 40 , Population =  42\n",
      "age = 50 , Population =  35\n",
      "age = 60 , Population =  33\n",
      "age = 70 , Population =  23\n",
      "age = 80 , Population =  8\n",
      "age = 90 , Population =  0\n",
      "Population totale =  351\n",
      " \n",
      "Année =  170\n",
      "age = 0 , Population =  76\n",
      "age = 10 , Population =  54\n",
      "age = 20 , Population =  56\n",
      "age = 30 , Population =  51\n",
      "age = 40 , Population =  42\n",
      "age = 50 , Population =  37\n",
      "age = 60 , Population =  32\n",
      "age = 70 , Population =  32\n",
      "age = 80 , Population =  19\n",
      "age = 90 , Population =  0\n",
      "Population totale =  399\n",
      " \n",
      "Année =  180\n",
      "age = 0 , Population =  64\n",
      "age = 10 , Population =  75\n",
      "age = 20 , Population =  54\n",
      "age = 30 , Population =  54\n",
      "age = 40 , Population =  48\n",
      "age = 50 , Population =  34\n",
      "age = 60 , Population =  33\n",
      "age = 70 , Population =  25\n",
      "age = 80 , Population =  21\n",
      "age = 90 , Population =  0\n",
      "Population totale =  408\n",
      " \n",
      "Année =  190\n",
      "age = 0 , Population =  64\n",
      "age = 10 , Population =  62\n",
      "age = 20 , Population =  72\n",
      "age = 30 , Population =  49\n",
      "age = 40 , Population =  49\n",
      "age = 50 , Population =  45\n",
      "age = 60 , Population =  26\n",
      "age = 70 , Population =  31\n",
      "age = 80 , Population =  18\n",
      "age = 90 , Population =  0\n",
      "Population totale =  416\n",
      " \n",
      "Année =  200\n",
      "age = 0 , Population =  79\n",
      "age = 10 , Population =  64\n",
      "age = 20 , Population =  61\n",
      "age = 30 , Population =  69\n",
      "age = 40 , Population =  43\n",
      "age = 50 , Population =  45\n",
      "age = 60 , Population =  41\n",
      "age = 70 , Population =  24\n",
      "age = 80 , Population =  24\n",
      "age = 90 , Population =  0\n",
      "Population totale =  450\n",
      " \n"
     ]
    },
    {
     "data": {
      "text/plain": [
       "{0: 79, 10: 64, 20: 61, 30: 69, 40: 43, 50: 45, 60: 41, 70: 24, 80: 24, 90: 0}"
      ]
     },
     "execution_count": 190,
     "metadata": {},
     "output_type": "execute_result"
    }
   ],
   "source": [
    "def pop_after_d(pop, p , pmort, d):\n",
    "    \"\"\"\n",
    "    dict[int:int]*dict[int:dict[int:float]]*dict[int:float]*int->dict[int:int]\n",
    "    Renvoie la population à la decade d\n",
    "    \"\"\"\n",
    "    for i in range(d):\n",
    "        print(\"Année = \", ((i + 1)*10))\n",
    "        pop = pop_next(pop, p, pmort)\n",
    "        pop_totale = 0\n",
    "        j = 0\n",
    "        while j <= 90 : \n",
    "            print(\"age =\", j,\", Population = \",pop[j])\n",
    "            pop_totale = pop_totale + pop[j]\n",
    "            j = j + 10\n",
    "        print(\"Population totale = \", pop_totale)\n",
    "        print(\" \")\n",
    "    return pop\n",
    "\n",
    "print(\"Population à la decade d\")\n",
    "pop_after_d(pop_init, p, pmort, 20)"
   ]
  },
  {
   "cell_type": "markdown",
   "metadata": {},
   "source": [
    "Fonction pour savoir ou bout de combien de decade on arrive à une pop totale n"
   ]
  },
  {
   "cell_type": "code",
   "execution_count": 191,
   "metadata": {},
   "outputs": [
    {
     "data": {
      "text/plain": [
       "('Année = ', 850, 'Population = ', 10240)"
      ]
     },
     "execution_count": 191,
     "metadata": {},
     "output_type": "execute_result"
    }
   ],
   "source": [
    "def nb_of_decade(pop, p , pmort, n):\n",
    "    \"\"\"\n",
    "    dict[int:int] * dict[int:dict[int:float]] * dict[int:float] * int -> tuple[str, int,  str, int]\n",
    "    Renvoie decade ou pop > n\n",
    "    \"\"\"\n",
    "    d = 0\n",
    "    pop_totale = 0\n",
    "    while pop_totale < n :\n",
    "        d = d + 1\n",
    "        pop = pop_next(pop, p, pmort)\n",
    "        j = 0\n",
    "        pop_totale = 0\n",
    "        while j <= 90 :\n",
    "            pop_totale = pop_totale + pop[j]\n",
    "            j = j + 10\n",
    "    return (\"Année = \", (d*10), \"Population = \", pop_totale)\n",
    "nb_of_decade(pop_init, p, pmort, 10000)"
   ]
  },
  {
   "cell_type": "markdown",
   "metadata": {},
   "source": [
    "On va ensuite essayer de complexifier un peu notre modèle en prenant en compte le sexe des colons."
   ]
  },
  {
   "cell_type": "code",
   "execution_count": 192,
   "metadata": {},
   "outputs": [],
   "source": [
    "#On va donc créer des dictionnaires \n",
    "pop_h = {0 : 0,\n",
    "    10 : 0,\n",
    "    20 : 0,\n",
    "    30 : 0,\n",
    "    40 : 0,\n",
    "    50 : 0,\n",
    "    60 : 0,\n",
    "    70 : 0,\n",
    "    80 : 0,\n",
    "    90 : 0}\n",
    "\n",
    "\n",
    "pop_f = {0 : 0,\n",
    "    10 : 0,\n",
    "    20 : 250,\n",
    "    30 : 250,\n",
    "    40 : 50,\n",
    "    50 : 30,\n",
    "    60 : 0,\n",
    "    70 : 0,\n",
    "    80 : 0,\n",
    "    90 : 0}\n",
    "\n",
    "Pop_totale = {1 : pop_h,\n",
    "              2 : pop_f}\n"
   ]
  },
  {
   "cell_type": "markdown",
   "metadata": {},
   "source": [
    "On part du principe qu'il faut un homme et une femme pour faire des enfants."
   ]
  },
  {
   "cell_type": "code",
   "execution_count": 193,
   "metadata": {},
   "outputs": [
    {
     "data": {
      "text/plain": [
       "0"
      ]
     },
     "execution_count": 193,
     "metadata": {},
     "output_type": "execute_result"
    }
   ],
   "source": [
    "pop_h.get(20)"
   ]
  },
  {
   "cell_type": "code",
   "execution_count": 194,
   "metadata": {},
   "outputs": [
    {
     "data": {
      "text/plain": [
       "{0: 0, 10: 0, 20: 0, 30: 0, 40: 0, 50: 0, 60: 0, 70: 0, 80: 0, 90: 0}"
      ]
     },
     "execution_count": 194,
     "metadata": {},
     "output_type": "execute_result"
    }
   ],
   "source": [
    "def compte_couple(Pop_totale):\n",
    "    \n",
    "    age_couple = dict()\n",
    "    \n",
    "    poph = Pop_totale[1]\n",
    "    popf = Pop_totale[2]\n",
    "    i = 0\n",
    "    while i <= 90 :\n",
    "        age_couple[i] = min(poph[i], popf[i])\n",
    "        i = i + 10\n",
    "    return age_couple\n",
    "compte_couple(Pop_totale)\n",
    "    "
   ]
  },
  {
   "cell_type": "code",
   "execution_count": 195,
   "metadata": {},
   "outputs": [],
   "source": [
    "age_couple = {0: 0, 10: 0, 20: 25, 30: 25, 40: 5, 50: 2, 60: 0, 70: 0, 80: 0, 90: 0}"
   ]
  },
  {
   "cell_type": "markdown",
   "metadata": {},
   "source": [
    "On fait maintenant la fonction qui nous donne la descendance d'un couple sur une decade."
   ]
  },
  {
   "cell_type": "code",
   "execution_count": 196,
   "metadata": {},
   "outputs": [],
   "source": [
    "def nb_enfant_couple_decade(ageh, agef, p):\n",
    "\n",
    "    u = np.random.random()\n",
    "    s = 0\n",
    "    pb = p[a]\n",
    "    for k in pb.keys():\n",
    "        s += pb[k]\n",
    "        if u < s:\n",
    "            return k"
   ]
  },
  {
   "cell_type": "markdown",
   "metadata": {},
   "source": [
    "Nombre de naissance en fonction du nombre de couple."
   ]
  },
  {
   "cell_type": "code",
   "execution_count": 197,
   "metadata": {},
   "outputs": [
    {
     "data": {
      "text/plain": [
       "26"
      ]
     },
     "execution_count": 197,
     "metadata": {},
     "output_type": "execute_result"
    }
   ],
   "source": [
    "def nb_naissances_couples(p1, p2):\n",
    "    '''\n",
    "    dict[int:int] * dict[int:dict[int:float]] -> int\n",
    "    renvoie le nombre de naissances pendant 10 ans\n",
    "    '''\n",
    "    a = 0\n",
    "    nv_enfant = 0\n",
    "    for a in p1:\n",
    "        b = p1[a]\n",
    "        i = 0\n",
    "        while i < b:\n",
    "            nv_enfant += number_of_descendants(p2, a)\n",
    "            i += 1\n",
    "    return nv_enfant \n",
    "\n",
    "nb_naissances_couples(age_couple,p)"
   ]
  },
  {
   "cell_type": "markdown",
   "metadata": {},
   "source": [
    "on \"tri\" pour savoir combien de garçons et de filles sont nés"
   ]
  },
  {
   "cell_type": "code",
   "execution_count": 198,
   "metadata": {},
   "outputs": [
    {
     "data": {
      "text/plain": [
       "{1: 26, 2: 24}"
      ]
     },
     "execution_count": 198,
     "metadata": {},
     "output_type": "execute_result"
    }
   ],
   "source": [
    "def tri_naissance(nb_enfant):\n",
    "    \n",
    "    nb_enfant_h = 0\n",
    "    nb_enfant_f = 0\n",
    "    for i in range(0, nb_enfant):\n",
    "        a = random.randint(1, 2)\n",
    "        if a == 1:\n",
    "            nb_enfant_h = nb_enfant_h + 1\n",
    "        else :\n",
    "            nb_enfant_f = nb_enfant_f + 1\n",
    "    return {1 : nb_enfant_h, 2 : nb_enfant_f}\n",
    "    \n",
    "    \n",
    "tri_naissance(50)"
   ]
  },
  {
   "cell_type": "markdown",
   "metadata": {},
   "source": [
    "On améliorer les anciennes fcts."
   ]
  },
  {
   "cell_type": "code",
   "execution_count": 199,
   "metadata": {},
   "outputs": [
    {
     "data": {
      "text/plain": [
       "{1: {0: 0, 10: 0, 20: 0, 30: 0, 40: 0, 50: 0, 60: 0, 70: 0, 80: 0, 90: 0},\n",
       " 2: {0: 0,\n",
       "  10: 0,\n",
       "  20: 0,\n",
       "  30: 250,\n",
       "  40: 250,\n",
       "  50: 50,\n",
       "  60: 30,\n",
       "  70: 0,\n",
       "  80: 0,\n",
       "  90: 0}}"
      ]
     },
     "execution_count": 199,
     "metadata": {},
     "output_type": "execute_result"
    }
   ],
   "source": [
    "def pop_decade_couple(Pop_totale,p):\n",
    "    '''\n",
    "    dict[int:int] * dict[int:dict[int:float]] -> dict[int:dict[int:int]]\n",
    "    renvoie le dict de population apres une decade (lire avec l'accent svp)\n",
    "    '''\n",
    "    nb_couple = compte_couple(Pop_totale)\n",
    "    nv_enfant = nb_naissances_couples(nb_couple, p)\n",
    "    tri = tri_naissance(nv_enfant)\n",
    "    popho = Pop_totale[1]\n",
    "    popfe = Pop_totale[2]\n",
    "    poph_ev = dict()\n",
    "    popf_ev = dict()\n",
    "    i = 0\n",
    "    while i < 90:\n",
    "        \n",
    "        poph_ev[(i + 10)] = popho[i]\n",
    "        popf_ev[(i + 10)] = popfe[i]\n",
    "        i += 10\n",
    "        \n",
    "    poph_ev[0] = tri[1]\n",
    "    popf_ev[0] = tri[2]\n",
    "    \n",
    "    pop_ev = {1 : poph_ev, 2 : popf_ev}\n",
    "    \n",
    "    return pop_ev\n",
    "    \n",
    "\n",
    "pop_decade_couple(Pop_totale,p)"
   ]
  },
  {
   "cell_type": "markdown",
   "metadata": {},
   "source": [
    "Graphique :"
   ]
  },
  {
   "cell_type": "code",
   "execution_count": 200,
   "metadata": {},
   "outputs": [
    {
     "name": "stdout",
     "output_type": "stream",
     "text": [
      "([0, 80, 50, 20, 70, 40, 10, 60, 90, 30], [0, 0, 0, 0, 0, 0, 0, 0, 0, 0])\n"
     ]
    }
   ],
   "source": [
    "def extract(pop_dic, key=1):\n",
    "    age = []\n",
    "    qte = []\n",
    "    \n",
    "    for k, v in pop_dic[key].items():\n",
    "        age.append(k)\n",
    "        qte.append(v)\n",
    "    \n",
    "    return age, qte\n",
    "\n",
    "print(extract(Pop_totale))\n",
    "l, v = extract(Pop_totale)\n"
   ]
  },
  {
   "cell_type": "code",
   "execution_count": 167,
   "metadata": {},
   "outputs": [
    {
     "data": {
      "text/plain": [
       "[<matplotlib.lines.Line2D at 0x7f46c2acde10>]"
      ]
     },
     "execution_count": 167,
     "metadata": {},
     "output_type": "execute_result"
    },
    {
     "data": {
      "image/png": "[encoded data removed]",
      "text/plain": [
       "<Figure size 432x288 with 1 Axes>"
      ]
     },
     "metadata": {},
     "output_type": "display_data"
    }
   ],
   "source": [
    "plt.plot(l, v, \"--\")"
   ]
  },
  {
   "cell_type": "code",
   "execution_count": 168,
   "metadata": {},
   "outputs": [
    {
     "name": "stdout",
     "output_type": "stream",
     "text": [
      "[[1140, 0, 0, 2836, 2452, 136, 886, 303, 0, 0], [1175, 1140, 0, 0, 2836, 2452, 136, 886, 303, 0], [568, 1175, 1140, 0, 0, 2836, 2452, 136, 886, 303], [358, 568, 1175, 1140, 0, 0, 2836, 2452, 136, 886], [597, 358, 568, 1175, 1140, 0, 0, 2836, 2452, 136], [665, 597, 358, 568, 1175, 1140, 0, 0, 2836, 2452], [496, 665, 597, 358, 568, 1175, 1140, 0, 0, 2836], [377, 496, 665, 597, 358, 568, 1175, 1140, 0, 0], [408, 377, 496, 665, 597, 358, 568, 1175, 1140, 0], [456, 408, 377, 496, 665, 597, 358, 568, 1175, 1140], [374, 456, 408, 377, 496, 665, 597, 358, 568, 1175], [331, 374, 456, 408, 377, 496, 665, 597, 358, 568], [315, 331, 374, 456, 408, 377, 496, 665, 597, 358], [315, 315, 331, 374, 456, 408, 377, 496, 665, 597], [312, 315, 315, 331, 374, 456, 408, 377, 496, 665]]\n"
     ]
    },
    {
     "data": {
      "image/png": "[encoded data removed]",
      "text/plain": [
       "<Figure size 432x288 with 1 Axes>"
      ]
     },
     "metadata": {},
     "output_type": "display_data"
    }
   ],
   "source": [
    "def liste_pop_decade_couple(Pop_totale,p, n):\n",
    "    \n",
    "    L2 = []\n",
    "    pop_ev = Pop_totale\n",
    "    for i in range (0, n):\n",
    "        l2 = []\n",
    "        pop_ev = pop_decade_couple(pop_ev,p)\n",
    "        o = pop_ev[1]\n",
    "        for u in range (0, 100, 10):\n",
    "            l2.append(o[u])\n",
    "            \n",
    "        \n",
    "        \n",
    "        L2.append(l2)\n",
    "        l2 = []\n",
    "    print(L2)\n",
    "    return L2\n",
    "\n",
    "L2 = liste_pop_decade_couple(Pop_totale,p, 15)\n",
    "\n",
    "def plot_2(L2):\n",
    "    plt.figure()\n",
    "    plt.plot(L2)\n",
    "    plt.legend([\"Age \" + str(i) for i in p])\n",
    "    plt.xlabel(\"Décennie\")\n",
    "    plt.ylabel(\"Population Homme\")\n",
    "    plt.show()\n",
    "    return\n",
    "plot_2(L2)\n",
    "\n"
   ]
  },
  {
   "cell_type": "markdown",
   "metadata": {},
   "source": [
    "Fonction suivante :"
   ]
  },
  {
   "cell_type": "code",
   "execution_count": 169,
   "metadata": {},
   "outputs": [
    {
     "data": {
      "text/plain": [
       "{1: {0: 0,\n",
       "  10: 0,\n",
       "  20: 2284,\n",
       "  30: 1951,\n",
       "  40: 113,\n",
       "  50: 749,\n",
       "  60: 279,\n",
       "  70: 0,\n",
       "  80: 0,\n",
       "  90: 0},\n",
       " 2: {0: 0,\n",
       "  10: 0,\n",
       "  20: 1921,\n",
       "  30: 1575,\n",
       "  40: 434,\n",
       "  50: 247,\n",
       "  60: 596,\n",
       "  70: 0,\n",
       "  80: 0,\n",
       "  90: 0}}"
      ]
     },
     "execution_count": 169,
     "metadata": {},
     "output_type": "execute_result"
    }
   ],
   "source": [
    "#On va donc créer des dictionnaires en bal\n",
    "pop_h = {0 : 0,\n",
    "    10 : 0,\n",
    "    20 : 2890,\n",
    "    30 : 2570,\n",
    "    40 : 150,\n",
    "    50 : 980,\n",
    "    60 : 360,\n",
    "    70 : 0,\n",
    "    80 : 0,\n",
    "    90 : 0}\n",
    "\n",
    "\n",
    "pop_f = {0 : 0,\n",
    "    10 : 0,\n",
    "    20 : 2500,\n",
    "    30 : 2060,\n",
    "    40 : 560,\n",
    "    50 : 320,\n",
    "    60 : 780,\n",
    "    70 : 0,\n",
    "    80 : 0,\n",
    "    90 : 0}\n",
    "\n",
    "Pop_totale = {1 : pop_h,\n",
    "              2 : pop_f}\n",
    "\n",
    "\n",
    "def pop_vivante_couple(pmort, pop1):\n",
    "    '''\n",
    "    dict[int:float] * dict[int:dict[int:int] -> dict[int:int]\n",
    "    Renvoie la population moins les morts\n",
    "    '''\n",
    "    poph_n = pop1[1]\n",
    "    popf_n = pop1[2]\n",
    "    pop = dict()\n",
    "    i = 0\n",
    "    while i < 100 :\n",
    "        poph_n[i] = poph_n[i] - mort_gen(pmort, poph_n[i], i)\n",
    "        popf_n[i] = popf_n[i] - mort_gen(pmort, popf_n[i], i)\n",
    "        i = i + 10\n",
    "    \n",
    "    pop = {1 : poph_n, 2 : popf_n}\n",
    "    return pop\n",
    "\n",
    "pop_vivante_couple(pmort, Pop_totale)"
   ]
  },
  {
   "cell_type": "markdown",
   "metadata": {},
   "source": [
    "/*--------------------------------------------------------------------------------------------------------------------------------------------------------------------------------------------------*/"
   ]
  },
  {
   "cell_type": "markdown",
   "metadata": {},
   "source": [
    "On implémente maintenant des fonctions pour rendre la population dépendante de ressources (réalisme)"
   ]
  },
  {
   "cell_type": "code",
   "execution_count": 170,
   "metadata": {},
   "outputs": [],
   "source": [
    "def ressource_terre(ini,x,n):\n",
    "    \"\"\"int**3->int\n",
    "    retourne le taux de ressource envoyé de la terre en fonction de decade n en fonction de ini et x\"\"\"\n",
    "    t=0\n",
    "    while t<=n+1:    \n",
    "        ini=ini+x*t\n",
    "        t=t+10\n",
    "    return ini"
   ]
  },
  {
   "cell_type": "code",
   "execution_count": 171,
   "metadata": {},
   "outputs": [],
   "source": [
    "#taux de ressources necessaire\n",
    "coefress=0.02   #coef de la fonction affine\n",
    "resini=0.8#taux de ressource initial envoyé de la terre\n",
    "d=10  #decade\n",
    "dmax=20\n",
    "rTerre=ressource_terre(resini,coefress,d)     #ressources provenant de la terre \n",
    "rPlanet=0   #ressources récolté sur place\n",
    "\n",
    "coef=1          #coefficient"
   ]
  },
  {
   "cell_type": "code",
   "execution_count": 172,
   "metadata": {},
   "outputs": [
    {
     "data": {
      "text/plain": [
       "{0: 0.1,\n",
       " 10: 0.228,\n",
       " 20: 0.228,\n",
       " 30: 0.228,\n",
       " 40: 0.228,\n",
       " 50: 0.228,\n",
       " 60: 0.228,\n",
       " 70: 0.228,\n",
       " 80: 0.228,\n",
       " 90: 0.228}"
      ]
     },
     "execution_count": 172,
     "metadata": {},
     "output_type": "execute_result"
    }
   ],
   "source": [
    "def impact_ressources(t,dpm):\n",
    "        \"\"\"float**2*dict[int:float]->dict[int:float]\n",
    "        retourne le dictionnaire pmort avec l'impact des ressources\"\"\"\n",
    "        j=10\n",
    "        while j <= 90 : \n",
    "            dpm[j]= round(dpm[j]*t,3)\n",
    "            j=j+10\n",
    "        return dpm\n",
    "\n",
    "impact_ressources(ressource_terre(resini,coefress,10),pmort)\n",
    "        \n",
    "        "
   ]
  },
  {
   "cell_type": "code",
   "execution_count": 173,
   "metadata": {
    "scrolled": true
   },
   "outputs": [
    {
     "name": "stdout",
     "output_type": "stream",
     "text": [
      "decade = 0\n",
      "{0: 0.1, 80: 0.182, 50: 0.182, 20: 0.182, 70: 0.182, 40: 0.182, 10: 0.182, 60: 0.182, 90: 0.182, 30: 0.182}\n",
      "decade = 1\n",
      "{0: 0.1, 80: 0.146, 50: 0.146, 20: 0.146, 70: 0.146, 40: 0.146, 10: 0.146, 60: 0.146, 90: 0.146, 30: 0.146}\n",
      "decade = 2\n",
      "{0: 0.1, 80: 0.117, 50: 0.117, 20: 0.117, 70: 0.117, 40: 0.117, 10: 0.117, 60: 0.117, 90: 0.117, 30: 0.117}\n",
      "decade = 3\n",
      "{0: 0.1, 80: 0.094, 50: 0.094, 20: 0.094, 70: 0.094, 40: 0.094, 10: 0.094, 60: 0.094, 90: 0.094, 30: 0.094}\n",
      "decade = 4\n",
      "{0: 0.1, 80: 0.075, 50: 0.075, 20: 0.075, 70: 0.075, 40: 0.075, 10: 0.075, 60: 0.075, 90: 0.075, 30: 0.075}\n",
      "decade = 5\n",
      "{0: 0.1, 80: 0.06, 50: 0.06, 20: 0.06, 70: 0.06, 40: 0.06, 10: 0.06, 60: 0.06, 90: 0.06, 30: 0.06}\n",
      "decade = 6\n",
      "{0: 0.1, 80: 0.048, 50: 0.048, 20: 0.048, 70: 0.048, 40: 0.048, 10: 0.048, 60: 0.048, 90: 0.048, 30: 0.048}\n",
      "decade = 7\n",
      "{0: 0.1, 80: 0.038, 50: 0.038, 20: 0.038, 70: 0.038, 40: 0.038, 10: 0.038, 60: 0.038, 90: 0.038, 30: 0.038}\n",
      "decade = 8\n",
      "{0: 0.1, 80: 0.03, 50: 0.03, 20: 0.03, 70: 0.03, 40: 0.03, 10: 0.03, 60: 0.03, 90: 0.03, 30: 0.03}\n",
      "decade = 9\n",
      "{0: 0.1, 80: 0.03, 50: 0.03, 20: 0.03, 70: 0.03, 40: 0.03, 10: 0.03, 60: 0.03, 90: 0.03, 30: 0.03}\n",
      "decade = 10\n",
      "{0: 0.1, 80: 0.03, 50: 0.03, 20: 0.03, 70: 0.03, 40: 0.03, 10: 0.03, 60: 0.03, 90: 0.03, 30: 0.03}\n",
      "decade = 11\n",
      "{0: 0.1, 80: 0.03, 50: 0.03, 20: 0.03, 70: 0.03, 40: 0.03, 10: 0.03, 60: 0.03, 90: 0.03, 30: 0.03}\n",
      "decade = 12\n",
      "{0: 0.1, 80: 0.03, 50: 0.03, 20: 0.03, 70: 0.03, 40: 0.03, 10: 0.03, 60: 0.03, 90: 0.03, 30: 0.03}\n",
      "decade = 13\n",
      "{0: 0.1, 80: 0.03, 50: 0.03, 20: 0.03, 70: 0.03, 40: 0.03, 10: 0.03, 60: 0.03, 90: 0.03, 30: 0.03}\n",
      "decade = 14\n",
      "{0: 0.1, 80: 0.03, 50: 0.03, 20: 0.03, 70: 0.03, 40: 0.03, 10: 0.03, 60: 0.03, 90: 0.03, 30: 0.03}\n",
      "decade = 15\n",
      "{0: 0.1, 80: 0.03, 50: 0.03, 20: 0.03, 70: 0.03, 40: 0.03, 10: 0.03, 60: 0.03, 90: 0.03, 30: 0.03}\n",
      "decade = 16\n",
      "{0: 0.1, 80: 0.03, 50: 0.03, 20: 0.03, 70: 0.03, 40: 0.03, 10: 0.03, 60: 0.03, 90: 0.03, 30: 0.03}\n",
      "decade = 17\n",
      "{0: 0.1, 80: 0.03, 50: 0.03, 20: 0.03, 70: 0.03, 40: 0.03, 10: 0.03, 60: 0.03, 90: 0.03, 30: 0.03}\n",
      "decade = 18\n",
      "{0: 0.1, 80: 0.03, 50: 0.03, 20: 0.03, 70: 0.03, 40: 0.03, 10: 0.03, 60: 0.03, 90: 0.03, 30: 0.03}\n",
      "decade = 19\n",
      "{0: 0.1, 80: 0.042, 50: 0.042, 20: 0.042, 70: 0.042, 40: 0.042, 10: 0.042, 60: 0.042, 90: 0.042, 30: 0.042}\n",
      "decade = 20\n",
      "{0: 0.1, 80: 0.059, 50: 0.059, 20: 0.059, 70: 0.059, 40: 0.059, 10: 0.059, 60: 0.059, 90: 0.059, 30: 0.059}\n"
     ]
    },
    {
     "data": {
      "text/plain": [
       "{0: 0.1,\n",
       " 10: 0.047,\n",
       " 20: 0.047,\n",
       " 30: 0.047,\n",
       " 40: 0.047,\n",
       " 50: 0.047,\n",
       " 60: 0.047,\n",
       " 70: 0.047,\n",
       " 80: 0.047,\n",
       " 90: 0.047}"
      ]
     },
     "execution_count": 173,
     "metadata": {},
     "output_type": "execute_result"
    }
   ],
   "source": [
    "def impact_ressources_decade(t,nmax,dpm):\n",
    "    \"\"\"int**3*dict[int:float]\n",
    "    retourne le dictionnaire pmort avec l'impact des ressources en fonction des decades\n",
    "    avec n la decade max\"\"\"\n",
    "    i=0\n",
    "    while i<=nmax:\n",
    "        print(\"decade =\",i)\n",
    "        a = impact_ressources(ressource_terre(resini,coefress,i),pmort)\n",
    "        print(a)\n",
    "        i=i+1\n",
    "    return\n",
    "impact_ressources_decade(ressource_terre(resini,coefress,1),dmax,pmort)\n",
    "impact_ressources(ressource_terre(resini,coefress,1),pmort)"
   ]
  },
  {
   "cell_type": "markdown",
   "metadata": {},
   "source": [
    "Fonction finale :"
   ]
  },
  {
   "cell_type": "code",
   "execution_count": 174,
   "metadata": {},
   "outputs": [
    {
     "data": {
      "text/plain": [
       "{1: {0: 220,\n",
       "  10: 205,\n",
       "  20: 219,\n",
       "  30: 266,\n",
       "  40: 335,\n",
       "  50: 317,\n",
       "  60: 203,\n",
       "  70: 325,\n",
       "  80: 658,\n",
       "  90: 734},\n",
       " 2: {0: 183,\n",
       "  10: 211,\n",
       "  20: 188,\n",
       "  30: 251,\n",
       "  40: 354,\n",
       "  50: 313,\n",
       "  60: 179,\n",
       "  70: 306,\n",
       "  80: 633,\n",
       "  90: 648}}"
      ]
     },
     "execution_count": 174,
     "metadata": {},
     "output_type": "execute_result"
    }
   ],
   "source": [
    "def pop_totale_couple_fin(Pop_totale, p, pmort):\n",
    "    \n",
    "    Pop_totale = pop_decade_couple(Pop_totale, p)\n",
    "    Pop_totale = pop_vivante_couple(pmort, Pop_totale)\n",
    "    return Pop_totale\n",
    "\n",
    "\n",
    "def pop_apres_n_decade(Pop_tot, p, pmort, n, ini, x):\n",
    "    i = 0\n",
    "    while i < n :\n",
    "        Pop_tot = pop_totale_couple_fin(Pop_tot, p, pmort)\n",
    "        pmort = impact_ressources(ressource_terre(ini, x, i), pmort)\n",
    "        i = i+1\n",
    "    \n",
    "    return Pop_tot\n",
    "\n",
    "pop_apres_n_decade(Pop_totale, p, pmort, 10, resini, coefress)"
   ]
  },
  {
   "cell_type": "markdown",
   "metadata": {},
   "source": [
    "On va essayer de faire deux fonctions plots différentes.\n",
    "\n",
    "La première va nous montrer la répartition de la population en fonction de l'age et du sexe de chaque personne pour une decade donnée.\n",
    "\n",
    "La deuxième va nous montrer l'évolution de la population totale, homme et femme depuis le début jusqu'à la décénnie donnée."
   ]
  },
  {
   "cell_type": "code",
   "execution_count": 175,
   "metadata": {},
   "outputs": [
    {
     "data": {
      "text/plain": [
       "Text(0,0.5,'Population')"
      ]
     },
     "execution_count": 175,
     "metadata": {},
     "output_type": "execute_result"
    },
    {
     "data": {
      "image/png": "[encoded data removed]",
      "text/plain": [
       "<Figure size 432x288 with 1 Axes>"
      ]
     },
     "metadata": {},
     "output_type": "display_data"
    }
   ],
   "source": [
    "def list_de_pop_apres_decade(Pop_tot, p, pmort, n, ini, x):\n",
    "    \n",
    "    Pop_tot = pop_apres_n_decade(Pop_tot, p, pmort, n, ini, x)\n",
    "    pop_homme = Pop_tot[1]\n",
    "    pop_femme = Pop_tot[2]\n",
    "    L_h = []\n",
    "    L_f = []\n",
    "    L_t = []\n",
    "    i = 0\n",
    "    while i < 100 :\n",
    "        L_h.append(pop_homme[i])\n",
    "        L_f.append(pop_femme[i])\n",
    "        L_t.append(pop_homme[i] + pop_femme[i])\n",
    "        i = i + 10\n",
    "    \n",
    "    return L_h, L_f, L_t\n",
    "        \n",
    "L1, L2, L3 = list_de_pop_apres_decade(Pop_totale, p, pmort, 31, resini, coefress)\n",
    "v = [0, 10, 20, 30, 40, 50, 60, 70, 80, 90]    \n",
    "    \n",
    "plt.plot(v, L1, \"--\")\n",
    "plt.plot(v, L2, \"--\")\n",
    "plt.plot(v, L3, \"--\")\n",
    "plt.legend(\"HFT\")\n",
    "plt.xlabel(\"Age\")\n",
    "plt.ylabel(\"Population\")"
   ]
  },
  {
   "cell_type": "code",
   "execution_count": 164,
   "metadata": {},
   "outputs": [
    {
     "data": {
      "text/plain": [
       "Text(0,0.5,'Population')"
      ]
     },
     "execution_count": 164,
     "metadata": {},
     "output_type": "execute_result"
    },
    {
     "data": {
      "image/png": "[encoded data removed]",
      "text/plain": [
       "<Figure size 432x288 with 1 Axes>"
      ]
     },
     "metadata": {},
     "output_type": "display_data"
    }
   ],
   "source": [
    "def list_h_f_t(Pop_tot, p, pmort, n, ini, x):\n",
    "    \n",
    "    L_h = []\n",
    "    L_f = []\n",
    "    L_t = []\n",
    "\n",
    "    i = 0\n",
    "    while i < n :\n",
    "        Pop_tot = pop_totale_couple_fin(Pop_tot, p, pmort)\n",
    "        pop_homme = Pop_tot[1]\n",
    "        pop_femme = Pop_tot[2]\n",
    "        \n",
    "        \n",
    "        nh = 0\n",
    "        nf = 0\n",
    "        nt = 0\n",
    "        u = 0\n",
    "        while u < 100 :\n",
    "                nh = nh + pop_homme[u]\n",
    "                nf = nf + pop_femme[u]\n",
    "                u = u + 10\n",
    "                \n",
    "        nt = nh + nf\n",
    "        L_h.append(nh)\n",
    "        L_f.append(nf)\n",
    "        L_t.append(nt)\n",
    "        \n",
    "        pmort = impact_ressources(ressource_terre(ini, x, i), pmort)\n",
    "        i = i+1\n",
    "    \n",
    "    return L_h, L_f, L_t\n",
    "\n",
    "L1, L2, L3 = list_h_f_t(Pop_totale, p, pmort, 20, resini, coefress)\n",
    "\n",
    "plt.plot(L1, \"--\")\n",
    "plt.plot(L2, \"--\")\n",
    "plt.plot(L3, \"--\")\n",
    "plt.legend(\"HFT\")\n",
    "plt.xlabel(\"Décennie\")\n",
    "plt.ylabel(\"Population\")"
   ]
  }
 ],
 "metadata": {
  "kernelspec": {
   "display_name": "Python 3",
   "language": "python",
   "name": "python3"
  },
  "language_info": {
   "codemirror_mode": {
    "name": "ipython",
    "version": 3
   },
   "file_extension": ".py",
   "mimetype": "text/x-python",
   "name": "python",
   "nbconvert_exporter": "python",
   "pygments_lexer": "ipython3",
   "version": "3.5.3"
  }
 },
 "nbformat": 4,
 "nbformat_minor": 2
}
