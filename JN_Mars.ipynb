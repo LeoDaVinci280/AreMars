{
 "cells": [
  {
   "cell_type": "markdown",
   "metadata": {},
   "source": [
    "Début du projet : "
   ]
  },
  {
   "cell_type": "markdown",
   "metadata": {},
   "source": [
    "Problématique : Comment assurer la survie d'une population sur Mars ?"
   ]
  },
  {
   "cell_type": "markdown",
   "metadata": {},
   "source": [
    "Français\n",
    "\n",
    "On souhaite étudier le phénomène de survie d’une population humaine coloniale sur Mars, plus particulièrement, les conditions permettant la prospérité de cette dernière. On organise le problème comme suit : une population, distribuée en hommes et femmes, répartis selon des tranches d’âges variant de 0 à 90 ans. Leur survie est surveillée toutes les décennies. Ils grandissent et peuvent faire des enfants, qui grandiront et survivront de la même manière. Ils reçoivent également une certaine quantité de ressources.\n",
    "On observe qu’à travers le temps, la survie est assurée pour une population dont les proportions initiales d’hommes et de femmes sont les mêmes (pour assurer une postérité, elle-même prospère) ainsi que jouissant de quantités de ressources suffisantes.\n",
    "\n",
    "\n",
    "\n",
    "\n",
    "\n",
    "Anglais\n",
    "\n",
    "This a survival simulation that follows the behavior of a population on Mars over time.\n",
    "Our program consists in generating a set of people, of which gender and age are initially chosen. Their behavior is checked every decade, which makes them grow older. Through a probability dictionnary, they can, when coupled, give oftspring, that will behave the same way. They are provided with a ressource system that decreases death likelyhood.\n",
    "Their survival is guarenteed only under specific circumstances : male and female proportions must be (at least) approximately the same (so they can make kids), and there must be the right amount of ressources.  "
   ]
  },
  {
   "cell_type": "code",
   "execution_count": 43,
   "metadata": {},
   "outputs": [],
   "source": [
    "%matplotlib inline     \n",
    "# ^Sans animations\n",
    "# %matplotlib notebook \n",
    "# ^Avec animations\n",
    "import numpy as np\n",
    "import matplotlib.pyplot as plt\n",
    "from matplotlib import animation\n",
    "import random "
   ]
  },
  {
   "cell_type": "markdown",
   "metadata": {},
   "source": [
    "On commence par faire des dictionnaires sur les probabilités de décès et de descendance en fonction de la décennie."
   ]
  },
  {
   "cell_type": "code",
   "execution_count": 44,
   "metadata": {},
   "outputs": [],
   "source": [
    "# Dictionnaire représentant la distribution de probabilité des descendants.\n",
    "# clef = nombre de descendants et valeur = probabilité\n",
    "\n",
    "p0 = {0 : 1.0}\n",
    "\n",
    "p10 = {0 : 1.0}\n",
    "\n",
    "p20 = {0 : 0.7,\n",
    "     1 : 0.2,\n",
    "     2 : 0.1}\n",
    "\n",
    "p30 = {0 : 0.5,\n",
    "     1 : 0.35,\n",
    "     2 : 0.15}\n",
    "\n",
    "p40 = {0 : 0.75,\n",
    "     1 : 0.15,\n",
    "     2 : 0.1}\n",
    "\n",
    "p50 = {0 : 0.9,\n",
    "     1 : 0.1}\n",
    "\n",
    "p60 = {0 : 1.0}\n",
    " \n",
    "p70 = {0 : 1.0}\n",
    "\n",
    "p80 = {0 : 1.0}\n",
    "\n",
    "p90 = {0 : 1.0}\n",
    "\n",
    "p = {0 : p0,\n",
    "    10 : p10,\n",
    "    20 : p20,\n",
    "    30 : p30,\n",
    "    40 : p40,\n",
    "    50 : p50,\n",
    "    60 : p60,\n",
    "    70 : p70,\n",
    "    80 : p80,\n",
    "    90 : p90}"
   ]
  },
  {
   "cell_type": "code",
   "execution_count": 45,
   "metadata": {},
   "outputs": [
    {
     "data": {
      "text/plain": [
       "1"
      ]
     },
     "execution_count": 45,
     "metadata": {},
     "output_type": "execute_result"
    }
   ],
   "source": [
    "def number_of_descendants(p, a):\n",
    "    '''\n",
    "    dict[int:dict[int:float]]*int->int\n",
    "    Étant donnée une distibution de probabilité 'p', et un age, la fonction retourne le nombre de descendants d'un individu.\n",
    "    '''\n",
    "    u = np.random.random()\n",
    "    s = 0\n",
    "    pb = p[a]\n",
    "    for k in pb.keys():\n",
    "        s += pb[k]\n",
    "        if u < s:\n",
    "            return k\n",
    "        \n",
    "number_of_descendants(p, 30)"
   ]
  },
  {
   "cell_type": "markdown",
   "metadata": {},
   "source": [
    " On teste cette fonction pour verifier la cohérence des dictionnaires de proba."
   ]
  },
  {
   "cell_type": "code",
   "execution_count": 46,
   "metadata": {},
   "outputs": [
    {
     "data": {
      "text/plain": [
       "2"
      ]
     },
     "execution_count": 46,
     "metadata": {},
     "output_type": "execute_result"
    }
   ],
   "source": [
    "def number_of_descendants_in_a_life_time(p):\n",
    "    '''\n",
    "    dict[int:dict[int:float]]->int\n",
    "    nombre de minots sur une vie\n",
    "    '''\n",
    "    a = 0\n",
    "    nb_de_m = 0\n",
    "    while a <= 90:\n",
    "        nb_de_m += number_of_descendants(p, a)\n",
    "        a += 10\n",
    "    return nb_de_m\n",
    "\n",
    "\n",
    "number_of_descendants_in_a_life_time(p)"
   ]
  },
  {
   "cell_type": "markdown",
   "metadata": {},
   "source": [
    "On créé le dictionnaire initial de la population"
   ]
  },
  {
   "cell_type": "code",
   "execution_count": 47,
   "metadata": {},
   "outputs": [],
   "source": [
    "pop_init = {0 : 0,\n",
    "    10 : 0,\n",
    "    20 : 50,\n",
    "    30 : 50,\n",
    "    40 : 10,\n",
    "    50 : 5,\n",
    "    60 : 0,\n",
    "    70 : 0,\n",
    "    80 : 0,\n",
    "    90 : 0}"
   ]
  },
  {
   "cell_type": "markdown",
   "metadata": {},
   "source": [
    "Fonction qui donne le nombre total de naissances en fonction du dictionnaire de population"
   ]
  },
  {
   "cell_type": "code",
   "execution_count": 48,
   "metadata": {},
   "outputs": [
    {
     "data": {
      "text/plain": [
       "52"
      ]
     },
     "execution_count": 48,
     "metadata": {},
     "output_type": "execute_result"
    }
   ],
   "source": [
    "def nb_naissances(p1, p2):\n",
    "    '''\n",
    "    dict[int:int] * dict[int:dict[int:float]] -> int\n",
    "    renvoie le nombre de naissances pendant 10 ans\n",
    "    '''\n",
    "    a = 0\n",
    "    nv_enfant = 0\n",
    "    for a in p1:\n",
    "        b = p1[a]\n",
    "        i = 0\n",
    "        while i < b:\n",
    "            nv_enfant += number_of_descendants(p2, a)\n",
    "            i += 1\n",
    "    return nv_enfant \n",
    "\n",
    "nb_naissances(pop_init,p)     "
   ]
  },
  {
   "cell_type": "markdown",
   "metadata": {},
   "source": [
    "On met ensuite à jours le dictionnaire de population\n",
    "\n",
    "on fait l'hypothèse qu'au dessus de 99 ans, on meurt"
   ]
  },
  {
   "cell_type": "code",
   "execution_count": 49,
   "metadata": {},
   "outputs": [
    {
     "data": {
      "text/plain": [
       "{0: 46, 10: 0, 20: 0, 30: 50, 40: 50, 50: 10, 60: 5, 70: 0, 80: 0, 90: 0}"
      ]
     },
     "execution_count": 49,
     "metadata": {},
     "output_type": "execute_result"
    }
   ],
   "source": [
    "def pop_decade(pop,p):\n",
    "    '''\n",
    "    dict[int:int] * dict[int:dict[int:float]] -> dict[int:int]\n",
    "    renvoie le dict de population apres une decade (lire avec l'accent svp)\n",
    "    '''\n",
    "    nv_enfant = nb_naissances(pop, p)\n",
    "    pop_ev = {}\n",
    "    i = 0\n",
    "    while i < 90:\n",
    "        pop_ev[(i + 10)] = pop[i]\n",
    "        i += 10\n",
    "        \n",
    "    pop_ev[0] = nv_enfant\n",
    "    \n",
    "    return pop_ev\n",
    "    \n",
    "\n",
    "pop_decade(pop_init,p)\n",
    "    "
   ]
  },
  {
   "cell_type": "markdown",
   "metadata": {},
   "source": [
    "On introduit ensuite à l'aide d'un dictionnaire les probabilités de mortalités."
   ]
  },
  {
   "cell_type": "code",
   "execution_count": 50,
   "metadata": {},
   "outputs": [],
   "source": [
    "# Dictionnaire représentant la distribution de probabilité de mourir.\n",
    "# clef = age et valeur = probabilité\n",
    "\n",
    "pmort = {0 : 0.1,\n",
    "    10 : 0.02,\n",
    "    20 : 0.02,\n",
    "    30 : 0.05,\n",
    "    40 : 0.08,\n",
    "    50 : 0.09,\n",
    "    60 : 0.12,\n",
    "    70 : 0.15,\n",
    "    80 : 0.30,\n",
    "    90 : 1.0}"
   ]
  },
  {
   "cell_type": "markdown",
   "metadata": {},
   "source": [
    "Puis on fait une fonction plata_o_plomo qui donne avec le dictionnaire précédent si un indivudu est mort ou pas. "
   ]
  },
  {
   "cell_type": "code",
   "execution_count": 51,
   "metadata": {},
   "outputs": [
    {
     "data": {
      "text/plain": [
       "0"
      ]
     },
     "execution_count": 51,
     "metadata": {},
     "output_type": "execute_result"
    }
   ],
   "source": [
    "def plata_o_plomo(pmort, age):\n",
    "    '''\n",
    "    dict[int:float]*int->int\n",
    "    renvoie 0 si vivant et 1 si mort\n",
    "    '''\n",
    "    u = np.random.random()\n",
    "    if u < pmort[age]:\n",
    "        return 1\n",
    "    else :\n",
    "        return 0\n",
    "plata_o_plomo(pmort,30)"
   ]
  },
  {
   "cell_type": "markdown",
   "metadata": {},
   "source": [
    "Puis on créé une fonction qui va nous donner le nombre de mort pour une generation (decade)"
   ]
  },
  {
   "cell_type": "code",
   "execution_count": 52,
   "metadata": {},
   "outputs": [
    {
     "data": {
      "text/plain": [
       "1"
      ]
     },
     "execution_count": 52,
     "metadata": {},
     "output_type": "execute_result"
    }
   ],
   "source": [
    "def mort_gen(pmort, nb_gen, age):\n",
    "    '''\n",
    "    dict[int:float]*int*int->int\n",
    "    Renvoie le nombre de mort d'une generation \n",
    "    '''\n",
    "    i = 0\n",
    "    morts = 0\n",
    "    while i < nb_gen:\n",
    "        morts += plata_o_plomo(pmort, age)\n",
    "        i += 1\n",
    "    return morts\n",
    "\n",
    "mort_gen(pmort, 50, 30)    "
   ]
  },
  {
   "cell_type": "markdown",
   "metadata": {},
   "source": [
    "On fait ensuite passer l'ensemble des générations de la population dans la fonction pour avoir le nombre de gens en vie à la decade suivante (toujours avec l'accent svp)"
   ]
  },
  {
   "cell_type": "code",
   "execution_count": 53,
   "metadata": {},
   "outputs": [
    {
     "data": {
      "text/plain": [
       "{0: 0, 10: 0, 20: 47, 30: 44, 40: 9, 50: 4, 60: 0, 70: 0, 80: 0, 90: 0}"
      ]
     },
     "execution_count": 53,
     "metadata": {},
     "output_type": "execute_result"
    }
   ],
   "source": [
    "def pop_vivante(pmort, pop):\n",
    "    '''\n",
    "    dict[int:float]*dict[int:int]->dict[int:int]\n",
    "    Renvoie la population moins les morts\n",
    "    '''\n",
    "    \n",
    "    pop_ev_ok = {}\n",
    "    i = 0\n",
    "    for i in pop :\n",
    "        pop_ev_ok[i] = pop[i] - mort_gen(pmort, pop[i], i)\n",
    "    return pop_ev_ok\n",
    "\n",
    "pop_vivante(pmort, pop_init)"
   ]
  },
  {
   "cell_type": "markdown",
   "metadata": {},
   "source": [
    "On écrit ensuite la fonction finale qui nous donne après 10 ans la population (naissance puis mort)."
   ]
  },
  {
   "cell_type": "code",
   "execution_count": 54,
   "metadata": {},
   "outputs": [
    {
     "name": "stdout",
     "output_type": "stream",
     "text": [
      "Population à la génération suivante\n"
     ]
    },
    {
     "data": {
      "text/plain": [
       "{0: 58, 10: 0, 20: 0, 30: 49, 40: 48, 50: 10, 60: 4, 70: 0, 80: 0, 90: 0}"
      ]
     },
     "execution_count": 54,
     "metadata": {},
     "output_type": "execute_result"
    }
   ],
   "source": [
    "def pop_next(pop, p, pmort):\n",
    "    \"\"\"\n",
    "    dict[int:int] * dict[int:dict[int:float]] * dict[int:float] -> dict[int:int]\n",
    "    renvoie la population a la génération suivante\n",
    "    \"\"\"\n",
    "    popnext = pop_decade(pop, p)\n",
    "    popnext = pop_vivante(pmort, popnext)\n",
    "    \n",
    "    return popnext\n",
    "\n",
    "print(\"Population à la génération suivante\")\n",
    "pop_next(pop_init, p, pmort)"
   ]
  },
  {
   "cell_type": "markdown",
   "metadata": {},
   "source": [
    "On introduit ensuite une fonction pour avoir la population Pop après une nombre de decade d."
   ]
  },
  {
   "cell_type": "code",
   "execution_count": 55,
   "metadata": {},
   "outputs": [
    {
     "name": "stdout",
     "output_type": "stream",
     "text": [
      "Population à la decade d\n",
      "Année =  10\n",
      "age = 0 , Population =  46\n",
      "age = 10 , Population =  0\n",
      "age = 20 , Population =  0\n",
      "age = 30 , Population =  48\n",
      "age = 40 , Population =  48\n",
      "age = 50 , Population =  10\n",
      "age = 60 , Population =  4\n",
      "age = 70 , Population =  0\n",
      "age = 80 , Population =  0\n",
      "age = 90 , Population =  0\n",
      "Population totale =  156\n",
      " \n",
      "Année =  20\n",
      "age = 0 , Population =  42\n",
      "age = 10 , Population =  45\n",
      "age = 20 , Population =  0\n",
      "age = 30 , Population =  0\n",
      "age = 40 , Population =  46\n",
      "age = 50 , Population =  43\n",
      "age = 60 , Population =  10\n",
      "age = 70 , Population =  4\n",
      "age = 80 , Population =  0\n",
      "age = 90 , Population =  0\n",
      "Population totale =  190\n",
      " \n",
      "Année =  30\n",
      "age = 0 , Population =  20\n",
      "age = 10 , Population =  41\n",
      "age = 20 , Population =  45\n",
      "age = 30 , Population =  0\n",
      "age = 40 , Population =  0\n",
      "age = 50 , Population =  44\n",
      "age = 60 , Population =  42\n",
      "age = 70 , Population =  9\n",
      "age = 80 , Population =  3\n",
      "age = 90 , Population =  0\n",
      "Population totale =  204\n",
      " \n",
      "Année =  40\n",
      "age = 0 , Population =  26\n",
      "age = 10 , Population =  20\n",
      "age = 20 , Population =  39\n",
      "age = 30 , Population =  45\n",
      "age = 40 , Population =  0\n",
      "age = 50 , Population =  0\n",
      "age = 60 , Population =  43\n",
      "age = 70 , Population =  37\n",
      "age = 80 , Population =  6\n",
      "age = 90 , Population =  0\n",
      "Population totale =  216\n",
      " \n",
      "Année =  50\n",
      "age = 0 , Population =  37\n",
      "age = 10 , Population =  26\n",
      "age = 20 , Population =  19\n",
      "age = 30 , Population =  39\n",
      "age = 40 , Population =  37\n",
      "age = 50 , Population =  0\n",
      "age = 60 , Population =  0\n",
      "age = 70 , Population =  34\n",
      "age = 80 , Population =  26\n",
      "age = 90 , Population =  0\n",
      "Population totale =  218\n",
      " \n",
      "Année =  60\n",
      "age = 0 , Population =  33\n",
      "age = 10 , Population =  34\n",
      "age = 20 , Population =  26\n",
      "age = 30 , Population =  18\n",
      "age = 40 , Population =  38\n",
      "age = 50 , Population =  30\n",
      "age = 60 , Population =  0\n",
      "age = 70 , Population =  0\n",
      "age = 80 , Population =  22\n",
      "age = 90 , Population =  0\n",
      "Population totale =  201\n",
      " \n",
      "Année =  70\n",
      "age = 0 , Population =  40\n",
      "age = 10 , Population =  32\n",
      "age = 20 , Population =  34\n",
      "age = 30 , Population =  24\n",
      "age = 40 , Population =  18\n",
      "age = 50 , Population =  37\n",
      "age = 60 , Population =  27\n",
      "age = 70 , Population =  0\n",
      "age = 80 , Population =  0\n",
      "age = 90 , Population =  0\n",
      "Population totale =  212\n",
      " \n",
      "Année =  80\n",
      "age = 0 , Population =  40\n",
      "age = 10 , Population =  40\n",
      "age = 20 , Population =  32\n",
      "age = 30 , Population =  32\n",
      "age = 40 , Population =  24\n",
      "age = 50 , Population =  17\n",
      "age = 60 , Population =  36\n",
      "age = 70 , Population =  22\n",
      "age = 80 , Population =  0\n",
      "age = 90 , Population =  0\n",
      "Population totale =  243\n",
      " \n",
      "Année =  90\n",
      "age = 0 , Population =  30\n",
      "age = 10 , Population =  40\n",
      "age = 20 , Population =  40\n",
      "age = 30 , Population =  32\n",
      "age = 40 , Population =  27\n",
      "age = 50 , Population =  23\n",
      "age = 60 , Population =  17\n",
      "age = 70 , Population =  32\n",
      "age = 80 , Population =  14\n",
      "age = 90 , Population =  0\n",
      "Population totale =  255\n",
      " \n",
      "Année =  100\n",
      "age = 0 , Population =  39\n",
      "age = 10 , Population =  30\n",
      "age = 20 , Population =  40\n",
      "age = 30 , Population =  38\n",
      "age = 40 , Population =  30\n",
      "age = 50 , Population =  27\n",
      "age = 60 , Population =  20\n",
      "age = 70 , Population =  14\n",
      "age = 80 , Population =  21\n",
      "age = 90 , Population =  0\n",
      "Population totale =  259\n",
      " \n",
      "Année =  110\n",
      "age = 0 , Population =  52\n",
      "age = 10 , Population =  39\n",
      "age = 20 , Population =  28\n",
      "age = 30 , Population =  37\n",
      "age = 40 , Population =  34\n",
      "age = 50 , Population =  27\n",
      "age = 60 , Population =  23\n",
      "age = 70 , Population =  15\n",
      "age = 80 , Population =  12\n",
      "age = 90 , Population =  0\n",
      "Population totale =  267\n",
      " \n",
      "Année =  120\n",
      "age = 0 , Population =  46\n",
      "age = 10 , Population =  51\n",
      "age = 20 , Population =  39\n",
      "age = 30 , Population =  26\n",
      "age = 40 , Population =  36\n",
      "age = 50 , Population =  30\n",
      "age = 60 , Population =  26\n",
      "age = 70 , Population =  19\n",
      "age = 80 , Population =  10\n",
      "age = 90 , Population =  0\n",
      "Population totale =  283\n",
      " \n",
      "Année =  130\n",
      "age = 0 , Population =  39\n",
      "age = 10 , Population =  44\n",
      "age = 20 , Population =  49\n",
      "age = 30 , Population =  36\n",
      "age = 40 , Population =  23\n",
      "age = 50 , Population =  33\n",
      "age = 60 , Population =  26\n",
      "age = 70 , Population =  23\n",
      "age = 80 , Population =  13\n",
      "age = 90 , Population =  0\n",
      "Population totale =  286\n",
      " \n",
      "Année =  140\n",
      "age = 0 , Population =  42\n",
      "age = 10 , Population =  38\n",
      "age = 20 , Population =  43\n",
      "age = 30 , Population =  47\n",
      "age = 40 , Population =  35\n",
      "age = 50 , Population =  23\n",
      "age = 60 , Population =  29\n",
      "age = 70 , Population =  23\n",
      "age = 80 , Population =  18\n",
      "age = 90 , Population =  0\n",
      "Population totale =  298\n",
      " \n",
      "Année =  150\n",
      "age = 0 , Population =  57\n",
      "age = 10 , Population =  42\n",
      "age = 20 , Population =  38\n",
      "age = 30 , Population =  41\n",
      "age = 40 , Population =  46\n",
      "age = 50 , Population =  34\n",
      "age = 60 , Population =  22\n",
      "age = 70 , Population =  27\n",
      "age = 80 , Population =  13\n",
      "age = 90 , Population =  0\n",
      "Population totale =  320\n",
      " \n",
      "Année =  160\n",
      "age = 0 , Population =  57\n",
      "age = 10 , Population =  56\n",
      "age = 20 , Population =  42\n",
      "age = 30 , Population =  37\n",
      "age = 40 , Population =  33\n",
      "age = 50 , Population =  38\n",
      "age = 60 , Population =  30\n",
      "age = 70 , Population =  19\n",
      "age = 80 , Population =  19\n",
      "age = 90 , Population =  0\n",
      "Population totale =  331\n",
      " \n",
      "Année =  170\n",
      "age = 0 , Population =  46\n",
      "age = 10 , Population =  56\n",
      "age = 20 , Population =  56\n",
      "age = 30 , Population =  42\n",
      "age = 40 , Population =  34\n",
      "age = 50 , Population =  31\n",
      "age = 60 , Population =  35\n",
      "age = 70 , Population =  27\n",
      "age = 80 , Population =  14\n",
      "age = 90 , Population =  0\n",
      "Population totale =  341\n",
      " \n",
      "Année =  180\n",
      "age = 0 , Population =  60\n",
      "age = 10 , Population =  45\n",
      "age = 20 , Population =  54\n",
      "age = 30 , Population =  53\n",
      "age = 40 , Population =  37\n",
      "age = 50 , Population =  32\n",
      "age = 60 , Population =  27\n",
      "age = 70 , Population =  32\n",
      "age = 80 , Population =  18\n",
      "age = 90 , Population =  0\n",
      "Population totale =  358\n",
      " \n",
      "Année =  190\n",
      "age = 0 , Population =  57\n",
      "age = 10 , Population =  59\n",
      "age = 20 , Population =  45\n",
      "age = 30 , Population =  49\n",
      "age = 40 , Population =  51\n",
      "age = 50 , Population =  35\n",
      "age = 60 , Population =  27\n",
      "age = 70 , Population =  22\n",
      "age = 80 , Population =  22\n",
      "age = 90 , Population =  0\n",
      "Population totale =  367\n",
      " \n",
      "Année =  200\n",
      "age = 0 , Population =  48\n",
      "age = 10 , Population =  55\n",
      "age = 20 , Population =  57\n",
      "age = 30 , Population =  44\n",
      "age = 40 , Population =  47\n",
      "age = 50 , Population =  47\n",
      "age = 60 , Population =  30\n",
      "age = 70 , Population =  20\n",
      "age = 80 , Population =  15\n",
      "age = 90 , Population =  0\n",
      "Population totale =  363\n",
      " \n"
     ]
    },
    {
     "data": {
      "text/plain": [
       "{0: 48, 10: 55, 20: 57, 30: 44, 40: 47, 50: 47, 60: 30, 70: 20, 80: 15, 90: 0}"
      ]
     },
     "execution_count": 55,
     "metadata": {},
     "output_type": "execute_result"
    }
   ],
   "source": [
    "def pop_after_d(pop, p , pmort, d):\n",
    "    \"\"\"\n",
    "    dict[int:int]*dict[int:dict[int:float]]*dict[int:float]*int->dict[int:int]\n",
    "    Renvoie la population à la decade d\n",
    "    \"\"\"\n",
    "    for i in range(d):\n",
    "        print(\"Année = \", ((i + 1)*10))\n",
    "        pop = pop_next(pop, p, pmort)\n",
    "        pop_totale = 0\n",
    "        j = 0\n",
    "        while j <= 90 : \n",
    "            print(\"age =\", j,\", Population = \",pop[j])\n",
    "            pop_totale = pop_totale + pop[j]\n",
    "            j = j + 10\n",
    "        print(\"Population totale = \", pop_totale)\n",
    "        print(\" \")\n",
    "    return pop\n",
    "\n",
    "print(\"Population à la decade d\")\n",
    "pop_after_d(pop_init, p, pmort, 20)"
   ]
  },
  {
   "cell_type": "markdown",
   "metadata": {},
   "source": [
    "Fonction pour savoir ou bout de combien de decade on arrive à une pop totale n"
   ]
  },
  {
   "cell_type": "code",
   "execution_count": 56,
   "metadata": {},
   "outputs": [
    {
     "data": {
      "text/plain": [
       "('Année = ', 1000, 'Population = ', 10267)"
      ]
     },
     "execution_count": 56,
     "metadata": {},
     "output_type": "execute_result"
    }
   ],
   "source": [
    "def nb_of_decade(pop, p , pmort, n):\n",
    "    \"\"\"\n",
    "    dict[int:int] * dict[int:dict[int:float]] * dict[int:float] * int -> tuple[str, int,  str, int]\n",
    "    Renvoie decade ou pop > n\n",
    "    \"\"\"\n",
    "    d = 0\n",
    "    pop_totale = 0\n",
    "    while pop_totale < n :\n",
    "        d = d + 1\n",
    "        pop = pop_next(pop, p, pmort)\n",
    "        j = 0\n",
    "        pop_totale = 0\n",
    "        while j <= 90 :\n",
    "            pop_totale = pop_totale + pop[j]\n",
    "            j = j + 10\n",
    "    return (\"Année = \", (d*10), \"Population = \", pop_totale)\n",
    "nb_of_decade(pop_init, p, pmort, 10000)"
   ]
  },
  {
   "cell_type": "markdown",
   "metadata": {},
   "source": [
    "On va ensuite essayer de complexifier un peu notre modèle en prenant en compte le sexe des colons."
   ]
  },
  {
   "cell_type": "code",
   "execution_count": 57,
   "metadata": {},
   "outputs": [],
   "source": [
    "#On va donc créer des dictionnaires \n",
    "pop_h = {0 : 0,\n",
    "    10 : 0,\n",
    "    20 : 0,\n",
    "    30 : 0,\n",
    "    40 : 0,\n",
    "    50 : 0,\n",
    "    60 : 0,\n",
    "    70 : 0,\n",
    "    80 : 0,\n",
    "    90 : 0}\n",
    "\n",
    "\n",
    "pop_f = {0 : 0,\n",
    "    10 : 0,\n",
    "    20 : 250,\n",
    "    30 : 250,\n",
    "    40 : 50,\n",
    "    50 : 30,\n",
    "    60 : 0,\n",
    "    70 : 0,\n",
    "    80 : 0,\n",
    "    90 : 0}\n",
    "\n",
    "Pop_totale = {1 : pop_h,\n",
    "              2 : pop_f}\n"
   ]
  },
  {
   "cell_type": "markdown",
   "metadata": {},
   "source": [
    "On part du principe qu'il faut un homme et une femme pour faire des enfants."
   ]
  },
  {
   "cell_type": "code",
   "execution_count": 58,
   "metadata": {},
   "outputs": [
    {
     "data": {
      "text/plain": [
       "0"
      ]
     },
     "execution_count": 58,
     "metadata": {},
     "output_type": "execute_result"
    }
   ],
   "source": [
    "pop_h.get(20)"
   ]
  },
  {
   "cell_type": "code",
   "execution_count": 59,
   "metadata": {},
   "outputs": [
    {
     "data": {
      "text/plain": [
       "{0: 0, 10: 0, 20: 0, 30: 0, 40: 0, 50: 0, 60: 0, 70: 0, 80: 0, 90: 0}"
      ]
     },
     "execution_count": 59,
     "metadata": {},
     "output_type": "execute_result"
    }
   ],
   "source": [
    "def compte_couple(Pop_totale):\n",
    "    \n",
    "    age_couple = dict()\n",
    "    \n",
    "    poph = Pop_totale[1]\n",
    "    popf = Pop_totale[2]\n",
    "    i = 0\n",
    "    while i <= 90 :\n",
    "        age_couple[i] = min(poph[i], popf[i])\n",
    "        i = i + 10\n",
    "    return age_couple\n",
    "compte_couple(Pop_totale)\n",
    "    "
   ]
  },
  {
   "cell_type": "code",
   "execution_count": 60,
   "metadata": {},
   "outputs": [],
   "source": [
    "age_couple = {0: 0, 10: 0, 20: 25, 30: 25, 40: 5, 50: 2, 60: 0, 70: 0, 80: 0, 90: 0}"
   ]
  },
  {
   "cell_type": "markdown",
   "metadata": {},
   "source": [
    "On fait maintenant la fonction qui nous donne la descendance d'un couple sur une decade."
   ]
  },
  {
   "cell_type": "code",
   "execution_count": 61,
   "metadata": {},
   "outputs": [],
   "source": [
    "def nb_enfant_couple_decade(ageh, agef, p):\n",
    "\n",
    "    u = np.random.random()\n",
    "    s = 0\n",
    "    pb = p[a]\n",
    "    for k in pb.keys():\n",
    "        s += pb[k]\n",
    "        if u < s:\n",
    "            return k"
   ]
  },
  {
   "cell_type": "markdown",
   "metadata": {},
   "source": [
    "Nombre de naissance en fonction du nombre de couple."
   ]
  },
  {
   "cell_type": "code",
   "execution_count": 134,
   "metadata": {},
   "outputs": [
    {
     "data": {
      "text/plain": [
       "19"
      ]
     },
     "execution_count": 134,
     "metadata": {},
     "output_type": "execute_result"
    }
   ],
   "source": [
    "def nb_naissances_couples(p1, p2):\n",
    "    '''\n",
    "    dict[int:int] * dict[int:dict[int:float]] -> int\n",
    "    renvoie le nombre de naissances pendant 10 ans\n",
    "    '''\n",
    "    a = 0\n",
    "    nv_enfant = 0\n",
    "    for a in p1:\n",
    "        b = p1[a]\n",
    "        i = 0\n",
    "        while i < b:\n",
    "            nv_enfant += number_of_descendants(p2, a)\n",
    "            i += 1\n",
    "    return nv_enfant \n",
    "\n",
    "nb_naissances_couples(age_couple,p)"
   ]
  },
  {
   "cell_type": "markdown",
   "metadata": {},
   "source": [
    "on \"tri\" pour savoir combien de garçons et de filles sont nés"
   ]
  },
  {
   "cell_type": "code",
   "execution_count": 176,
   "metadata": {},
   "outputs": [
    {
     "data": {
      "text/plain": [
       "{1: 24, 2: 26}"
      ]
     },
     "execution_count": 176,
     "metadata": {},
     "output_type": "execute_result"
    }
   ],
   "source": [
    "def tri_naissance(nb_enfant):\n",
    "    \n",
    "    nb_enfant_h = 0\n",
    "    nb_enfant_f = 0\n",
    "    for i in range(0, nb_enfant):\n",
    "        a = random.randint(1, 2)\n",
    "        if a == 1:\n",
    "            nb_enfant_h = nb_enfant_h + 1\n",
    "        else :\n",
    "            nb_enfant_f = nb_enfant_f + 1\n",
    "    return {1 : nb_enfant_h, 2 : nb_enfant_f}\n",
    "    \n",
    "    \n",
    "tri_naissance(50)"
   ]
  },
  {
   "cell_type": "markdown",
   "metadata": {},
   "source": [
    "plots"
   ]
  },
  {
   "cell_type": "markdown",
   "metadata": {},
   "source": [
    "On améliorer les anciennes fcts."
   ]
  },
  {
   "cell_type": "code",
   "execution_count": 64,
   "metadata": {},
   "outputs": [
    {
     "data": {
      "text/plain": [
       "{1: {0: 0, 10: 0, 20: 0, 30: 0, 40: 0, 50: 0, 60: 0, 70: 0, 80: 0, 90: 0},\n",
       " 2: {0: 0,\n",
       "  10: 0,\n",
       "  20: 0,\n",
       "  30: 250,\n",
       "  40: 250,\n",
       "  50: 50,\n",
       "  60: 30,\n",
       "  70: 0,\n",
       "  80: 0,\n",
       "  90: 0}}"
      ]
     },
     "execution_count": 64,
     "metadata": {},
     "output_type": "execute_result"
    }
   ],
   "source": [
    "def pop_decade_couple(Pop_totale,p):\n",
    "    '''\n",
    "    dict[int:int] * dict[int:dict[int:float]] -> dict[int:dict[int:int]]\n",
    "    renvoie le dict de population apres une decade (lire avec l'accent svp)\n",
    "    '''\n",
    "    nb_couple = compte_couple(Pop_totale)\n",
    "    nv_enfant = nb_naissances_couples(nb_couple, p)\n",
    "    tri = tri_naissance(nv_enfant)\n",
    "    popho = Pop_totale[1]\n",
    "    popfe = Pop_totale[2]\n",
    "    poph_ev = dict()\n",
    "    popf_ev = dict()\n",
    "    i = 0\n",
    "    while i < 90:\n",
    "        \n",
    "        poph_ev[(i + 10)] = popho[i]\n",
    "        popf_ev[(i + 10)] = popfe[i]\n",
    "        i += 10\n",
    "        \n",
    "    poph_ev[0] = tri[1]\n",
    "    popf_ev[0] = tri[2]\n",
    "    \n",
    "    pop_ev = {1 : poph_ev, 2 : popf_ev}\n",
    "    \n",
    "    return pop_ev\n",
    "    \n",
    "\n",
    "pop_decade_couple(Pop_totale,p)"
   ]
  },
  {
   "cell_type": "markdown",
   "metadata": {},
   "source": [
    "Graphique :"
   ]
  },
  {
   "cell_type": "code",
   "execution_count": 65,
   "metadata": {},
   "outputs": [
    {
     "name": "stdout",
     "output_type": "stream",
     "text": [
      "([0, 80, 50, 20, 70, 40, 10, 60, 90, 30], [0, 0, 0, 0, 0, 0, 0, 0, 0, 0])\n"
     ]
    }
   ],
   "source": [
    "def extract(pop_dic, key=1):\n",
    "    age = []\n",
    "    qte = []\n",
    "    \n",
    "    for k, v in pop_dic[key].items():\n",
    "        age.append(k)\n",
    "        qte.append(v)\n",
    "    \n",
    "    return age, qte\n",
    "\n",
    "print(extract(Pop_totale))\n",
    "l, v = extract(Pop_totale)\n"
   ]
  },
  {
   "cell_type": "code",
   "execution_count": 183,
   "metadata": {},
   "outputs": [
    {
     "data": {
      "text/plain": [
       "[<matplotlib.lines.Line2D at 0x7f9ff04e5128>]"
      ]
     },
     "execution_count": 183,
     "metadata": {},
     "output_type": "execute_result"
    },
    {
     "data": {
      "image/png": "[encoded data removed]",
      "text/plain": [
       "<Figure size 432x288 with 1 Axes>"
      ]
     },
     "metadata": {},
     "output_type": "display_data"
    }
   ],
   "source": [
    "plt.plot(v, l, \"--\")"
   ]
  },
  {
   "cell_type": "code",
   "execution_count": 184,
   "metadata": {},
   "outputs": [
    {
     "ename": "IndexError",
     "evalue": "tuple index out of range",
     "output_type": "error",
     "traceback": [
      "\u001b[0;31m---------------------------------------------------------------------------\u001b[0m",
      "\u001b[0;31mIndexError\u001b[0m                                Traceback (most recent call last)",
      "\u001b[0;32m<ipython-input-184-88c35a9fff29>\u001b[0m in \u001b[0;36m<module>\u001b[0;34m()\u001b[0m\n\u001b[1;32m     17\u001b[0m     \u001b[0;32mreturn\u001b[0m \u001b[0mL2\u001b[0m\u001b[0;34m\u001b[0m\u001b[0m\n\u001b[1;32m     18\u001b[0m \u001b[0;34m\u001b[0m\u001b[0m\n\u001b[0;32m---> 19\u001b[0;31m \u001b[0mL2\u001b[0m \u001b[0;34m=\u001b[0m \u001b[0mliste_pop_decade_couple\u001b[0m\u001b[0;34m(\u001b[0m\u001b[0mPop_totale\u001b[0m\u001b[0;34m,\u001b[0m\u001b[0mp\u001b[0m\u001b[0;34m,\u001b[0m \u001b[0;36m15\u001b[0m\u001b[0;34m)\u001b[0m\u001b[0;34m\u001b[0m\u001b[0m\n\u001b[0m\u001b[1;32m     20\u001b[0m \u001b[0;34m\u001b[0m\u001b[0m\n\u001b[1;32m     21\u001b[0m \u001b[0;32mdef\u001b[0m \u001b[0mplot_2\u001b[0m\u001b[0;34m(\u001b[0m\u001b[0mL2\u001b[0m\u001b[0;34m)\u001b[0m\u001b[0;34m:\u001b[0m\u001b[0;34m\u001b[0m\u001b[0m\n",
      "\u001b[0;32m<ipython-input-184-88c35a9fff29>\u001b[0m in \u001b[0;36mliste_pop_decade_couple\u001b[0;34m(Pop_totale, p, n)\u001b[0m\n\u001b[1;32m      5\u001b[0m     \u001b[0;32mfor\u001b[0m \u001b[0mi\u001b[0m \u001b[0;32min\u001b[0m \u001b[0mrange\u001b[0m \u001b[0;34m(\u001b[0m\u001b[0;36m0\u001b[0m\u001b[0;34m,\u001b[0m \u001b[0mn\u001b[0m\u001b[0;34m)\u001b[0m\u001b[0;34m:\u001b[0m\u001b[0;34m\u001b[0m\u001b[0m\n\u001b[1;32m      6\u001b[0m         \u001b[0ml2\u001b[0m \u001b[0;34m=\u001b[0m \u001b[0;34m[\u001b[0m\u001b[0;34m]\u001b[0m\u001b[0;34m\u001b[0m\u001b[0m\n\u001b[0;32m----> 7\u001b[0;31m         \u001b[0mpop_ev\u001b[0m \u001b[0;34m=\u001b[0m \u001b[0mpop_decade_couple\u001b[0m\u001b[0;34m(\u001b[0m\u001b[0mpop_ev\u001b[0m\u001b[0;34m,\u001b[0m\u001b[0mp\u001b[0m\u001b[0;34m)\u001b[0m\u001b[0;34m\u001b[0m\u001b[0m\n\u001b[0m\u001b[1;32m      8\u001b[0m         \u001b[0mo\u001b[0m \u001b[0;34m=\u001b[0m \u001b[0mpop_ev\u001b[0m\u001b[0;34m[\u001b[0m\u001b[0;36m1\u001b[0m\u001b[0;34m]\u001b[0m\u001b[0;34m\u001b[0m\u001b[0m\n\u001b[1;32m      9\u001b[0m         \u001b[0;32mfor\u001b[0m \u001b[0mu\u001b[0m \u001b[0;32min\u001b[0m \u001b[0mrange\u001b[0m \u001b[0;34m(\u001b[0m\u001b[0;36m0\u001b[0m\u001b[0;34m,\u001b[0m \u001b[0;36m100\u001b[0m\u001b[0;34m,\u001b[0m \u001b[0;36m10\u001b[0m\u001b[0;34m)\u001b[0m\u001b[0;34m:\u001b[0m\u001b[0;34m\u001b[0m\u001b[0m\n",
      "\u001b[0;32m<ipython-input-64-8f342f65f9e7>\u001b[0m in \u001b[0;36mpop_decade_couple\u001b[0;34m(Pop_totale, p)\u001b[0m\n\u001b[1;32m     19\u001b[0m \u001b[0;34m\u001b[0m\u001b[0m\n\u001b[1;32m     20\u001b[0m     \u001b[0mpoph_ev\u001b[0m\u001b[0;34m[\u001b[0m\u001b[0;36m0\u001b[0m\u001b[0;34m]\u001b[0m \u001b[0;34m=\u001b[0m \u001b[0mtri\u001b[0m\u001b[0;34m[\u001b[0m\u001b[0;36m1\u001b[0m\u001b[0;34m]\u001b[0m\u001b[0;34m\u001b[0m\u001b[0m\n\u001b[0;32m---> 21\u001b[0;31m     \u001b[0mpopf_ev\u001b[0m\u001b[0;34m[\u001b[0m\u001b[0;36m0\u001b[0m\u001b[0;34m]\u001b[0m \u001b[0;34m=\u001b[0m \u001b[0mtri\u001b[0m\u001b[0;34m[\u001b[0m\u001b[0;36m2\u001b[0m\u001b[0;34m]\u001b[0m\u001b[0;34m\u001b[0m\u001b[0m\n\u001b[0m\u001b[1;32m     22\u001b[0m \u001b[0;34m\u001b[0m\u001b[0m\n\u001b[1;32m     23\u001b[0m     \u001b[0mpop_ev\u001b[0m \u001b[0;34m=\u001b[0m \u001b[0;34m{\u001b[0m\u001b[0;36m1\u001b[0m \u001b[0;34m:\u001b[0m \u001b[0mpoph_ev\u001b[0m\u001b[0;34m,\u001b[0m \u001b[0;36m2\u001b[0m \u001b[0;34m:\u001b[0m \u001b[0mpopf_ev\u001b[0m\u001b[0;34m}\u001b[0m\u001b[0;34m\u001b[0m\u001b[0m\n",
      "\u001b[0;31mIndexError\u001b[0m: tuple index out of range"
     ]
    }
   ],
   "source": [
    "def liste_pop_decade_couple(Pop_totale,p, n):\n",
    "    \n",
    "    L2 = []\n",
    "    pop_ev = Pop_totale\n",
    "    for i in range (0, n):\n",
    "        l2 = []\n",
    "        pop_ev = pop_decade_couple(pop_ev,p)\n",
    "        o = pop_ev[1]\n",
    "        for u in range (0, 100, 10):\n",
    "            l2.append(o[u])\n",
    "            \n",
    "        \n",
    "        \n",
    "        L2.append(l2)\n",
    "        l2 = []\n",
    "    print(L2)\n",
    "    return L2\n",
    "\n",
    "L2 = liste_pop_decade_couple(Pop_totale,p, 15)\n",
    "\n",
    "def plot_2(L2):\n",
    "    plt.figure()\n",
    "    plt.plot(L2)\n",
    "    plt.legend([\"Age \" + str(i) for i in p])\n",
    "    plt.xlabel(\"Décennie\")\n",
    "    plt.ylabel(\"Population Homme\")\n",
    "    plt.show()\n",
    "    return\n",
    "plot_2(L2)\n",
    "\n"
   ]
  },
  {
   "cell_type": "markdown",
   "metadata": {},
   "source": [
    "Fonction suivante :"
   ]
  },
  {
   "cell_type": "code",
   "execution_count": 68,
   "metadata": {},
   "outputs": [
    {
     "data": {
      "text/plain": [
       "{1: {0: 0,\n",
       "  10: 0,\n",
       "  20: 2827,\n",
       "  30: 2433,\n",
       "  40: 143,\n",
       "  50: 900,\n",
       "  60: 315,\n",
       "  70: 0,\n",
       "  80: 0,\n",
       "  90: 0},\n",
       " 2: {0: 0,\n",
       "  10: 0,\n",
       "  20: 2444,\n",
       "  30: 1958,\n",
       "  40: 519,\n",
       "  50: 290,\n",
       "  60: 692,\n",
       "  70: 0,\n",
       "  80: 0,\n",
       "  90: 0}}"
      ]
     },
     "execution_count": 68,
     "metadata": {},
     "output_type": "execute_result"
    }
   ],
   "source": [
    "#On va donc créer des dictionnaires en bal\n",
    "pop_h = {0 : 0,\n",
    "    10 : 0,\n",
    "    20 : 2890,\n",
    "    30 : 2570,\n",
    "    40 : 150,\n",
    "    50 : 980,\n",
    "    60 : 360,\n",
    "    70 : 0,\n",
    "    80 : 0,\n",
    "    90 : 0}\n",
    "\n",
    "\n",
    "pop_f = {0 : 0,\n",
    "    10 : 0,\n",
    "    20 : 2500,\n",
    "    30 : 2060,\n",
    "    40 : 560,\n",
    "    50 : 320,\n",
    "    60 : 780,\n",
    "    70 : 0,\n",
    "    80 : 0,\n",
    "    90 : 0}\n",
    "\n",
    "Pop_totale = {1 : pop_h,\n",
    "              2 : pop_f}\n",
    "\n",
    "\n",
    "def pop_vivante_couple(pmort, pop1):\n",
    "    '''\n",
    "    dict[int:float] * dict[int:dict[int:int] -> dict[int:int]\n",
    "    Renvoie la population moins les morts\n",
    "    '''\n",
    "    poph_n = pop1[1]\n",
    "    popf_n = pop1[2]\n",
    "    pop = dict()\n",
    "    i = 0\n",
    "    while i < 100 :\n",
    "        poph_n[i] = poph_n[i] - mort_gen(pmort, poph_n[i], i)\n",
    "        popf_n[i] = popf_n[i] - mort_gen(pmort, popf_n[i], i)\n",
    "        i = i + 10\n",
    "    \n",
    "    pop = {1 : poph_n, 2 : popf_n}\n",
    "    return pop\n",
    "\n",
    "pop_vivante_couple(pmort, Pop_totale)"
   ]
  },
  {
   "cell_type": "markdown",
   "metadata": {},
   "source": [
    "/*--------------------------------------------------------------------------------------------------------------------------------------------------------------------------------------------------*/"
   ]
  },
  {
   "cell_type": "markdown",
   "metadata": {},
   "source": [
    "On implémente maintenant des fonctions pour rendre la population dépendante de ressources (réalisme)"
   ]
  },
  {
   "cell_type": "code",
   "execution_count": 69,
   "metadata": {},
   "outputs": [],
   "source": [
    "def ressource_terre(ini,x,n):\n",
    "    \"\"\"int**3->int\n",
    "    retourne le taux de ressource envoyé de la terre en fonction de decade n en fonction de ini et x\"\"\"\n",
    "    t=0\n",
    "    while t<=n+1:    \n",
    "        ini=ini+x*t\n",
    "        t=t+10\n",
    "    return ini"
   ]
  },
  {
   "cell_type": "code",
   "execution_count": 70,
   "metadata": {},
   "outputs": [],
   "source": [
    "#taux de ressources necessaire\n",
    "coefress=0.02   #coef de la fonction affine\n",
    "resini=0.8#taux de ressource initial envoyé de la terre\n",
    "d=10  #decade\n",
    "dmax=20\n",
    "rTerre=ressource_terre(resini,coefress,d)     #ressources provenant de la terre \n",
    "rPlanet=0   #ressources récolté sur place\n",
    "\n",
    "coef=1          #coefficient"
   ]
  },
  {
   "cell_type": "code",
   "execution_count": 71,
   "metadata": {},
   "outputs": [
    {
     "data": {
      "text/plain": [
       "{0: 0.1,\n",
       " 10: 0.02,\n",
       " 20: 0.02,\n",
       " 30: 0.05,\n",
       " 40: 0.08,\n",
       " 50: 0.09,\n",
       " 60: 0.12,\n",
       " 70: 0.15,\n",
       " 80: 0.3,\n",
       " 90: 1.0}"
      ]
     },
     "execution_count": 71,
     "metadata": {},
     "output_type": "execute_result"
    }
   ],
   "source": [
    "def impact_ressources(t,dpm):\n",
    "        \"\"\"float**2*dict[int:float]->dict[int:float]\n",
    "        retourne le dictionnaire pmort avec l'impact des ressources\"\"\"\n",
    "        j=10\n",
    "        while j <= 90 : \n",
    "            dpm[j]= round(dpm[j]*t,3)\n",
    "            j=j+10\n",
    "        return dpm\n",
    "\n",
    "impact_ressources(ressource_terre(resini,coefress,10),pmort)\n",
    "        \n",
    "        "
   ]
  },
  {
   "cell_type": "code",
   "execution_count": 72,
   "metadata": {
    "scrolled": true
   },
   "outputs": [
    {
     "name": "stdout",
     "output_type": "stream",
     "text": [
      "decade = 0\n",
      "{0: 0.1, 80: 0.24, 50: 0.072, 20: 0.016, 70: 0.12, 40: 0.064, 10: 0.016, 60: 0.096, 90: 0.8, 30: 0.04}\n",
      "decade = 1\n",
      "{0: 0.1, 80: 0.192, 50: 0.058, 20: 0.013, 70: 0.096, 40: 0.051, 10: 0.013, 60: 0.077, 90: 0.64, 30: 0.032}\n",
      "decade = 2\n",
      "{0: 0.1, 80: 0.154, 50: 0.046, 20: 0.01, 70: 0.077, 40: 0.041, 10: 0.01, 60: 0.062, 90: 0.512, 30: 0.026}\n",
      "decade = 3\n",
      "{0: 0.1, 80: 0.123, 50: 0.037, 20: 0.008, 70: 0.062, 40: 0.033, 10: 0.008, 60: 0.05, 90: 0.41, 30: 0.021}\n",
      "decade = 4\n",
      "{0: 0.1, 80: 0.098, 50: 0.03, 20: 0.006, 70: 0.05, 40: 0.026, 10: 0.006, 60: 0.04, 90: 0.328, 30: 0.017}\n",
      "decade = 5\n",
      "{0: 0.1, 80: 0.078, 50: 0.024, 20: 0.005, 70: 0.04, 40: 0.021, 10: 0.005, 60: 0.032, 90: 0.262, 30: 0.014}\n",
      "decade = 6\n",
      "{0: 0.1, 80: 0.062, 50: 0.019, 20: 0.004, 70: 0.032, 40: 0.017, 10: 0.004, 60: 0.026, 90: 0.21, 30: 0.011}\n",
      "decade = 7\n",
      "{0: 0.1, 80: 0.05, 50: 0.015, 20: 0.003, 70: 0.026, 40: 0.014, 10: 0.003, 60: 0.021, 90: 0.168, 30: 0.009}\n",
      "decade = 8\n",
      "{0: 0.1, 80: 0.04, 50: 0.012, 20: 0.002, 70: 0.021, 40: 0.011, 10: 0.002, 60: 0.017, 90: 0.134, 30: 0.007}\n",
      "decade = 9\n",
      "{0: 0.1, 80: 0.04, 50: 0.012, 20: 0.002, 70: 0.021, 40: 0.011, 10: 0.002, 60: 0.017, 90: 0.134, 30: 0.007}\n",
      "decade = 10\n",
      "{0: 0.1, 80: 0.04, 50: 0.012, 20: 0.002, 70: 0.021, 40: 0.011, 10: 0.002, 60: 0.017, 90: 0.134, 30: 0.007}\n",
      "decade = 11\n",
      "{0: 0.1, 80: 0.04, 50: 0.012, 20: 0.002, 70: 0.021, 40: 0.011, 10: 0.002, 60: 0.017, 90: 0.134, 30: 0.007}\n",
      "decade = 12\n",
      "{0: 0.1, 80: 0.04, 50: 0.012, 20: 0.002, 70: 0.021, 40: 0.011, 10: 0.002, 60: 0.017, 90: 0.134, 30: 0.007}\n",
      "decade = 13\n",
      "{0: 0.1, 80: 0.04, 50: 0.012, 20: 0.002, 70: 0.021, 40: 0.011, 10: 0.002, 60: 0.017, 90: 0.134, 30: 0.007}\n",
      "decade = 14\n",
      "{0: 0.1, 80: 0.04, 50: 0.012, 20: 0.002, 70: 0.021, 40: 0.011, 10: 0.002, 60: 0.017, 90: 0.134, 30: 0.007}\n",
      "decade = 15\n",
      "{0: 0.1, 80: 0.04, 50: 0.012, 20: 0.002, 70: 0.021, 40: 0.011, 10: 0.002, 60: 0.017, 90: 0.134, 30: 0.007}\n",
      "decade = 16\n",
      "{0: 0.1, 80: 0.04, 50: 0.012, 20: 0.002, 70: 0.021, 40: 0.011, 10: 0.002, 60: 0.017, 90: 0.134, 30: 0.007}\n",
      "decade = 17\n",
      "{0: 0.1, 80: 0.04, 50: 0.012, 20: 0.002, 70: 0.021, 40: 0.011, 10: 0.002, 60: 0.017, 90: 0.134, 30: 0.007}\n",
      "decade = 18\n",
      "{0: 0.1, 80: 0.04, 50: 0.012, 20: 0.002, 70: 0.021, 40: 0.011, 10: 0.002, 60: 0.017, 90: 0.134, 30: 0.007}\n",
      "decade = 19\n",
      "{0: 0.1, 80: 0.056, 50: 0.017, 20: 0.003, 70: 0.029, 40: 0.015, 10: 0.003, 60: 0.024, 90: 0.188, 30: 0.01}\n",
      "decade = 20\n",
      "{0: 0.1, 80: 0.078, 50: 0.024, 20: 0.004, 70: 0.041, 40: 0.021, 10: 0.004, 60: 0.034, 90: 0.263, 30: 0.014}\n"
     ]
    },
    {
     "data": {
      "text/plain": [
       "{0: 0.1,\n",
       " 10: 0.003,\n",
       " 20: 0.003,\n",
       " 30: 0.011,\n",
       " 40: 0.017,\n",
       " 50: 0.019,\n",
       " 60: 0.027,\n",
       " 70: 0.033,\n",
       " 80: 0.062,\n",
       " 90: 0.21}"
      ]
     },
     "execution_count": 72,
     "metadata": {},
     "output_type": "execute_result"
    }
   ],
   "source": [
    "def impact_ressources_decade(t,nmax,dpm):\n",
    "    \"\"\"int**3*dict[int:float]\n",
    "    retourne le dictionnaire pmort avec l'impact des ressources en fonction des decades\n",
    "    avec n la decade max\"\"\"\n",
    "    i=0\n",
    "    while i<=nmax:\n",
    "        print(\"decade =\",i)\n",
    "        a = impact_ressources(ressource_terre(resini,coefress,i),pmort)\n",
    "        print(a)\n",
    "        i=i+1\n",
    "    return\n",
    "impact_ressources_decade(ressource_terre(resini,coefress,1),dmax,pmort)\n",
    "impact_ressources(ressource_terre(resini,coefress,1),pmort)"
   ]
  },
  {
   "cell_type": "markdown",
   "metadata": {},
   "source": [
    "Fonction finale :"
   ]
  },
  {
   "cell_type": "code",
   "execution_count": 73,
   "metadata": {},
   "outputs": [
    {
     "data": {
      "text/plain": [
       "{1: {0: 316,\n",
       "  10: 316,\n",
       "  20: 272,\n",
       "  30: 385,\n",
       "  40: 533,\n",
       "  50: 468,\n",
       "  60: 264,\n",
       "  70: 493,\n",
       "  80: 958,\n",
       "  90: 967},\n",
       " 2: {0: 284,\n",
       "  10: 288,\n",
       "  20: 255,\n",
       "  30: 358,\n",
       "  40: 563,\n",
       "  50: 496,\n",
       "  60: 262,\n",
       "  70: 436,\n",
       "  80: 1014,\n",
       "  90: 981}}"
      ]
     },
     "execution_count": 73,
     "metadata": {},
     "output_type": "execute_result"
    }
   ],
   "source": [
    "def pop_totale_couple_fin(Pop_totale, p, pmort):\n",
    "    \n",
    "    Pop_totale = pop_decade_couple(Pop_totale, p)\n",
    "    Pop_totale = pop_vivante_couple(pmort, Pop_totale)\n",
    "    return Pop_totale\n",
    "\n",
    "\n",
    "def pop_apres_n_decade(Pop_tot, p, pmort, n, ini, x):\n",
    "    i = 0\n",
    "    while i < n :\n",
    "        Pop_tot = pop_totale_couple_fin(Pop_tot, p, pmort)\n",
    "        pmort = impact_ressources(ressource_terre(ini, x, i), pmort)\n",
    "        i = i+1\n",
    "    \n",
    "    return Pop_tot\n",
    "\n",
    "pop_apres_n_decade(Pop_totale, p, pmort, 10, resini, coefress)"
   ]
  },
  {
   "cell_type": "markdown",
   "metadata": {},
   "source": [
    "On va essayer de faire deux fonctions plots différentes.\n",
    "\n",
    "La première va nous montrer la répartition de la population en fonction du sexe et de l'age de chaque personne pour une decade donnée.\n",
    "\n",
    "La deuxième va nous montrer l'évolution de la population totale, homme et femme depuis le début jusqu'à la décénnie donnée."
   ]
  },
  {
   "cell_type": "code",
   "execution_count": 74,
   "metadata": {},
   "outputs": [
    {
     "data": {
      "text/plain": [
       "Text(0,0.5,'Population')"
      ]
     },
     "execution_count": 74,
     "metadata": {},
     "output_type": "execute_result"
    },
    {
     "data": {
      "image/png": "[encoded data removed]",
      "text/plain": [
       "<Figure size 432x288 with 1 Axes>"
      ]
     },
     "metadata": {},
     "output_type": "display_data"
    }
   ],
   "source": [
    "def list_de_pop_apres_decade(Pop_tot, p, pmort, n, ini, x):\n",
    "    \n",
    "    Pop_tot = pop_apres_n_decade(Pop_tot, p, pmort, n, ini, x)\n",
    "    pop_homme = Pop_tot[1]\n",
    "    pop_femme = Pop_tot[2]\n",
    "    L_h = []\n",
    "    L_f = []\n",
    "    L_t = []\n",
    "    i = 0\n",
    "    while i < 100 :\n",
    "        L_h.append(pop_homme[i])\n",
    "        L_f.append(pop_femme[i])\n",
    "        L_t.append(pop_homme[i] + pop_femme[i])\n",
    "        i = i + 10\n",
    "    \n",
    "    return L_h, L_f, L_t\n",
    "        \n",
    "L1, L2, L3 = list_de_pop_apres_decade(Pop_totale, p, pmort, 31, resini, coefress)\n",
    "v = [0, 10, 20, 30, 40, 50, 60, 70, 80, 90]    \n",
    "    \n",
    "plt.plot(v, L1, \"--\")\n",
    "plt.plot(v, L2, \"--\")\n",
    "plt.plot(v, L3, \"--\")\n",
    "plt.legend(\"HFT\")\n",
    "plt.xlabel(\"Age\")\n",
    "plt.ylabel(\"Population\")"
   ]
  },
  {
   "cell_type": "code",
   "execution_count": 196,
   "metadata": {},
   "outputs": [
    {
     "ename": "IndexError",
     "evalue": "tuple index out of range",
     "output_type": "error",
     "traceback": [
      "\u001b[0;31m---------------------------------------------------------------------------\u001b[0m",
      "\u001b[0;31mIndexError\u001b[0m                                Traceback (most recent call last)",
      "\u001b[0;32m<ipython-input-196-8dc9d7c185cb>\u001b[0m in \u001b[0;36m<module>\u001b[0;34m()\u001b[0m\n\u001b[1;32m     32\u001b[0m     \u001b[0;32mreturn\u001b[0m \u001b[0mL_h\u001b[0m\u001b[0;34m,\u001b[0m \u001b[0mL_f\u001b[0m\u001b[0;34m,\u001b[0m \u001b[0mL_t\u001b[0m\u001b[0;34m\u001b[0m\u001b[0m\n\u001b[1;32m     33\u001b[0m \u001b[0;34m\u001b[0m\u001b[0m\n\u001b[0;32m---> 34\u001b[0;31m \u001b[0mL1\u001b[0m\u001b[0;34m,\u001b[0m \u001b[0mL2\u001b[0m\u001b[0;34m,\u001b[0m \u001b[0mL3\u001b[0m \u001b[0;34m=\u001b[0m \u001b[0mlist_h_f_t\u001b[0m\u001b[0;34m(\u001b[0m\u001b[0mPop_totale\u001b[0m\u001b[0;34m,\u001b[0m \u001b[0mp\u001b[0m\u001b[0;34m,\u001b[0m \u001b[0mpmort\u001b[0m\u001b[0;34m,\u001b[0m \u001b[0;36m20\u001b[0m\u001b[0;34m,\u001b[0m \u001b[0mresini\u001b[0m\u001b[0;34m,\u001b[0m \u001b[0mcoefress\u001b[0m\u001b[0;34m)\u001b[0m\u001b[0;34m\u001b[0m\u001b[0m\n\u001b[0m\u001b[1;32m     35\u001b[0m \u001b[0;34m\u001b[0m\u001b[0m\n\u001b[1;32m     36\u001b[0m \u001b[0mplt\u001b[0m\u001b[0;34m.\u001b[0m\u001b[0mplot\u001b[0m\u001b[0;34m(\u001b[0m\u001b[0mL1\u001b[0m\u001b[0;34m,\u001b[0m \u001b[0;34m\"--\"\u001b[0m\u001b[0;34m)\u001b[0m\u001b[0;34m\u001b[0m\u001b[0m\n",
      "\u001b[0;32m<ipython-input-196-8dc9d7c185cb>\u001b[0m in \u001b[0;36mlist_h_f_t\u001b[0;34m(Pop_tot, p, pmort, n, ini, x)\u001b[0m\n\u001b[1;32m      7\u001b[0m     \u001b[0mi\u001b[0m \u001b[0;34m=\u001b[0m \u001b[0;36m0\u001b[0m\u001b[0;34m\u001b[0m\u001b[0m\n\u001b[1;32m      8\u001b[0m     \u001b[0;32mwhile\u001b[0m \u001b[0mi\u001b[0m \u001b[0;34m<\u001b[0m \u001b[0mn\u001b[0m \u001b[0;34m:\u001b[0m\u001b[0;34m\u001b[0m\u001b[0m\n\u001b[0;32m----> 9\u001b[0;31m         \u001b[0mPop_tot\u001b[0m \u001b[0;34m=\u001b[0m \u001b[0mpop_totale_couple_fin\u001b[0m\u001b[0;34m(\u001b[0m\u001b[0mPop_tot\u001b[0m\u001b[0;34m,\u001b[0m \u001b[0mp\u001b[0m\u001b[0;34m,\u001b[0m \u001b[0mpmort\u001b[0m\u001b[0;34m)\u001b[0m\u001b[0;34m\u001b[0m\u001b[0m\n\u001b[0m\u001b[1;32m     10\u001b[0m         \u001b[0mpop_homme\u001b[0m \u001b[0;34m=\u001b[0m \u001b[0mPop_tot\u001b[0m\u001b[0;34m[\u001b[0m\u001b[0;36m1\u001b[0m\u001b[0;34m]\u001b[0m\u001b[0;34m\u001b[0m\u001b[0m\n\u001b[1;32m     11\u001b[0m         \u001b[0mpop_femme\u001b[0m \u001b[0;34m=\u001b[0m \u001b[0mPop_tot\u001b[0m\u001b[0;34m[\u001b[0m\u001b[0;36m2\u001b[0m\u001b[0;34m]\u001b[0m\u001b[0;34m\u001b[0m\u001b[0m\n",
      "\u001b[0;32m<ipython-input-73-2ff6bcd044e5>\u001b[0m in \u001b[0;36mpop_totale_couple_fin\u001b[0;34m(Pop_totale, p, pmort)\u001b[0m\n\u001b[1;32m      1\u001b[0m \u001b[0;32mdef\u001b[0m \u001b[0mpop_totale_couple_fin\u001b[0m\u001b[0;34m(\u001b[0m\u001b[0mPop_totale\u001b[0m\u001b[0;34m,\u001b[0m \u001b[0mp\u001b[0m\u001b[0;34m,\u001b[0m \u001b[0mpmort\u001b[0m\u001b[0;34m)\u001b[0m\u001b[0;34m:\u001b[0m\u001b[0;34m\u001b[0m\u001b[0m\n\u001b[1;32m      2\u001b[0m \u001b[0;34m\u001b[0m\u001b[0m\n\u001b[0;32m----> 3\u001b[0;31m     \u001b[0mPop_totale\u001b[0m \u001b[0;34m=\u001b[0m \u001b[0mpop_decade_couple\u001b[0m\u001b[0;34m(\u001b[0m\u001b[0mPop_totale\u001b[0m\u001b[0;34m,\u001b[0m \u001b[0mp\u001b[0m\u001b[0;34m)\u001b[0m\u001b[0;34m\u001b[0m\u001b[0m\n\u001b[0m\u001b[1;32m      4\u001b[0m     \u001b[0mPop_totale\u001b[0m \u001b[0;34m=\u001b[0m \u001b[0mpop_vivante_couple\u001b[0m\u001b[0;34m(\u001b[0m\u001b[0mpmort\u001b[0m\u001b[0;34m,\u001b[0m \u001b[0mPop_totale\u001b[0m\u001b[0;34m)\u001b[0m\u001b[0;34m\u001b[0m\u001b[0m\n\u001b[1;32m      5\u001b[0m     \u001b[0;32mreturn\u001b[0m \u001b[0mPop_totale\u001b[0m\u001b[0;34m\u001b[0m\u001b[0m\n",
      "\u001b[0;32m<ipython-input-64-8f342f65f9e7>\u001b[0m in \u001b[0;36mpop_decade_couple\u001b[0;34m(Pop_totale, p)\u001b[0m\n\u001b[1;32m     19\u001b[0m \u001b[0;34m\u001b[0m\u001b[0m\n\u001b[1;32m     20\u001b[0m     \u001b[0mpoph_ev\u001b[0m\u001b[0;34m[\u001b[0m\u001b[0;36m0\u001b[0m\u001b[0;34m]\u001b[0m \u001b[0;34m=\u001b[0m \u001b[0mtri\u001b[0m\u001b[0;34m[\u001b[0m\u001b[0;36m1\u001b[0m\u001b[0;34m]\u001b[0m\u001b[0;34m\u001b[0m\u001b[0m\n\u001b[0;32m---> 21\u001b[0;31m     \u001b[0mpopf_ev\u001b[0m\u001b[0;34m[\u001b[0m\u001b[0;36m0\u001b[0m\u001b[0;34m]\u001b[0m \u001b[0;34m=\u001b[0m \u001b[0mtri\u001b[0m\u001b[0;34m[\u001b[0m\u001b[0;36m2\u001b[0m\u001b[0;34m]\u001b[0m\u001b[0;34m\u001b[0m\u001b[0m\n\u001b[0m\u001b[1;32m     22\u001b[0m \u001b[0;34m\u001b[0m\u001b[0m\n\u001b[1;32m     23\u001b[0m     \u001b[0mpop_ev\u001b[0m \u001b[0;34m=\u001b[0m \u001b[0;34m{\u001b[0m\u001b[0;36m1\u001b[0m \u001b[0;34m:\u001b[0m \u001b[0mpoph_ev\u001b[0m\u001b[0;34m,\u001b[0m \u001b[0;36m2\u001b[0m \u001b[0;34m:\u001b[0m \u001b[0mpopf_ev\u001b[0m\u001b[0;34m}\u001b[0m\u001b[0;34m\u001b[0m\u001b[0m\n",
      "\u001b[0;31mIndexError\u001b[0m: tuple index out of range"
     ]
    }
   ],
   "source": [
    "def list_h_f_t(Pop_tot, p, pmort, n, ini, x):\n",
    "    \n",
    "    L_h = []\n",
    "    L_f = []\n",
    "    L_t = []\n",
    "\n",
    "    i = 0\n",
    "    while i < n :\n",
    "        Pop_tot = pop_totale_couple_fin(Pop_tot, p, pmort)\n",
    "        pop_homme = Pop_tot[1]\n",
    "        pop_femme = Pop_tot[2]\n",
    "        \n",
    "        \n",
    "        nh = 0\n",
    "        nf = 0\n",
    "        nt = 0\n",
    "        u = 0\n",
    "        while u < 100 :\n",
    "                nh = nh + pop_homme[u]\n",
    "                nf = nf + pop_femme[u]\n",
    "                u = u + 10\n",
    "                \n",
    "        nt = nh + nf\n",
    "        L_h.append(nh)\n",
    "        L_f.append(nf)\n",
    "        L_t.append(nt)\n",
    "        \n",
    "        pmort = impact_ressources(ressource_terre(ini, x, i), pmort)\n",
    "        print(pmort)\n",
    "        i = i+1\n",
    "    \n",
    "    return L_h, L_f, L_t\n",
    "\n",
    "L1, L2, L3 = list_h_f_t(Pop_totale, p, pmort, 20, resini, coefress)\n",
    "\n",
    "plt.plot(L1, \"--\")\n",
    "plt.plot(L2, \"--\")\n",
    "plt.plot(L3, \"--\")\n",
    "plt.legend(\"HFT\")\n",
    "plt.xlabel(\"Décennie\")\n",
    "plt.ylabel(\"Population\")"
   ]
  }
 ],
 "metadata": {
  "kernelspec": {
   "display_name": "Python 3",
   "language": "python",
   "name": "python3"
  },
  "language_info": {
   "codemirror_mode": {
    "name": "ipython",
    "version": 3
   },
   "file_extension": ".py",
   "mimetype": "text/x-python",
   "name": "python",
   "nbconvert_exporter": "python",
   "pygments_lexer": "ipython3",
   "version": "3.5.3"
  }
 },
 "nbformat": 4,
 "nbformat_minor": 2
}
