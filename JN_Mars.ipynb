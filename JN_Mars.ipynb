{
 "cells": [
  {
   "cell_type": "markdown",
   "metadata": {},
   "source": [
    "Début du projet : "
   ]
  },
  {
   "cell_type": "code",
   "execution_count": 1,
   "metadata": {},
   "outputs": [],
   "source": [
    "%matplotlib inline     \n",
    "# ^Sans animations\n",
    "# %matplotlib notebook \n",
    "# ^Avec animations\n",
    "import numpy as np\n",
    "import matplotlib.pyplot as plt\n",
    "from matplotlib import animation"
   ]
  },
  {
   "cell_type": "markdown",
   "metadata": {},
   "source": [
    "On commence par faire des dictionnaires sur les probabilités de décès et de descendance en fonction de la décennie."
   ]
  },
  {
   "cell_type": "code",
   "execution_count": 186,
   "metadata": {},
   "outputs": [],
   "source": [
    "# Dictionnaire représentant la distribution de probabilité des descendants.\n",
    "# clef = nombre de descendants et valeur = probabilité\n",
    "\n",
    "p0 = {0 : 1.0}\n",
    "\n",
    "p10 = {0 : 1.0}\n",
    "\n",
    "p20 = {0 : 0.7,\n",
    "     1 : 0.2,\n",
    "     2 : 0.1}\n",
    "\n",
    "p30 = {0 : 0.5,\n",
    "     1 : 0.35,\n",
    "     2 : 0.15}\n",
    "\n",
    "p40 = {0 : 0.75,\n",
    "     1 : 0.15,\n",
    "     2 : 0.1}\n",
    "\n",
    "p50 = {0 : 0.9,\n",
    "     1 : 0.1}\n",
    "\n",
    "p60 = {0 : 1.0}\n",
    "\n",
    "p70 = {0 : 1.0}\n",
    "\n",
    "p80 = {0 : 1.0}\n",
    "\n",
    "p90 = {0 : 1.0}\n",
    "\n",
    "p = {0 : p0,\n",
    "    10 : p10,\n",
    "    20 : p20,\n",
    "    30 : p30,\n",
    "    40 : p40,\n",
    "    50 : p50,\n",
    "    60 : p60,\n",
    "    70 : p70,\n",
    "    80 : p80,\n",
    "    90 : p90}"
   ]
  },
  {
   "cell_type": "code",
   "execution_count": 187,
   "metadata": {},
   "outputs": [
    {
     "data": {
      "text/plain": [
       "2"
      ]
     },
     "execution_count": 187,
     "metadata": {},
     "output_type": "execute_result"
    }
   ],
   "source": [
    "def number_of_descendants(p, a):\n",
    "    '''\n",
    "    dict[int:dict[int:float]]*int->int\n",
    "    Étant donnée une distibution de probabilité 'p', et un age, la fonction retourne le nombre de descendants d'un individu.\n",
    "    '''\n",
    "    u = np.random.random()\n",
    "    s = 0\n",
    "    pb = p[a]\n",
    "    for k in pb.keys():\n",
    "        s += pb[k]\n",
    "        if u < s:\n",
    "            return k\n",
    "        \n",
    "number_of_descendants(p, 30)"
   ]
  },
  {
   "cell_type": "markdown",
   "metadata": {},
   "source": [
    " On teste cette fonction pour verifier la cohérence des dictionnaires de proba."
   ]
  },
  {
   "cell_type": "code",
   "execution_count": 188,
   "metadata": {},
   "outputs": [
    {
     "data": {
      "text/plain": [
       "0"
      ]
     },
     "execution_count": 188,
     "metadata": {},
     "output_type": "execute_result"
    }
   ],
   "source": [
    "def number_of_descendants_in_a_life_time(p):\n",
    "    '''\n",
    "    dict[int:dict[int:float]]->int\n",
    "    nombre de minots sur une vie\n",
    "    '''\n",
    "    a = 0\n",
    "    nb_de_m = 0\n",
    "    while a <= 90:\n",
    "        nb_de_m += number_of_descendants(p, a)\n",
    "        a += 10\n",
    "    return nb_de_m\n",
    "\n",
    "\n",
    "number_of_descendants_in_a_life_time(p)"
   ]
  },
  {
   "cell_type": "markdown",
   "metadata": {},
   "source": [
    "On créé le dictionnaire initial de la population"
   ]
  },
  {
   "cell_type": "code",
   "execution_count": 189,
   "metadata": {},
   "outputs": [],
   "source": [
    "pop_init = {0 : 0,\n",
    "    10 : 0,\n",
    "    20 : 50,\n",
    "    30 : 50,\n",
    "    40 : 10,\n",
    "    50 : 5,\n",
    "    60 : 0,\n",
    "    70 : 0,\n",
    "    80 : 0,\n",
    "    90 : 0}"
   ]
  },
  {
   "cell_type": "markdown",
   "metadata": {},
   "source": [
    "Fonction qui donne le nombre total de naissances en fonction du dictionnaire de population"
   ]
  },
  {
   "cell_type": "code",
   "execution_count": 190,
   "metadata": {},
   "outputs": [
    {
     "data": {
      "text/plain": [
       "53"
      ]
     },
     "execution_count": 190,
     "metadata": {},
     "output_type": "execute_result"
    }
   ],
   "source": [
    "def nb_naissances(p1, p2):\n",
    "    '''\n",
    "    dict[int:int]*dict[int:dict[int:float]]->int\n",
    "    renvoie le nombre de naissances pendant 10 ans\n",
    "    '''\n",
    "    a = 0\n",
    "    nv_enfant = 0\n",
    "    for a in p1:\n",
    "        b = p1[a]\n",
    "        i = 0\n",
    "        while i < b:\n",
    "            nv_enfant += number_of_descendants(p2, a)\n",
    "            i += 1\n",
    "    return nv_enfant \n",
    "\n",
    "nb_naissances(pop_init,p)     "
   ]
  },
  {
   "cell_type": "markdown",
   "metadata": {},
   "source": [
    "On met ensuite à jours le dictionnaire de population\n",
    "\n",
    "on fait l'hypothèse qu'au dessus de 99 ans, on meurt"
   ]
  },
  {
   "cell_type": "code",
   "execution_count": 191,
   "metadata": {},
   "outputs": [
    {
     "data": {
      "text/plain": [
       "{0: 62, 10: 0, 20: 0, 30: 50, 40: 50, 50: 10, 60: 5, 70: 0, 80: 0, 90: 0}"
      ]
     },
     "execution_count": 191,
     "metadata": {},
     "output_type": "execute_result"
    }
   ],
   "source": [
    "def pop_decade(pop,p):\n",
    "    '''\n",
    "    dict[int:int]*dict[int:dict[int:float]]->dict[int:int]\n",
    "    renvoie le dict de population apres une decade (lire avec l'accent svp)\n",
    "    '''\n",
    "    nv_enfant = nb_naissances(pop, p)\n",
    "    pop_ev = {}\n",
    "    i = 0\n",
    "    while i < 90:\n",
    "        pop_ev[(i + 10)] = pop[i]\n",
    "        i += 10\n",
    "        \n",
    "    pop_ev[0] = nv_enfant\n",
    "    \n",
    "    return pop_ev\n",
    "    \n",
    "\n",
    "pop_decade(pop_init,p)\n",
    "    "
   ]
  },
  {
   "cell_type": "markdown",
   "metadata": {},
   "source": [
    "On introduit ensuite à l'aide d'un dictionnaire les probabilités de mortalités."
   ]
  },
  {
   "cell_type": "code",
   "execution_count": 192,
   "metadata": {},
   "outputs": [],
   "source": [
    "# Dictionnaire représentant la distribution de probabilité de mourir.\n",
    "# clef = age et valeur = probabilité\n",
    "\n",
    "pmort = {0 : 0.1,\n",
    "    10 : 0.02,\n",
    "    20 : 0.02,\n",
    "    30 : 0.05,\n",
    "    40 : 0.08,\n",
    "    50 : 0.09,\n",
    "    60 : 0.12,\n",
    "    70 : 0.15,\n",
    "    80 : 0.30,\n",
    "    90 : 1.0}"
   ]
  },
  {
   "cell_type": "markdown",
   "metadata": {},
   "source": [
    "Puis on fait une fonction plata_o_plomo qui donne avec le dictionnaire précédent si un indivudu est mort ou pas. "
   ]
  },
  {
   "cell_type": "code",
   "execution_count": 193,
   "metadata": {},
   "outputs": [
    {
     "data": {
      "text/plain": [
       "0"
      ]
     },
     "execution_count": 193,
     "metadata": {},
     "output_type": "execute_result"
    }
   ],
   "source": [
    "def plata_o_plomo(pmort, age):\n",
    "    '''\n",
    "    dict[int:float]*int->int\n",
    "    renvoie 0 si vivant et 1 si mort\n",
    "    '''\n",
    "    u = np.random.random()\n",
    "    if u < pmort[age]:\n",
    "            return 1\n",
    "    else :\n",
    "        return 0\n",
    "plata_o_plomo(pmort,30)"
   ]
  },
  {
   "cell_type": "markdown",
   "metadata": {},
   "source": [
    "Puis on créé une fonction qui va nous donner le nombre de mort pour une generation (decade)"
   ]
  },
  {
   "cell_type": "code",
   "execution_count": 194,
   "metadata": {},
   "outputs": [
    {
     "data": {
      "text/plain": [
       "4"
      ]
     },
     "execution_count": 194,
     "metadata": {},
     "output_type": "execute_result"
    }
   ],
   "source": [
    "def mort_gen(pmort, nb_gen, age):\n",
    "    '''\n",
    "    dict[int:float]*int*int->int\n",
    "    Renvoie le nombre de mort d'une generation \n",
    "    '''\n",
    "    i = 0\n",
    "    morts = 0\n",
    "    while i < nb_gen:\n",
    "        morts += plata_o_plomo(pmort, age)\n",
    "        i += 1\n",
    "    return morts\n",
    "\n",
    "mort_gen(pmort, 50, 30)    "
   ]
  },
  {
   "cell_type": "markdown",
   "metadata": {},
   "source": [
    "On fait ensuite passer l'ensemble des générations de la population dans la fonction pour avoir le nombre de gens en vie à la decade suivante (toujours avec l'accent svp)"
   ]
  },
  {
   "cell_type": "code",
   "execution_count": 195,
   "metadata": {},
   "outputs": [
    {
     "data": {
      "text/plain": [
       "{0: 0, 10: 0, 20: 50, 30: 50, 40: 10, 50: 4, 60: 0, 70: 0, 80: 0, 90: 0}"
      ]
     },
     "execution_count": 195,
     "metadata": {},
     "output_type": "execute_result"
    }
   ],
   "source": [
    "def pop_vivante(pmort, pop):\n",
    "    '''\n",
    "    dict[int:float]*dict[int:int]->dict[int:int]\n",
    "    Renvoie la population moins les morts\n",
    "    '''\n",
    "    \n",
    "    pop_ev_ok = {}\n",
    "    i = 0\n",
    "    for i in pop :\n",
    "        pop_ev_ok[i] = pop[i] - mort_gen(pmort, pop[i], i)\n",
    "    return pop_ev_ok\n",
    "\n",
    "pop_vivante(pmort, pop_init)"
   ]
  },
  {
   "cell_type": "markdown",
   "metadata": {},
   "source": [
    "On écrit ensuite la fonction finale qui nous donne après 10 ans la population (naissance puis mort)."
   ]
  },
  {
   "cell_type": "code",
   "execution_count": 196,
   "metadata": {},
   "outputs": [
    {
     "name": "stdout",
     "output_type": "stream",
     "text": [
      "Population à la génération suivante\n"
     ]
    },
    {
     "data": {
      "text/plain": [
       "{0: 58, 10: 0, 20: 0, 30: 47, 40: 47, 50: 8, 60: 4, 70: 0, 80: 0, 90: 0}"
      ]
     },
     "execution_count": 196,
     "metadata": {},
     "output_type": "execute_result"
    }
   ],
   "source": [
    "def pop_next(pop, p, pmort):\n",
    "    \"\"\"\n",
    "    dict[int:int]*dict[int:dict[int:float]]*dict[int:float]->dict[int:int]\n",
    "    renvoie la population a la génération suivante\n",
    "    \"\"\"\n",
    "    popnext = pop_decade(pop, p)\n",
    "    popnext = pop_vivante(pmort, popnext)\n",
    "    \n",
    "    return popnext\n",
    "\n",
    "print(\"Population à la génération suivante\")\n",
    "pop_next(pop_init, p, pmort)"
   ]
  },
  {
   "cell_type": "markdown",
   "metadata": {},
   "source": [
    "On introduit ensuite une fonction pour avoir la population Pop après une nombre de decade d."
   ]
  },
  {
   "cell_type": "code",
   "execution_count": 200,
   "metadata": {},
   "outputs": [
    {
     "name": "stdout",
     "output_type": "stream",
     "text": [
      "Population à la decade d\n",
      "Decade =  10\n",
      "age = 0 , Population =  55\n",
      "age = 10 , Population =  0\n",
      "age = 20 , Population =  0\n",
      "age = 30 , Population =  50\n",
      "age = 40 , Population =  45\n",
      "age = 50 , Population =  10\n",
      "age = 60 , Population =  2\n",
      "age = 70 , Population =  0\n",
      "age = 80 , Population =  0\n",
      "age = 90 , Population =  0\n",
      "Population totale =  162\n",
      " \n",
      "Decade =  20\n",
      "age = 0 , Population =  47\n",
      "age = 10 , Population =  52\n",
      "age = 20 , Population =  0\n",
      "age = 30 , Population =  0\n",
      "age = 40 , Population =  48\n",
      "age = 50 , Population =  44\n",
      "age = 60 , Population =  10\n",
      "age = 70 , Population =  2\n",
      "age = 80 , Population =  0\n",
      "age = 90 , Population =  0\n",
      "Population totale =  203\n",
      " \n",
      "Decade =  30\n",
      "age = 0 , Population =  32\n",
      "age = 10 , Population =  46\n",
      "age = 20 , Population =  51\n",
      "age = 30 , Population =  0\n",
      "age = 40 , Population =  0\n",
      "age = 50 , Population =  47\n",
      "age = 60 , Population =  37\n",
      "age = 70 , Population =  9\n",
      "age = 80 , Population =  1\n",
      "age = 90 , Population =  0\n",
      "Population totale =  223\n",
      " \n",
      "Decade =  40\n",
      "age = 0 , Population =  15\n",
      "age = 10 , Population =  32\n",
      "age = 20 , Population =  45\n",
      "age = 30 , Population =  48\n",
      "age = 40 , Population =  0\n",
      "age = 50 , Population =  0\n",
      "age = 60 , Population =  44\n",
      "age = 70 , Population =  32\n",
      "age = 80 , Population =  5\n",
      "age = 90 , Population =  0\n",
      "Population totale =  221\n",
      " \n",
      "Decade =  50\n",
      "age = 0 , Population =  42\n",
      "age = 10 , Population =  15\n",
      "age = 20 , Population =  31\n",
      "age = 30 , Population =  45\n",
      "age = 40 , Population =  46\n",
      "age = 50 , Population =  0\n",
      "age = 60 , Population =  0\n",
      "age = 70 , Population =  38\n",
      "age = 80 , Population =  20\n",
      "age = 90 , Population =  0\n",
      "Population totale =  237\n",
      " \n",
      "Decade =  60\n",
      "age = 0 , Population =  52\n",
      "age = 10 , Population =  41\n",
      "age = 20 , Population =  15\n",
      "age = 30 , Population =  30\n",
      "age = 40 , Population =  38\n",
      "age = 50 , Population =  42\n",
      "age = 60 , Population =  0\n",
      "age = 70 , Population =  0\n",
      "age = 80 , Population =  29\n",
      "age = 90 , Population =  0\n",
      "Population totale =  247\n",
      " \n",
      "Decade =  70\n",
      "age = 0 , Population =  27\n",
      "age = 10 , Population =  51\n",
      "age = 20 , Population =  40\n",
      "age = 30 , Population =  14\n",
      "age = 40 , Population =  27\n",
      "age = 50 , Population =  35\n",
      "age = 60 , Population =  32\n",
      "age = 70 , Population =  0\n",
      "age = 80 , Population =  0\n",
      "age = 90 , Population =  0\n",
      "Population totale =  226\n",
      " \n",
      "Decade =  80\n",
      "age = 0 , Population =  31\n",
      "age = 10 , Population =  27\n",
      "age = 20 , Population =  48\n",
      "age = 30 , Population =  37\n",
      "age = 40 , Population =  12\n",
      "age = 50 , Population =  26\n",
      "age = 60 , Population =  32\n",
      "age = 70 , Population =  27\n",
      "age = 80 , Population =  0\n",
      "age = 90 , Population =  0\n",
      "Population totale =  240\n",
      " \n",
      "Decade =  90\n",
      "age = 0 , Population =  41\n",
      "age = 10 , Population =  31\n",
      "age = 20 , Population =  26\n",
      "age = 30 , Population =  46\n",
      "age = 40 , Population =  35\n",
      "age = 50 , Population =  10\n",
      "age = 60 , Population =  22\n",
      "age = 70 , Population =  28\n",
      "age = 80 , Population =  17\n",
      "age = 90 , Population =  0\n",
      "Population totale =  256\n",
      " \n",
      "Decade =  100\n",
      "age = 0 , Population =  42\n",
      "age = 10 , Population =  41\n",
      "age = 20 , Population =  30\n",
      "age = 30 , Population =  25\n",
      "age = 40 , Population =  41\n",
      "age = 50 , Population =  31\n",
      "age = 60 , Population =  7\n",
      "age = 70 , Population =  21\n",
      "age = 80 , Population =  22\n",
      "age = 90 , Population =  0\n",
      "Population totale =  260\n",
      " \n",
      "Decade =  110\n",
      "age = 0 , Population =  39\n",
      "age = 10 , Population =  42\n",
      "age = 20 , Population =  40\n",
      "age = 30 , Population =  29\n",
      "age = 40 , Population =  23\n",
      "age = 50 , Population =  33\n",
      "age = 60 , Population =  27\n",
      "age = 70 , Population =  4\n",
      "age = 80 , Population =  15\n",
      "age = 90 , Population =  0\n",
      "Population totale =  252\n",
      " \n",
      "Decade =  120\n",
      "age = 0 , Population =  44\n",
      "age = 10 , Population =  39\n",
      "age = 20 , Population =  41\n",
      "age = 30 , Population =  39\n",
      "age = 40 , Population =  28\n",
      "age = 50 , Population =  22\n",
      "age = 60 , Population =  32\n",
      "age = 70 , Population =  26\n",
      "age = 80 , Population =  3\n",
      "age = 90 , Population =  0\n",
      "Population totale =  274\n",
      " \n",
      "Decade =  130\n",
      "age = 0 , Population =  41\n",
      "age = 10 , Population =  43\n",
      "age = 20 , Population =  38\n",
      "age = 30 , Population =  38\n",
      "age = 40 , Population =  34\n",
      "age = 50 , Population =  25\n",
      "age = 60 , Population =  19\n",
      "age = 70 , Population =  28\n",
      "age = 80 , Population =  18\n",
      "age = 90 , Population =  0\n",
      "Population totale =  284\n",
      " \n",
      "Decade =  140\n",
      "age = 0 , Population =  65\n",
      "age = 10 , Population =  41\n",
      "age = 20 , Population =  41\n",
      "age = 30 , Population =  36\n",
      "age = 40 , Population =  36\n",
      "age = 50 , Population =  33\n",
      "age = 60 , Population =  21\n",
      "age = 70 , Population =  15\n",
      "age = 80 , Population =  17\n",
      "age = 90 , Population =  0\n",
      "Population totale =  305\n",
      " \n",
      "Decade =  150\n",
      "age = 0 , Population =  44\n",
      "age = 10 , Population =  65\n",
      "age = 20 , Population =  41\n",
      "age = 30 , Population =  38\n",
      "age = 40 , Population =  30\n",
      "age = 50 , Population =  31\n",
      "age = 60 , Population =  29\n",
      "age = 70 , Population =  18\n",
      "age = 80 , Population =  9\n",
      "age = 90 , Population =  0\n",
      "Population totale =  305\n",
      " \n",
      "Decade =  160\n",
      "age = 0 , Population =  52\n",
      "age = 10 , Population =  43\n",
      "age = 20 , Population =  63\n",
      "age = 30 , Population =  40\n",
      "age = 40 , Population =  37\n",
      "age = 50 , Population =  27\n",
      "age = 60 , Population =  29\n",
      "age = 70 , Population =  25\n",
      "age = 80 , Population =  12\n",
      "age = 90 , Population =  0\n",
      "Population totale =  328\n",
      " \n",
      "Decade =  170\n",
      "age = 0 , Population =  54\n",
      "age = 10 , Population =  52\n",
      "age = 20 , Population =  41\n",
      "age = 30 , Population =  59\n",
      "age = 40 , Population =  35\n",
      "age = 50 , Population =  35\n",
      "age = 60 , Population =  26\n",
      "age = 70 , Population =  27\n",
      "age = 80 , Population =  14\n",
      "age = 90 , Population =  0\n",
      "Population totale =  343\n",
      " \n",
      "Decade =  180\n",
      "age = 0 , Population =  66\n",
      "age = 10 , Population =  53\n",
      "age = 20 , Population =  50\n",
      "age = 30 , Population =  37\n",
      "age = 40 , Population =  54\n",
      "age = 50 , Population =  31\n",
      "age = 60 , Population =  33\n",
      "age = 70 , Population =  25\n",
      "age = 80 , Population =  19\n",
      "age = 90 , Population =  0\n",
      "Population totale =  368\n",
      " \n",
      "Decade =  190\n",
      "age = 0 , Population =  49\n",
      "age = 10 , Population =  66\n",
      "age = 20 , Population =  52\n",
      "age = 30 , Population =  45\n",
      "age = 40 , Population =  34\n",
      "age = 50 , Population =  52\n",
      "age = 60 , Population =  27\n",
      "age = 70 , Population =  28\n",
      "age = 80 , Population =  21\n",
      "age = 90 , Population =  0\n",
      "Population totale =  374\n",
      " \n",
      "Decade =  200\n",
      "age = 0 , Population =  53\n",
      "age = 10 , Population =  48\n",
      "age = 20 , Population =  65\n",
      "age = 30 , Population =  50\n",
      "age = 40 , Population =  40\n",
      "age = 50 , Population =  32\n",
      "age = 60 , Population =  48\n",
      "age = 70 , Population =  25\n",
      "age = 80 , Population =  27\n",
      "age = 90 , Population =  0\n",
      "Population totale =  388\n",
      " \n"
     ]
    },
    {
     "data": {
      "text/plain": [
       "{0: 53, 10: 48, 20: 65, 30: 50, 40: 40, 50: 32, 60: 48, 70: 25, 80: 27, 90: 0}"
      ]
     },
     "execution_count": 200,
     "metadata": {},
     "output_type": "execute_result"
    }
   ],
   "source": [
    "def pop_after_d(pop, p , pmort, d):\n",
    "    \"\"\"\n",
    "    dict[int:int]*dict[int:dict[int:float]]*dict[int:float]*int->dict[int:int]\n",
    "    Renvoie la population à la decade d\n",
    "    \"\"\"\n",
    "    for i in range(d):\n",
    "        print(\"Decade = \", ((i + 1)*10))\n",
    "        pop = pop_next(pop, p, pmort)\n",
    "        pop_totale = 0\n",
    "        j = 0\n",
    "        while j <= 90 : \n",
    "            print(\"age =\", j,\", Population = \",pop[j])\n",
    "            pop_totale = pop_totale + pop[j]\n",
    "            j = j + 10\n",
    "        print(\"Population totale = \", pop_totale)\n",
    "        print(\" \")\n",
    "    return pop\n",
    "\n",
    "print(\"Population à la decade d\")\n",
    "pop_after_d(pop_init, p, pmort, 20)"
   ]
  },
  {
   "cell_type": "markdown",
   "metadata": {},
   "source": [
    "Fonction pour savoir ou bout de combien de decade on arrive "
   ]
  },
  {
   "cell_type": "code",
   "execution_count": null,
   "metadata": {},
   "outputs": [],
   "source": []
  }
 ],
 "metadata": {
  "kernelspec": {
   "display_name": "Python 3",
   "language": "python",
   "name": "python3"
  },
  "language_info": {
   "codemirror_mode": {
    "name": "ipython",
    "version": 3
   },
   "file_extension": ".py",
   "mimetype": "text/x-python",
   "name": "python",
   "nbconvert_exporter": "python",
   "pygments_lexer": "ipython3",
   "version": "3.5.3"
  }
 },
 "nbformat": 4,
 "nbformat_minor": 2
}
