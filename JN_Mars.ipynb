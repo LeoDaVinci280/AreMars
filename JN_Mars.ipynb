{
 "cells": [
  {
   "cell_type": "markdown",
   "metadata": {},
   "source": [
    "Début du projet : "
   ]
  },
  {
   "cell_type": "code",
   "execution_count": 1,
   "metadata": {},
   "outputs": [],
   "source": [
    "%matplotlib inline     \n",
    "# ^Sans animations\n",
    "# %matplotlib notebook \n",
    "# ^Avec animations\n",
    "import numpy as np\n",
    "import matplotlib.pyplot as plt\n",
    "from matplotlib import animation"
   ]
  },
  {
   "cell_type": "markdown",
   "metadata": {},
   "source": [
    "On commence par faire des dictionnaires sur les probabilités de décès et de descendance en fonction de la décennie."
   ]
  },
  {
   "cell_type": "code",
   "execution_count": 7,
   "metadata": {},
   "outputs": [],
   "source": [
    "# Dictionnaire représentant la distribution de probabilité des descendants.\n",
    "# clef = nombre de descendants et valeur = probabilité\n",
    "\n",
    "p0 = {0 : 1.0}\n",
    "\n",
    "p10 = {0 : 1.0}\n",
    "\n",
    "p20 = {0 : 0.9,\n",
    "     1 : 0.08,\n",
    "     2 : 0.02}\n",
    "\n",
    "p30 = {0 : 0.7,\n",
    "     1 : 0.2,\n",
    "     2 : 0.1}\n",
    "\n",
    "p40 = {0 : 0.75,\n",
    "     1 : 0.15,\n",
    "     2 : 0.1}\n",
    "\n",
    "p50 = {0 : 0.9,\n",
    "     1 : 0.1}\n",
    "\n",
    "p60 = {0 : 1.0}\n",
    "\n",
    "p70 = {0 : 1.0}\n",
    "\n",
    "p80 = {0 : 1.0}\n",
    "\n",
    "p90 = {0 : 1.0}\n",
    "\n",
    "p = {0 : p0,\n",
    "    10 : p10,\n",
    "    20 : p20,\n",
    "    30 : p30,\n",
    "    40 : p40,\n",
    "    50 : p50,\n",
    "    60 : p60,\n",
    "    70 : p70,\n",
    "    80 : p80,\n",
    "    90 : p90}"
   ]
  },
  {
   "cell_type": "code",
   "execution_count": 354,
   "metadata": {},
   "outputs": [
    {
     "data": {
      "text/plain": [
       "0"
      ]
     },
     "execution_count": 354,
     "metadata": {},
     "output_type": "execute_result"
    }
   ],
   "source": [
    "def number_of_descendants(p, a):\n",
    "    '''\n",
    "    dict[int:dict[int:float]]*int->int\n",
    "    Étant donnée une distibution de probabilité 'p', et un age, la fonction retourne le nombre de descendants d'un individu.\n",
    "    '''\n",
    "    u = np.random.random()\n",
    "    s = 0\n",
    "    pb = p[a]\n",
    "    for k in pb.keys():\n",
    "        s += pb[k]\n",
    "        if u < s:\n",
    "            return k\n",
    "        \n",
    "number_of_descendants(p, 30)"
   ]
  },
  {
   "cell_type": "markdown",
   "metadata": {},
   "source": [
    " On teste cette fonction pour verifier la cohérence des dictionnaires de proba."
   ]
  },
  {
   "cell_type": "code",
   "execution_count": 383,
   "metadata": {},
   "outputs": [
    {
     "data": {
      "text/plain": [
       "1"
      ]
     },
     "execution_count": 383,
     "metadata": {},
     "output_type": "execute_result"
    }
   ],
   "source": [
    "def number_of_descendants_in_a_life_time(p):\n",
    "    '''\n",
    "    dict[int:dict[int:float]]->int\n",
    "    nombre de minots sur une vie\n",
    "    '''\n",
    "    a = 0\n",
    "    nb_de_m = 0\n",
    "    while a <= 90:\n",
    "        nb_de_m += number_of_descendants(p, a)\n",
    "        a += 10\n",
    "    return nb_de_m\n",
    "\n",
    "\n",
    "number_of_descendants_in_a_life_time(p)"
   ]
  },
  {
   "cell_type": "markdown",
   "metadata": {},
   "source": [
    "On créé le dictionnaire initial de la population"
   ]
  },
  {
   "cell_type": "code",
   "execution_count": 390,
   "metadata": {},
   "outputs": [],
   "source": [
    "pop_init = {0 : 0,\n",
    "    10 : 0,\n",
    "    20 : 50,\n",
    "    30 : 50,\n",
    "    40 : 10,\n",
    "    50 : 5,\n",
    "    60 : 0,\n",
    "    70 : 0,\n",
    "    80 : 0,\n",
    "    90 : 0}"
   ]
  },
  {
   "cell_type": "markdown",
   "metadata": {},
   "source": [
    "Fonction qui donne le nombre total de naissances en fonction du dictionnaire de population"
   ]
  },
  {
   "cell_type": "code",
   "execution_count": 401,
   "metadata": {},
   "outputs": [
    {
     "data": {
      "text/plain": [
       "35"
      ]
     },
     "execution_count": 401,
     "metadata": {},
     "output_type": "execute_result"
    }
   ],
   "source": [
    "def nb_naissances(p1, p2):\n",
    "    '''\n",
    "    dict[int:int]*dict[int:dict[int:float]]->int\n",
    "    renvoie le nombre de naissances pendant 10 ans\n",
    "    '''\n",
    "    a = 0\n",
    "    nv_enfant = 0\n",
    "    for a in p1:\n",
    "        b = p1[a]\n",
    "        i = 0\n",
    "        while i < b:\n",
    "            nv_enfant += number_of_descendants(p2, a)\n",
    "            i += 1\n",
    "    return nv_enfant \n",
    "\n",
    "nb_naissances(pop_init,p)     "
   ]
  },
  {
   "cell_type": "markdown",
   "metadata": {},
   "source": [
    "On met ensuite à jours le dictionnaire de population\n",
    "\n",
    "on fait l'hypothèse qu'au dessus de 99 ans, on meurt"
   ]
  },
  {
   "cell_type": "code",
   "execution_count": 404,
   "metadata": {},
   "outputs": [
    {
     "data": {
      "text/plain": [
       "({0: 0, 10: 0, 20: 50, 30: 50, 40: 10, 50: 5, 60: 0, 70: 0, 80: 0, 90: 0},\n",
       " {0: 31, 10: 0, 20: 0, 30: 50, 40: 50, 50: 10, 60: 5, 70: 0, 80: 0, 90: 0})"
      ]
     },
     "execution_count": 404,
     "metadata": {},
     "output_type": "execute_result"
    }
   ],
   "source": [
    "def pop_decade(pop,p):\n",
    "    '''\n",
    "    dict[int:int]*dict[int:dict[int:float]]->dict[int:int]\n",
    "    renvoie le dict de population apres une decade (lire avec l'accent svp)\n",
    "    '''\n",
    "    nv_enfant = nb_naissances(pop, p)\n",
    "    pop_ev = {}\n",
    "    i = 0\n",
    "    while i < 90:\n",
    "        pop_ev[(i + 10)] = pop[i]\n",
    "        i += 10\n",
    "        \n",
    "    pop_ev[0] = nv_enfant\n",
    "    \n",
    "    return pop_ev\n",
    "    \n",
    "\n",
    "pop_decade(pop_init,p)\n",
    "    "
   ]
  },
  {
   "cell_type": "code",
   "execution_count": null,
   "metadata": {},
   "outputs": [],
   "source": []
  }
 ],
 "metadata": {
  "kernelspec": {
   "display_name": "Python 3",
   "language": "python",
   "name": "python3"
  },
  "language_info": {
   "codemirror_mode": {
    "name": "ipython",
    "version": 3
   },
   "file_extension": ".py",
   "mimetype": "text/x-python",
   "name": "python",
   "nbconvert_exporter": "python",
   "pygments_lexer": "ipython3",
   "version": "3.5.3"
  }
 },
 "nbformat": 4,
 "nbformat_minor": 2
}
